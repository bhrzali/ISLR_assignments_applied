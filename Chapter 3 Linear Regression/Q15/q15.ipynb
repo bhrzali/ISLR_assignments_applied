{
 "cells": [
  {
   "cell_type": "markdown",
   "metadata": {},
   "source": [
    "Chapter 3 Linear Regression, Q15"
   ]
  },
  {
   "cell_type": "code",
   "execution_count": 42,
   "metadata": {
    "collapsed": true
   },
   "outputs": [],
   "source": [
    "library(MASS)"
   ]
  },
  {
   "cell_type": "markdown",
   "metadata": {},
   "source": [
    "# (a)"
   ]
  },
  {
   "cell_type": "code",
   "execution_count": 43,
   "metadata": {
    "collapsed": false
   },
   "outputs": [
    {
     "data": {
      "text/plain": [
       "      crim                zn             indus            chas        \n",
       " Min.   : 0.00632   Min.   :  0.00   Min.   : 0.46   Min.   :0.00000  \n",
       " 1st Qu.: 0.08204   1st Qu.:  0.00   1st Qu.: 5.19   1st Qu.:0.00000  \n",
       " Median : 0.25651   Median :  0.00   Median : 9.69   Median :0.00000  \n",
       " Mean   : 3.61352   Mean   : 11.36   Mean   :11.14   Mean   :0.06917  \n",
       " 3rd Qu.: 3.67708   3rd Qu.: 12.50   3rd Qu.:18.10   3rd Qu.:0.00000  \n",
       " Max.   :88.97620   Max.   :100.00   Max.   :27.74   Max.   :1.00000  \n",
       "      nox               rm             age              dis        \n",
       " Min.   :0.3850   Min.   :3.561   Min.   :  2.90   Min.   : 1.130  \n",
       " 1st Qu.:0.4490   1st Qu.:5.886   1st Qu.: 45.02   1st Qu.: 2.100  \n",
       " Median :0.5380   Median :6.208   Median : 77.50   Median : 3.207  \n",
       " Mean   :0.5547   Mean   :6.285   Mean   : 68.57   Mean   : 3.795  \n",
       " 3rd Qu.:0.6240   3rd Qu.:6.623   3rd Qu.: 94.08   3rd Qu.: 5.188  \n",
       " Max.   :0.8710   Max.   :8.780   Max.   :100.00   Max.   :12.127  \n",
       "      rad              tax           ptratio          black       \n",
       " Min.   : 1.000   Min.   :187.0   Min.   :12.60   Min.   :  0.32  \n",
       " 1st Qu.: 4.000   1st Qu.:279.0   1st Qu.:17.40   1st Qu.:375.38  \n",
       " Median : 5.000   Median :330.0   Median :19.05   Median :391.44  \n",
       " Mean   : 9.549   Mean   :408.2   Mean   :18.46   Mean   :356.67  \n",
       " 3rd Qu.:24.000   3rd Qu.:666.0   3rd Qu.:20.20   3rd Qu.:396.23  \n",
       " Max.   :24.000   Max.   :711.0   Max.   :22.00   Max.   :396.90  \n",
       "     lstat            medv      \n",
       " Min.   : 1.73   Min.   : 5.00  \n",
       " 1st Qu.: 6.95   1st Qu.:17.02  \n",
       " Median :11.36   Median :21.20  \n",
       " Mean   :12.65   Mean   :22.53  \n",
       " 3rd Qu.:16.95   3rd Qu.:25.00  \n",
       " Max.   :37.97   Max.   :50.00  "
      ]
     },
     "metadata": {},
     "output_type": "display_data"
    }
   ],
   "source": [
    "summary(Boston)"
   ]
  },
  {
   "cell_type": "code",
   "execution_count": 44,
   "metadata": {
    "collapsed": false
   },
   "outputs": [
    {
     "data": {
      "text/plain": [
       "\n",
       "Call:\n",
       "lm(formula = crim ~ zn, data = Boston)\n",
       "\n",
       "Residuals:\n",
       "   Min     1Q Median     3Q    Max \n",
       "-4.429 -4.222 -2.620  1.250 84.523 \n",
       "\n",
       "Coefficients:\n",
       "            Estimate Std. Error t value Pr(>|t|)    \n",
       "(Intercept)  4.45369    0.41722  10.675  < 2e-16 ***\n",
       "zn          -0.07393    0.01609  -4.594 5.51e-06 ***\n",
       "---\n",
       "Signif. codes:  0 ‘***’ 0.001 ‘**’ 0.01 ‘*’ 0.05 ‘.’ 0.1 ‘ ’ 1\n",
       "\n",
       "Residual standard error: 8.435 on 504 degrees of freedom\n",
       "Multiple R-squared:  0.04019,\tAdjusted R-squared:  0.03828 \n",
       "F-statistic:  21.1 on 1 and 504 DF,  p-value: 5.506e-06\n"
      ]
     },
     "metadata": {},
     "output_type": "display_data"
    }
   ],
   "source": [
    "lm.fit1 = lm(crim~zn,data=Boston)\n",
    "summary(lm.fit1)"
   ]
  },
  {
   "cell_type": "code",
   "execution_count": 45,
   "metadata": {
    "collapsed": false
   },
   "outputs": [
    {
     "data": {
      "text/plain": [
       "\n",
       "Call:\n",
       "lm(formula = crim ~ indus, data = Boston)\n",
       "\n",
       "Residuals:\n",
       "    Min      1Q  Median      3Q     Max \n",
       "-11.972  -2.698  -0.736   0.712  81.813 \n",
       "\n",
       "Coefficients:\n",
       "            Estimate Std. Error t value Pr(>|t|)    \n",
       "(Intercept) -2.06374    0.66723  -3.093  0.00209 ** \n",
       "indus        0.50978    0.05102   9.991  < 2e-16 ***\n",
       "---\n",
       "Signif. codes:  0 ‘***’ 0.001 ‘**’ 0.01 ‘*’ 0.05 ‘.’ 0.1 ‘ ’ 1\n",
       "\n",
       "Residual standard error: 7.866 on 504 degrees of freedom\n",
       "Multiple R-squared:  0.1653,\tAdjusted R-squared:  0.1637 \n",
       "F-statistic: 99.82 on 1 and 504 DF,  p-value: < 2.2e-16\n"
      ]
     },
     "metadata": {},
     "output_type": "display_data"
    }
   ],
   "source": [
    "lm.fit2 = lm(crim~indus,data=Boston)\n",
    "summary(lm.fit2)"
   ]
  },
  {
   "cell_type": "code",
   "execution_count": 46,
   "metadata": {
    "collapsed": false
   },
   "outputs": [
    {
     "data": {
      "text/plain": [
       "\n",
       "Call:\n",
       "lm(formula = crim ~ chas2, data = Boston)\n",
       "\n",
       "Residuals:\n",
       "   Min     1Q Median     3Q    Max \n",
       "-3.738 -3.661 -3.435  0.018 85.232 \n",
       "\n",
       "Coefficients:\n",
       "            Estimate Std. Error t value Pr(>|t|)    \n",
       "(Intercept)   3.7444     0.3961   9.453   <2e-16 ***\n",
       "chas21       -1.8928     1.5061  -1.257    0.209    \n",
       "---\n",
       "Signif. codes:  0 ‘***’ 0.001 ‘**’ 0.01 ‘*’ 0.05 ‘.’ 0.1 ‘ ’ 1\n",
       "\n",
       "Residual standard error: 8.597 on 504 degrees of freedom\n",
       "Multiple R-squared:  0.003124,\tAdjusted R-squared:  0.001146 \n",
       "F-statistic: 1.579 on 1 and 504 DF,  p-value: 0.2094\n"
      ]
     },
     "metadata": {},
     "output_type": "display_data"
    }
   ],
   "source": [
    "chas2 = as.factor(Boston$chas) #making chas a qualitative variable\n",
    "lm.fit3 = lm(crim~chas2,data=Boston)\n",
    "summary(lm.fit3)"
   ]
  },
  {
   "cell_type": "code",
   "execution_count": 47,
   "metadata": {
    "collapsed": false
   },
   "outputs": [
    {
     "data": {
      "text/plain": [
       "\n",
       "Call:\n",
       "lm(formula = crim ~ nox, data = Boston)\n",
       "\n",
       "Residuals:\n",
       "    Min      1Q  Median      3Q     Max \n",
       "-12.371  -2.738  -0.974   0.559  81.728 \n",
       "\n",
       "Coefficients:\n",
       "            Estimate Std. Error t value Pr(>|t|)    \n",
       "(Intercept)  -13.720      1.699  -8.073 5.08e-15 ***\n",
       "nox           31.249      2.999  10.419  < 2e-16 ***\n",
       "---\n",
       "Signif. codes:  0 ‘***’ 0.001 ‘**’ 0.01 ‘*’ 0.05 ‘.’ 0.1 ‘ ’ 1\n",
       "\n",
       "Residual standard error: 7.81 on 504 degrees of freedom\n",
       "Multiple R-squared:  0.1772,\tAdjusted R-squared:  0.1756 \n",
       "F-statistic: 108.6 on 1 and 504 DF,  p-value: < 2.2e-16\n"
      ]
     },
     "metadata": {},
     "output_type": "display_data"
    }
   ],
   "source": [
    "lm.fit4 = lm(crim~nox,data=Boston)\n",
    "summary(lm.fit4)"
   ]
  },
  {
   "cell_type": "code",
   "execution_count": 48,
   "metadata": {
    "collapsed": false
   },
   "outputs": [
    {
     "data": {
      "text/plain": [
       "\n",
       "Call:\n",
       "lm(formula = crim ~ rm, data = Boston)\n",
       "\n",
       "Residuals:\n",
       "   Min     1Q Median     3Q    Max \n",
       "-6.604 -3.952 -2.654  0.989 87.197 \n",
       "\n",
       "Coefficients:\n",
       "            Estimate Std. Error t value Pr(>|t|)    \n",
       "(Intercept)   20.482      3.365   6.088 2.27e-09 ***\n",
       "rm            -2.684      0.532  -5.045 6.35e-07 ***\n",
       "---\n",
       "Signif. codes:  0 ‘***’ 0.001 ‘**’ 0.01 ‘*’ 0.05 ‘.’ 0.1 ‘ ’ 1\n",
       "\n",
       "Residual standard error: 8.401 on 504 degrees of freedom\n",
       "Multiple R-squared:  0.04807,\tAdjusted R-squared:  0.04618 \n",
       "F-statistic: 25.45 on 1 and 504 DF,  p-value: 6.347e-07\n"
      ]
     },
     "metadata": {},
     "output_type": "display_data"
    }
   ],
   "source": [
    "lm.fit5 = lm(crim~rm,data=Boston)\n",
    "summary(lm.fit5)"
   ]
  },
  {
   "cell_type": "code",
   "execution_count": 49,
   "metadata": {
    "collapsed": false
   },
   "outputs": [
    {
     "data": {
      "text/plain": [
       "\n",
       "Call:\n",
       "lm(formula = crim ~ age, data = Boston)\n",
       "\n",
       "Residuals:\n",
       "   Min     1Q Median     3Q    Max \n",
       "-6.789 -4.257 -1.230  1.527 82.849 \n",
       "\n",
       "Coefficients:\n",
       "            Estimate Std. Error t value Pr(>|t|)    \n",
       "(Intercept) -3.77791    0.94398  -4.002 7.22e-05 ***\n",
       "age          0.10779    0.01274   8.463 2.85e-16 ***\n",
       "---\n",
       "Signif. codes:  0 ‘***’ 0.001 ‘**’ 0.01 ‘*’ 0.05 ‘.’ 0.1 ‘ ’ 1\n",
       "\n",
       "Residual standard error: 8.057 on 504 degrees of freedom\n",
       "Multiple R-squared:  0.1244,\tAdjusted R-squared:  0.1227 \n",
       "F-statistic: 71.62 on 1 and 504 DF,  p-value: 2.855e-16\n"
      ]
     },
     "metadata": {},
     "output_type": "display_data"
    }
   ],
   "source": [
    "lm.fit6 = lm(crim~age,data=Boston)\n",
    "summary(lm.fit6)"
   ]
  },
  {
   "cell_type": "code",
   "execution_count": 50,
   "metadata": {
    "collapsed": false
   },
   "outputs": [
    {
     "data": {
      "text/plain": [
       "\n",
       "Call:\n",
       "lm(formula = crim ~ dis, data = Boston)\n",
       "\n",
       "Residuals:\n",
       "   Min     1Q Median     3Q    Max \n",
       "-6.708 -4.134 -1.527  1.516 81.674 \n",
       "\n",
       "Coefficients:\n",
       "            Estimate Std. Error t value Pr(>|t|)    \n",
       "(Intercept)   9.4993     0.7304  13.006   <2e-16 ***\n",
       "dis          -1.5509     0.1683  -9.213   <2e-16 ***\n",
       "---\n",
       "Signif. codes:  0 ‘***’ 0.001 ‘**’ 0.01 ‘*’ 0.05 ‘.’ 0.1 ‘ ’ 1\n",
       "\n",
       "Residual standard error: 7.965 on 504 degrees of freedom\n",
       "Multiple R-squared:  0.1441,\tAdjusted R-squared:  0.1425 \n",
       "F-statistic: 84.89 on 1 and 504 DF,  p-value: < 2.2e-16\n"
      ]
     },
     "metadata": {},
     "output_type": "display_data"
    }
   ],
   "source": [
    "lm.fit7 = lm(crim~dis,data=Boston)\n",
    "summary(lm.fit7)"
   ]
  },
  {
   "cell_type": "code",
   "execution_count": 51,
   "metadata": {
    "collapsed": false
   },
   "outputs": [
    {
     "data": {
      "text/plain": [
       "\n",
       "Call:\n",
       "lm(formula = crim ~ rad, data = Boston)\n",
       "\n",
       "Residuals:\n",
       "    Min      1Q  Median      3Q     Max \n",
       "-10.164  -1.381  -0.141   0.660  76.433 \n",
       "\n",
       "Coefficients:\n",
       "            Estimate Std. Error t value Pr(>|t|)    \n",
       "(Intercept) -2.28716    0.44348  -5.157 3.61e-07 ***\n",
       "rad          0.61791    0.03433  17.998  < 2e-16 ***\n",
       "---\n",
       "Signif. codes:  0 ‘***’ 0.001 ‘**’ 0.01 ‘*’ 0.05 ‘.’ 0.1 ‘ ’ 1\n",
       "\n",
       "Residual standard error: 6.718 on 504 degrees of freedom\n",
       "Multiple R-squared:  0.3913,\tAdjusted R-squared:   0.39 \n",
       "F-statistic: 323.9 on 1 and 504 DF,  p-value: < 2.2e-16\n"
      ]
     },
     "metadata": {},
     "output_type": "display_data"
    }
   ],
   "source": [
    "lm.fit8 = lm(crim~rad,data=Boston)\n",
    "summary(lm.fit8)"
   ]
  },
  {
   "cell_type": "code",
   "execution_count": 52,
   "metadata": {
    "collapsed": false
   },
   "outputs": [
    {
     "data": {
      "text/plain": [
       "\n",
       "Call:\n",
       "lm(formula = crim ~ tax, data = Boston)\n",
       "\n",
       "Residuals:\n",
       "    Min      1Q  Median      3Q     Max \n",
       "-12.513  -2.738  -0.194   1.065  77.696 \n",
       "\n",
       "Coefficients:\n",
       "             Estimate Std. Error t value Pr(>|t|)    \n",
       "(Intercept) -8.528369   0.815809  -10.45   <2e-16 ***\n",
       "tax          0.029742   0.001847   16.10   <2e-16 ***\n",
       "---\n",
       "Signif. codes:  0 ‘***’ 0.001 ‘**’ 0.01 ‘*’ 0.05 ‘.’ 0.1 ‘ ’ 1\n",
       "\n",
       "Residual standard error: 6.997 on 504 degrees of freedom\n",
       "Multiple R-squared:  0.3396,\tAdjusted R-squared:  0.3383 \n",
       "F-statistic: 259.2 on 1 and 504 DF,  p-value: < 2.2e-16\n"
      ]
     },
     "metadata": {},
     "output_type": "display_data"
    }
   ],
   "source": [
    "lm.fit9 = lm(crim~tax,data=Boston)\n",
    "summary(lm.fit9)"
   ]
  },
  {
   "cell_type": "code",
   "execution_count": 53,
   "metadata": {
    "collapsed": false
   },
   "outputs": [
    {
     "data": {
      "text/plain": [
       "\n",
       "Call:\n",
       "lm(formula = crim ~ ptratio, data = Boston)\n",
       "\n",
       "Residuals:\n",
       "   Min     1Q Median     3Q    Max \n",
       "-7.654 -3.985 -1.912  1.825 83.353 \n",
       "\n",
       "Coefficients:\n",
       "            Estimate Std. Error t value Pr(>|t|)    \n",
       "(Intercept) -17.6469     3.1473  -5.607 3.40e-08 ***\n",
       "ptratio       1.1520     0.1694   6.801 2.94e-11 ***\n",
       "---\n",
       "Signif. codes:  0 ‘***’ 0.001 ‘**’ 0.01 ‘*’ 0.05 ‘.’ 0.1 ‘ ’ 1\n",
       "\n",
       "Residual standard error: 8.24 on 504 degrees of freedom\n",
       "Multiple R-squared:  0.08407,\tAdjusted R-squared:  0.08225 \n",
       "F-statistic: 46.26 on 1 and 504 DF,  p-value: 2.943e-11\n"
      ]
     },
     "metadata": {},
     "output_type": "display_data"
    }
   ],
   "source": [
    "lm.fit10 = lm(crim~ptratio,data=Boston)\n",
    "summary(lm.fit10)"
   ]
  },
  {
   "cell_type": "code",
   "execution_count": 54,
   "metadata": {
    "collapsed": false
   },
   "outputs": [
    {
     "data": {
      "text/plain": [
       "\n",
       "Call:\n",
       "lm(formula = crim ~ black, data = Boston)\n",
       "\n",
       "Residuals:\n",
       "    Min      1Q  Median      3Q     Max \n",
       "-13.756  -2.299  -2.095  -1.296  86.822 \n",
       "\n",
       "Coefficients:\n",
       "             Estimate Std. Error t value Pr(>|t|)    \n",
       "(Intercept) 16.553529   1.425903  11.609   <2e-16 ***\n",
       "black       -0.036280   0.003873  -9.367   <2e-16 ***\n",
       "---\n",
       "Signif. codes:  0 ‘***’ 0.001 ‘**’ 0.01 ‘*’ 0.05 ‘.’ 0.1 ‘ ’ 1\n",
       "\n",
       "Residual standard error: 7.946 on 504 degrees of freedom\n",
       "Multiple R-squared:  0.1483,\tAdjusted R-squared:  0.1466 \n",
       "F-statistic: 87.74 on 1 and 504 DF,  p-value: < 2.2e-16\n"
      ]
     },
     "metadata": {},
     "output_type": "display_data"
    }
   ],
   "source": [
    "lm.fit11 = lm(crim~black,data=Boston)\n",
    "summary(lm.fit11)"
   ]
  },
  {
   "cell_type": "code",
   "execution_count": 55,
   "metadata": {
    "collapsed": false
   },
   "outputs": [
    {
     "data": {
      "text/plain": [
       "\n",
       "Call:\n",
       "lm(formula = crim ~ lstat, data = Boston)\n",
       "\n",
       "Residuals:\n",
       "    Min      1Q  Median      3Q     Max \n",
       "-13.925  -2.822  -0.664   1.079  82.862 \n",
       "\n",
       "Coefficients:\n",
       "            Estimate Std. Error t value Pr(>|t|)    \n",
       "(Intercept) -3.33054    0.69376  -4.801 2.09e-06 ***\n",
       "lstat        0.54880    0.04776  11.491  < 2e-16 ***\n",
       "---\n",
       "Signif. codes:  0 ‘***’ 0.001 ‘**’ 0.01 ‘*’ 0.05 ‘.’ 0.1 ‘ ’ 1\n",
       "\n",
       "Residual standard error: 7.664 on 504 degrees of freedom\n",
       "Multiple R-squared:  0.2076,\tAdjusted R-squared:  0.206 \n",
       "F-statistic:   132 on 1 and 504 DF,  p-value: < 2.2e-16\n"
      ]
     },
     "metadata": {},
     "output_type": "display_data"
    }
   ],
   "source": [
    "lm.fit12 = lm(crim~lstat,data=Boston)\n",
    "summary(lm.fit12)"
   ]
  },
  {
   "cell_type": "code",
   "execution_count": 56,
   "metadata": {
    "collapsed": false
   },
   "outputs": [
    {
     "data": {
      "text/plain": [
       "\n",
       "Call:\n",
       "lm(formula = crim ~ medv, data = Boston)\n",
       "\n",
       "Residuals:\n",
       "   Min     1Q Median     3Q    Max \n",
       "-9.071 -4.022 -2.343  1.298 80.957 \n",
       "\n",
       "Coefficients:\n",
       "            Estimate Std. Error t value Pr(>|t|)    \n",
       "(Intercept) 11.79654    0.93419   12.63   <2e-16 ***\n",
       "medv        -0.36316    0.03839   -9.46   <2e-16 ***\n",
       "---\n",
       "Signif. codes:  0 ‘***’ 0.001 ‘**’ 0.01 ‘*’ 0.05 ‘.’ 0.1 ‘ ’ 1\n",
       "\n",
       "Residual standard error: 7.934 on 504 degrees of freedom\n",
       "Multiple R-squared:  0.1508,\tAdjusted R-squared:  0.1491 \n",
       "F-statistic: 89.49 on 1 and 504 DF,  p-value: < 2.2e-16\n"
      ]
     },
     "metadata": {},
     "output_type": "display_data"
    }
   ],
   "source": [
    "lm.fit13 = lm(crim~medv,data=Boston)\n",
    "summary(lm.fit13)"
   ]
  },
  {
   "cell_type": "markdown",
   "metadata": {},
   "source": [
    "As we notice only the p-value associated with the f-statistic for the model with \"chas\" as predictor has a value larger than 5%. So we can conclude that the response, crim, is not associated with the predictor, \"chas.\""
   ]
  },
  {
   "cell_type": "markdown",
   "metadata": {},
   "source": [
    "# (b)"
   ]
  },
  {
   "cell_type": "code",
   "execution_count": 57,
   "metadata": {
    "collapsed": true
   },
   "outputs": [],
   "source": [
    "Boston2 = Boston\n",
    "Boston2[,4]=as.factor(chas)"
   ]
  },
  {
   "cell_type": "code",
   "execution_count": 58,
   "metadata": {
    "collapsed": false
   },
   "outputs": [
    {
     "data": {
      "text/plain": [
       "      crim                zn             indus       chas         nox        \n",
       " Min.   : 0.00632   Min.   :  0.00   Min.   : 0.46   0:471   Min.   :0.3850  \n",
       " 1st Qu.: 0.08204   1st Qu.:  0.00   1st Qu.: 5.19   1: 35   1st Qu.:0.4490  \n",
       " Median : 0.25651   Median :  0.00   Median : 9.69           Median :0.5380  \n",
       " Mean   : 3.61352   Mean   : 11.36   Mean   :11.14           Mean   :0.5547  \n",
       " 3rd Qu.: 3.67708   3rd Qu.: 12.50   3rd Qu.:18.10           3rd Qu.:0.6240  \n",
       " Max.   :88.97620   Max.   :100.00   Max.   :27.74           Max.   :0.8710  \n",
       "       rm             age              dis              rad        \n",
       " Min.   :3.561   Min.   :  2.90   Min.   : 1.130   Min.   : 1.000  \n",
       " 1st Qu.:5.886   1st Qu.: 45.02   1st Qu.: 2.100   1st Qu.: 4.000  \n",
       " Median :6.208   Median : 77.50   Median : 3.207   Median : 5.000  \n",
       " Mean   :6.285   Mean   : 68.57   Mean   : 3.795   Mean   : 9.549  \n",
       " 3rd Qu.:6.623   3rd Qu.: 94.08   3rd Qu.: 5.188   3rd Qu.:24.000  \n",
       " Max.   :8.780   Max.   :100.00   Max.   :12.127   Max.   :24.000  \n",
       "      tax           ptratio          black            lstat      \n",
       " Min.   :187.0   Min.   :12.60   Min.   :  0.32   Min.   : 1.73  \n",
       " 1st Qu.:279.0   1st Qu.:17.40   1st Qu.:375.38   1st Qu.: 6.95  \n",
       " Median :330.0   Median :19.05   Median :391.44   Median :11.36  \n",
       " Mean   :408.2   Mean   :18.46   Mean   :356.67   Mean   :12.65  \n",
       " 3rd Qu.:666.0   3rd Qu.:20.20   3rd Qu.:396.23   3rd Qu.:16.95  \n",
       " Max.   :711.0   Max.   :22.00   Max.   :396.90   Max.   :37.97  \n",
       "      medv      \n",
       " Min.   : 5.00  \n",
       " 1st Qu.:17.02  \n",
       " Median :21.20  \n",
       " Mean   :22.53  \n",
       " 3rd Qu.:25.00  \n",
       " Max.   :50.00  "
      ]
     },
     "metadata": {},
     "output_type": "display_data"
    }
   ],
   "source": [
    "summary(Boston2)"
   ]
  },
  {
   "cell_type": "code",
   "execution_count": 59,
   "metadata": {
    "collapsed": false
   },
   "outputs": [
    {
     "data": {
      "text/plain": [
       "\n",
       "Call:\n",
       "lm(formula = crim ~ ., data = Boston2)\n",
       "\n",
       "Residuals:\n",
       "   Min     1Q Median     3Q    Max \n",
       "-9.924 -2.120 -0.353  1.019 75.051 \n",
       "\n",
       "Coefficients:\n",
       "              Estimate Std. Error t value Pr(>|t|)    \n",
       "(Intercept)  17.033228   7.234903   2.354 0.018949 *  \n",
       "zn            0.044855   0.018734   2.394 0.017025 *  \n",
       "indus        -0.063855   0.083407  -0.766 0.444294    \n",
       "chas1        -0.749134   1.180147  -0.635 0.525867    \n",
       "nox         -10.313535   5.275536  -1.955 0.051152 .  \n",
       "rm            0.430131   0.612830   0.702 0.483089    \n",
       "age           0.001452   0.017925   0.081 0.935488    \n",
       "dis          -0.987176   0.281817  -3.503 0.000502 ***\n",
       "rad           0.588209   0.088049   6.680 6.46e-11 ***\n",
       "tax          -0.003780   0.005156  -0.733 0.463793    \n",
       "ptratio      -0.271081   0.186450  -1.454 0.146611    \n",
       "black        -0.007538   0.003673  -2.052 0.040702 *  \n",
       "lstat         0.126211   0.075725   1.667 0.096208 .  \n",
       "medv         -0.198887   0.060516  -3.287 0.001087 ** \n",
       "---\n",
       "Signif. codes:  0 ‘***’ 0.001 ‘**’ 0.01 ‘*’ 0.05 ‘.’ 0.1 ‘ ’ 1\n",
       "\n",
       "Residual standard error: 6.439 on 492 degrees of freedom\n",
       "Multiple R-squared:  0.454,\tAdjusted R-squared:  0.4396 \n",
       "F-statistic: 31.47 on 13 and 492 DF,  p-value: < 2.2e-16\n"
      ]
     },
     "metadata": {},
     "output_type": "display_data"
    }
   ],
   "source": [
    "lm.fit_all = lm(crim~.,data=Boston2)\n",
    "summary(lm.fit_all)"
   ]
  },
  {
   "cell_type": "markdown",
   "metadata": {},
   "source": [
    "For all the predictors whose associated p-value is near zero the null hypothesis that Beta-j = 0 can be rejected. We can't reject the null hypothesis for Intercept, zn, age, rad, black, and medv."
   ]
  },
  {
   "cell_type": "markdown",
   "metadata": {},
   "source": [
    "# (c)"
   ]
  },
  {
   "cell_type": "code",
   "execution_count": 60,
   "metadata": {
    "collapsed": false
   },
   "outputs": [],
   "source": [
    "coef_simple = c(coef(lm.fit1)[-1],\n",
    "                coef(lm.fit2)[-1],\n",
    "                coef(lm.fit3)[-1],\n",
    "                coef(lm.fit4)[-1],\n",
    "                coef(lm.fit5)[-1],\n",
    "                coef(lm.fit6)[-1],\n",
    "                coef(lm.fit7)[-1],\n",
    "                coef(lm.fit8)[-1],\n",
    "                coef(lm.fit9)[-1],\n",
    "                coef(lm.fit10)[-1],\n",
    "                coef(lm.fit11)[-1],\n",
    "                coef(lm.fit12)[-1],\n",
    "                coef(lm.fit13)[-1])"
   ]
  },
  {
   "cell_type": "code",
   "execution_count": 73,
   "metadata": {
    "collapsed": false
   },
   "outputs": [
    {
     "data": {
      "image/png": "[encoded data removed]",
      "text/plain": [
       "plot without title"
      ]
     },
     "metadata": {},
     "output_type": "display_data"
    }
   ],
   "source": [
    "coef_multi = coef(lm.fit_all)[-1]\n",
    "plot(coef_simple, coef_multi)"
   ]
  },
  {
   "cell_type": "markdown",
   "metadata": {},
   "source": [
    "The coefficient for nox is -10 in multi regression model and 31 in simple linear regression model."
   ]
  },
  {
   "cell_type": "markdown",
   "metadata": {},
   "source": [
    "# (d)"
   ]
  },
  {
   "cell_type": "code",
   "execution_count": 104,
   "metadata": {
    "collapsed": false
   },
   "outputs": [
    {
     "name": "stdout",
     "output_type": "stream",
     "text": [
      "[1] \"zn\"\n",
      "\n",
      "Call:\n",
      "lm(formula = crim ~ poly(pred, 3), data = Boston)\n",
      "\n",
      "Residuals:\n",
      "   Min     1Q Median     3Q    Max \n",
      "-4.821 -4.614 -1.294  0.473 84.130 \n",
      "\n",
      "Coefficients:\n",
      "               Estimate Std. Error t value Pr(>|t|)    \n",
      "(Intercept)      3.6135     0.3722   9.709  < 2e-16 ***\n",
      "poly(pred, 3)1 -38.7498     8.3722  -4.628  4.7e-06 ***\n",
      "poly(pred, 3)2  23.9398     8.3722   2.859  0.00442 ** \n",
      "poly(pred, 3)3 -10.0719     8.3722  -1.203  0.22954    \n",
      "---\n",
      "Signif. codes:  0 ‘***’ 0.001 ‘**’ 0.01 ‘*’ 0.05 ‘.’ 0.1 ‘ ’ 1\n",
      "\n",
      "Residual standard error: 8.372 on 502 degrees of freedom\n",
      "Multiple R-squared:  0.05824,\tAdjusted R-squared:  0.05261 \n",
      "F-statistic: 10.35 on 3 and 502 DF,  p-value: 1.281e-06\n",
      "\n",
      "[1] \"indus\"\n",
      "\n",
      "Call:\n",
      "lm(formula = crim ~ poly(pred, 3), data = Boston)\n",
      "\n",
      "Residuals:\n",
      "   Min     1Q Median     3Q    Max \n",
      "-8.278 -2.514  0.054  0.764 79.713 \n",
      "\n",
      "Coefficients:\n",
      "               Estimate Std. Error t value Pr(>|t|)    \n",
      "(Intercept)       3.614      0.330  10.950  < 2e-16 ***\n",
      "poly(pred, 3)1   78.591      7.423  10.587  < 2e-16 ***\n",
      "poly(pred, 3)2  -24.395      7.423  -3.286  0.00109 ** \n",
      "poly(pred, 3)3  -54.130      7.423  -7.292  1.2e-12 ***\n",
      "---\n",
      "Signif. codes:  0 ‘***’ 0.001 ‘**’ 0.01 ‘*’ 0.05 ‘.’ 0.1 ‘ ’ 1\n",
      "\n",
      "Residual standard error: 7.423 on 502 degrees of freedom\n",
      "Multiple R-squared:  0.2597,\tAdjusted R-squared:  0.2552 \n",
      "F-statistic: 58.69 on 3 and 502 DF,  p-value: < 2.2e-16\n",
      "\n",
      "[1] \"nox\"\n",
      "\n",
      "Call:\n",
      "lm(formula = crim ~ poly(pred, 3), data = Boston)\n",
      "\n",
      "Residuals:\n",
      "   Min     1Q Median     3Q    Max \n",
      "-9.110 -2.068 -0.255  0.739 78.302 \n",
      "\n",
      "Coefficients:\n",
      "               Estimate Std. Error t value Pr(>|t|)    \n",
      "(Intercept)      3.6135     0.3216  11.237  < 2e-16 ***\n",
      "poly(pred, 3)1  81.3720     7.2336  11.249  < 2e-16 ***\n",
      "poly(pred, 3)2 -28.8286     7.2336  -3.985 7.74e-05 ***\n",
      "poly(pred, 3)3 -60.3619     7.2336  -8.345 6.96e-16 ***\n",
      "---\n",
      "Signif. codes:  0 ‘***’ 0.001 ‘**’ 0.01 ‘*’ 0.05 ‘.’ 0.1 ‘ ’ 1\n",
      "\n",
      "Residual standard error: 7.234 on 502 degrees of freedom\n",
      "Multiple R-squared:  0.297,\tAdjusted R-squared:  0.2928 \n",
      "F-statistic: 70.69 on 3 and 502 DF,  p-value: < 2.2e-16\n",
      "\n",
      "[1] \"rm\"\n",
      "\n",
      "Call:\n",
      "lm(formula = crim ~ poly(pred, 3), data = Boston)\n",
      "\n",
      "Residuals:\n",
      "    Min      1Q  Median      3Q     Max \n",
      "-18.485  -3.468  -2.221  -0.015  87.219 \n",
      "\n",
      "Coefficients:\n",
      "               Estimate Std. Error t value Pr(>|t|)    \n",
      "(Intercept)      3.6135     0.3703   9.758  < 2e-16 ***\n",
      "poly(pred, 3)1 -42.3794     8.3297  -5.088 5.13e-07 ***\n",
      "poly(pred, 3)2  26.5768     8.3297   3.191  0.00151 ** \n",
      "poly(pred, 3)3  -5.5103     8.3297  -0.662  0.50858    \n",
      "---\n",
      "Signif. codes:  0 ‘***’ 0.001 ‘**’ 0.01 ‘*’ 0.05 ‘.’ 0.1 ‘ ’ 1\n",
      "\n",
      "Residual standard error: 8.33 on 502 degrees of freedom\n",
      "Multiple R-squared:  0.06779,\tAdjusted R-squared:  0.06222 \n",
      "F-statistic: 12.17 on 3 and 502 DF,  p-value: 1.067e-07\n",
      "\n",
      "[1] \"age\"\n",
      "\n",
      "Call:\n",
      "lm(formula = crim ~ poly(pred, 3), data = Boston)\n",
      "\n",
      "Residuals:\n",
      "   Min     1Q Median     3Q    Max \n",
      "-9.762 -2.673 -0.516  0.019 82.842 \n",
      "\n",
      "Coefficients:\n",
      "               Estimate Std. Error t value Pr(>|t|)    \n",
      "(Intercept)      3.6135     0.3485  10.368  < 2e-16 ***\n",
      "poly(pred, 3)1  68.1820     7.8397   8.697  < 2e-16 ***\n",
      "poly(pred, 3)2  37.4845     7.8397   4.781 2.29e-06 ***\n",
      "poly(pred, 3)3  21.3532     7.8397   2.724  0.00668 ** \n",
      "---\n",
      "Signif. codes:  0 ‘***’ 0.001 ‘**’ 0.01 ‘*’ 0.05 ‘.’ 0.1 ‘ ’ 1\n",
      "\n",
      "Residual standard error: 7.84 on 502 degrees of freedom\n",
      "Multiple R-squared:  0.1742,\tAdjusted R-squared:  0.1693 \n",
      "F-statistic: 35.31 on 3 and 502 DF,  p-value: < 2.2e-16\n",
      "\n",
      "[1] \"dis\"\n",
      "\n",
      "Call:\n",
      "lm(formula = crim ~ poly(pred, 3), data = Boston)\n",
      "\n",
      "Residuals:\n",
      "    Min      1Q  Median      3Q     Max \n",
      "-10.757  -2.588   0.031   1.267  76.378 \n",
      "\n",
      "Coefficients:\n",
      "               Estimate Std. Error t value Pr(>|t|)    \n",
      "(Intercept)      3.6135     0.3259  11.087  < 2e-16 ***\n",
      "poly(pred, 3)1 -73.3886     7.3315 -10.010  < 2e-16 ***\n",
      "poly(pred, 3)2  56.3730     7.3315   7.689 7.87e-14 ***\n",
      "poly(pred, 3)3 -42.6219     7.3315  -5.814 1.09e-08 ***\n",
      "---\n",
      "Signif. codes:  0 ‘***’ 0.001 ‘**’ 0.01 ‘*’ 0.05 ‘.’ 0.1 ‘ ’ 1\n",
      "\n",
      "Residual standard error: 7.331 on 502 degrees of freedom\n",
      "Multiple R-squared:  0.2778,\tAdjusted R-squared:  0.2735 \n",
      "F-statistic: 64.37 on 3 and 502 DF,  p-value: < 2.2e-16\n",
      "\n",
      "[1] \"rad\"\n",
      "\n",
      "Call:\n",
      "lm(formula = crim ~ poly(pred, 3), data = Boston)\n",
      "\n",
      "Residuals:\n",
      "    Min      1Q  Median      3Q     Max \n",
      "-10.381  -0.412  -0.269   0.179  76.217 \n",
      "\n",
      "Coefficients:\n",
      "               Estimate Std. Error t value Pr(>|t|)    \n",
      "(Intercept)      3.6135     0.2971  12.164  < 2e-16 ***\n",
      "poly(pred, 3)1 120.9074     6.6824  18.093  < 2e-16 ***\n",
      "poly(pred, 3)2  17.4923     6.6824   2.618  0.00912 ** \n",
      "poly(pred, 3)3   4.6985     6.6824   0.703  0.48231    \n",
      "---\n",
      "Signif. codes:  0 ‘***’ 0.001 ‘**’ 0.01 ‘*’ 0.05 ‘.’ 0.1 ‘ ’ 1\n",
      "\n",
      "Residual standard error: 6.682 on 502 degrees of freedom\n",
      "Multiple R-squared:    0.4,\tAdjusted R-squared:  0.3965 \n",
      "F-statistic: 111.6 on 3 and 502 DF,  p-value: < 2.2e-16\n",
      "\n",
      "[1] \"tax\"\n",
      "\n",
      "Call:\n",
      "lm(formula = crim ~ poly(pred, 3), data = Boston)\n",
      "\n",
      "Residuals:\n",
      "    Min      1Q  Median      3Q     Max \n",
      "-13.273  -1.389   0.046   0.536  76.950 \n",
      "\n",
      "Coefficients:\n",
      "               Estimate Std. Error t value Pr(>|t|)    \n",
      "(Intercept)      3.6135     0.3047  11.860  < 2e-16 ***\n",
      "poly(pred, 3)1 112.6458     6.8537  16.436  < 2e-16 ***\n",
      "poly(pred, 3)2  32.0873     6.8537   4.682 3.67e-06 ***\n",
      "poly(pred, 3)3  -7.9968     6.8537  -1.167    0.244    \n",
      "---\n",
      "Signif. codes:  0 ‘***’ 0.001 ‘**’ 0.01 ‘*’ 0.05 ‘.’ 0.1 ‘ ’ 1\n",
      "\n",
      "Residual standard error: 6.854 on 502 degrees of freedom\n",
      "Multiple R-squared:  0.3689,\tAdjusted R-squared:  0.3651 \n",
      "F-statistic:  97.8 on 3 and 502 DF,  p-value: < 2.2e-16\n",
      "\n",
      "[1] \"ptratio\"\n",
      "\n",
      "Call:\n",
      "lm(formula = crim ~ poly(pred, 3), data = Boston)\n",
      "\n",
      "Residuals:\n",
      "   Min     1Q Median     3Q    Max \n",
      "-6.833 -4.146 -1.655  1.408 82.697 \n",
      "\n",
      "Coefficients:\n",
      "               Estimate Std. Error t value Pr(>|t|)    \n",
      "(Intercept)       3.614      0.361  10.008  < 2e-16 ***\n",
      "poly(pred, 3)1   56.045      8.122   6.901 1.57e-11 ***\n",
      "poly(pred, 3)2   24.775      8.122   3.050  0.00241 ** \n",
      "poly(pred, 3)3  -22.280      8.122  -2.743  0.00630 ** \n",
      "---\n",
      "Signif. codes:  0 ‘***’ 0.001 ‘**’ 0.01 ‘*’ 0.05 ‘.’ 0.1 ‘ ’ 1\n",
      "\n",
      "Residual standard error: 8.122 on 502 degrees of freedom\n",
      "Multiple R-squared:  0.1138,\tAdjusted R-squared:  0.1085 \n",
      "F-statistic: 21.48 on 3 and 502 DF,  p-value: 4.171e-13\n",
      "\n",
      "[1] \"black\"\n",
      "\n",
      "Call:\n",
      "lm(formula = crim ~ poly(pred, 3), data = Boston)\n",
      "\n",
      "Residuals:\n",
      "    Min      1Q  Median      3Q     Max \n",
      "-13.096  -2.343  -2.128  -1.439  86.790 \n",
      "\n",
      "Coefficients:\n",
      "               Estimate Std. Error t value Pr(>|t|)    \n",
      "(Intercept)      3.6135     0.3536  10.218   <2e-16 ***\n",
      "poly(pred, 3)1 -74.4312     7.9546  -9.357   <2e-16 ***\n",
      "poly(pred, 3)2   5.9264     7.9546   0.745    0.457    \n",
      "poly(pred, 3)3  -4.8346     7.9546  -0.608    0.544    \n",
      "---\n",
      "Signif. codes:  0 ‘***’ 0.001 ‘**’ 0.01 ‘*’ 0.05 ‘.’ 0.1 ‘ ’ 1\n",
      "\n",
      "Residual standard error: 7.955 on 502 degrees of freedom\n",
      "Multiple R-squared:  0.1498,\tAdjusted R-squared:  0.1448 \n",
      "F-statistic: 29.49 on 3 and 502 DF,  p-value: < 2.2e-16\n",
      "\n",
      "[1] \"lstat\"\n",
      "\n",
      "Call:\n",
      "lm(formula = crim ~ poly(pred, 3), data = Boston)\n",
      "\n",
      "Residuals:\n",
      "    Min      1Q  Median      3Q     Max \n",
      "-15.234  -2.151  -0.486   0.066  83.353 \n",
      "\n",
      "Coefficients:\n",
      "               Estimate Std. Error t value Pr(>|t|)    \n",
      "(Intercept)      3.6135     0.3392  10.654   <2e-16 ***\n",
      "poly(pred, 3)1  88.0697     7.6294  11.543   <2e-16 ***\n",
      "poly(pred, 3)2  15.8882     7.6294   2.082   0.0378 *  \n",
      "poly(pred, 3)3 -11.5740     7.6294  -1.517   0.1299    \n",
      "---\n",
      "Signif. codes:  0 ‘***’ 0.001 ‘**’ 0.01 ‘*’ 0.05 ‘.’ 0.1 ‘ ’ 1\n",
      "\n",
      "Residual standard error: 7.629 on 502 degrees of freedom\n",
      "Multiple R-squared:  0.2179,\tAdjusted R-squared:  0.2133 \n",
      "F-statistic: 46.63 on 3 and 502 DF,  p-value: < 2.2e-16\n",
      "\n",
      "[1] \"medv\"\n",
      "\n",
      "Call:\n",
      "lm(formula = crim ~ poly(pred, 3), data = Boston)\n",
      "\n",
      "Residuals:\n",
      "    Min      1Q  Median      3Q     Max \n",
      "-24.427  -1.976  -0.437   0.439  73.655 \n",
      "\n",
      "Coefficients:\n",
      "               Estimate Std. Error t value Pr(>|t|)    \n",
      "(Intercept)       3.614      0.292  12.374  < 2e-16 ***\n",
      "poly(pred, 3)1  -75.058      6.569 -11.426  < 2e-16 ***\n",
      "poly(pred, 3)2   88.086      6.569  13.409  < 2e-16 ***\n",
      "poly(pred, 3)3  -48.033      6.569  -7.312 1.05e-12 ***\n",
      "---\n",
      "Signif. codes:  0 ‘***’ 0.001 ‘**’ 0.01 ‘*’ 0.05 ‘.’ 0.1 ‘ ’ 1\n",
      "\n",
      "Residual standard error: 6.569 on 502 degrees of freedom\n",
      "Multiple R-squared:  0.4202,\tAdjusted R-squared:  0.4167 \n",
      "F-statistic: 121.3 on 3 and 502 DF,  p-value: < 2.2e-16\n",
      "\n"
     ]
    }
   ],
   "source": [
    "for (p in 2:length(Boston)){\n",
    "    pred = Boston[,p]\n",
    "    if (colnames(Boston)[p]!=\"chas\"){\n",
    "        print(colnames(Boston)[p])\n",
    "        lm.fit = lm(crim~poly(pred,3), data=Boston)\n",
    "        print(summary(lm.fit))\n",
    "    }\n",
    "}"
   ]
  },
  {
   "cell_type": "markdown",
   "metadata": {},
   "source": [
    "In the models in which the p-values of the quadratic or cubic terms are near zero, there is an evidence of non-linear relationship between the respecitve predictor and the response. There is nonlinearity between response and the following predictors. zn, indus, nox, rm, age, rad, tax, dis, ptratio, lastat and medv."
   ]
  },
  {
   "cell_type": "code",
   "execution_count": null,
   "metadata": {
    "collapsed": true
   },
   "outputs": [],
   "source": []
  }
 ],
 "metadata": {
  "kernelspec": {
   "display_name": "R",
   "language": "R",
   "name": "ir"
  },
  "language_info": {
   "codemirror_mode": "r",
   "file_extension": ".r",
   "mimetype": "text/x-r-source",
   "name": "R",
   "pygments_lexer": "r",
   "version": "3.2.2"
  }
 },
 "nbformat": 4,
 "nbformat_minor": 0
}
