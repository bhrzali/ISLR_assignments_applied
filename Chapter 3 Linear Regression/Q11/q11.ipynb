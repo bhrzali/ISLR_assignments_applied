{
 "cells": [
  {
   "cell_type": "markdown",
   "metadata": {},
   "source": [
    "Chapter 3 Linear Regression Question 11"
   ]
  },
  {
   "cell_type": "markdown",
   "metadata": {},
   "source": [
    "$\\beta = \\frac{\\sum xy}{\\sum x^{2}} \\hspace{1cm} SE(\\beta )=\\sqrt{\\frac{\\sum (y-x\\beta )^{2}}{(n-1)\\sum x^{2}}}\n",
    "\\\\\n",
    "t-statistic = \\frac{\\beta }{SE(\\beta)} = \\frac{\\sum xy}{\\sum x^{2}} * \\sqrt{\\frac{(n-1)\\sum x^{2}}{\\sum (y-x\\beta )^{2}}}\n",
    "\\\\\n",
    "= \\sqrt{(\\frac{\\sum xy}{\\sum x^{2}})^{2}} * \\sqrt{\\frac{(n-1)\\sum x^{2}}{\\sum (y-x\\beta )^{2}}}\n",
    "\\\\\n",
    "= \\sqrt{\\frac {(\\sum xy)^2 (n-1) \\sum x^2}{(\\sum x^{2})^2 \\sum (y^{2}-2xy\\beta+x^2 \\beta)}}\n",
    "\\\\\n",
    "= \\sqrt{\\frac {(\\sum xy)^2 (n-1)}{\\sum x^{2} \\sum (y^{2}-2xy\\beta+x^2 \\beta)}}\n",
    "\\\\\n",
    "= \\sqrt{\\frac {(\\sum xy)^2 (n-1)}{\\sum x^{2} (\\sum y^{2} -2\\beta\\sum xy + \\beta^{2} \\sum x^{2})}}\n",
    "\\\\\n",
    "= \\sqrt{\\frac {(\\sum xy)^2 (n-1)}{\\sum x^{2} (\\sum y^{2} -2\\frac{\\sum xy}{\\sum x^{2}}\\sum xy + (\\frac{\\sum xy}{\\sum x^{2}})^{2} \\sum x^{2})}}\n",
    "\\\\\n",
    "= \\sqrt{\\frac {(\\sum xy)^2 (n-1)}{\\sum x^{2} \\sum y^{2}-2(\\sum xy)^{2} + (\\sum xy)^{2}}}\n",
    "\\\\\n",
    "= \\sqrt{\\frac {(\\sum xy)^2 (n-1)}{\\sum x^{2} \\sum y^{2}-(\\sum xy)^{2}}}\n",
    "\\\\\n",
    "= \\frac {\\sqrt{(n-1)}\\sum xy}{\\sqrt{\\sum x^{2} \\sum y^{2}-(\\sum xy)^{2}}}$"
   ]
  },
  {
   "cell_type": "code",
   "execution_count": 1,
   "metadata": {
    "collapsed": true
   },
   "outputs": [],
   "source": [
    "set.seed(1)\n",
    "x=rnorm(100)\n",
    "y=2*x+rnorm(100)"
   ]
  },
  {
   "cell_type": "markdown",
   "metadata": {},
   "source": [
    "# (a)"
   ]
  },
  {
   "cell_type": "code",
   "execution_count": 2,
   "metadata": {
    "collapsed": false
   },
   "outputs": [
    {
     "data": {
      "text/plain": [
       "\n",
       "Call:\n",
       "lm(formula = y ~ x + 0)\n",
       "\n",
       "Residuals:\n",
       "    Min      1Q  Median      3Q     Max \n",
       "-1.9154 -0.6472 -0.1771  0.5056  2.3109 \n",
       "\n",
       "Coefficients:\n",
       "  Estimate Std. Error t value Pr(>|t|)    \n",
       "x   1.9939     0.1065   18.73   <2e-16 ***\n",
       "---\n",
       "Signif. codes:  0 ‘***’ 0.001 ‘**’ 0.01 ‘*’ 0.05 ‘.’ 0.1 ‘ ’ 1\n",
       "\n",
       "Residual standard error: 0.9586 on 99 degrees of freedom\n",
       "Multiple R-squared:  0.7798,\tAdjusted R-squared:  0.7776 \n",
       "F-statistic: 350.7 on 1 and 99 DF,  p-value: < 2.2e-16\n"
      ]
     },
     "metadata": {},
     "output_type": "display_data"
    }
   ],
   "source": [
    "lm.fit = lm(y~x+0)\n",
    "summary(lm.fit)"
   ]
  },
  {
   "cell_type": "code",
   "execution_count": 3,
   "metadata": {
    "collapsed": false
   },
   "outputs": [
    {
     "data": {
      "image/png": "[encoded data removed]",
      "text/plain": [
       "plot without title"
      ]
     },
     "metadata": {},
     "output_type": "display_data"
    }
   ],
   "source": [
    "plot(x,y)\n",
    "abline(lm.fit)"
   ]
  },
  {
   "cell_type": "code",
   "execution_count": 5,
   "metadata": {
    "collapsed": false
   },
   "outputs": [
    {
     "data": {
      "text/html": [
       "<table>\n",
       "<thead><tr><th></th><th scope=col>Estimate</th><th scope=col>Std. Error</th><th scope=col>t value</th><th scope=col>Pr(&gt;|t|)</th></tr></thead>\n",
       "<tbody>\n",
       "\t<tr><th scope=row>x</th><td>1.993876    </td><td>0.1064767   </td><td>18.72593    </td><td>2.642197e-34</td></tr>\n",
       "</tbody>\n",
       "</table>\n"
      ],
      "text/latex": [
       "\\begin{tabular}{r|llll}\n",
       "  & Estimate & Std. Error & t value & Pr(>\\textbar{}t\\textbar{})\\\\\n",
       "\\hline\n",
       "\tx & 1.993876     & 0.1064767    & 18.72593     & 2.642197e-34\\\\\n",
       "\\end{tabular}\n"
      ],
      "text/markdown": [
       "\n",
       "| <!--/--> | Estimate | Std. Error | t value | Pr(>|t|) | \n",
       "|---|\n",
       "| x | 1.993876     | 0.1064767    | 18.72593     | 2.642197e-34 | \n",
       "\n",
       "\n"
      ],
      "text/plain": [
       "  Estimate Std. Error t value  Pr(>|t|)    \n",
       "x 1.993876 0.1064767  18.72593 2.642197e-34"
      ]
     },
     "metadata": {},
     "output_type": "display_data"
    }
   ],
   "source": [
    "summary.lm(lm.fit)$coefficients"
   ]
  },
  {
   "cell_type": "markdown",
   "metadata": {},
   "source": [
    "The p-value of the t-statistic of the model is near zero. This indicates that the estimated coefficient is statistically significant and the null hypothesis can be rejected. The coefficient is almost equal to the actual value of the coefficient."
   ]
  },
  {
   "cell_type": "markdown",
   "metadata": {},
   "source": [
    "# (b)"
   ]
  },
  {
   "cell_type": "code",
   "execution_count": 6,
   "metadata": {
    "collapsed": false
   },
   "outputs": [
    {
     "data": {
      "text/plain": [
       "\n",
       "Call:\n",
       "lm(formula = x ~ y + 0)\n",
       "\n",
       "Residuals:\n",
       "    Min      1Q  Median      3Q     Max \n",
       "-0.8699 -0.2368  0.1030  0.2858  0.8938 \n",
       "\n",
       "Coefficients:\n",
       "  Estimate Std. Error t value Pr(>|t|)    \n",
       "y  0.39111    0.02089   18.73   <2e-16 ***\n",
       "---\n",
       "Signif. codes:  0 ‘***’ 0.001 ‘**’ 0.01 ‘*’ 0.05 ‘.’ 0.1 ‘ ’ 1\n",
       "\n",
       "Residual standard error: 0.4246 on 99 degrees of freedom\n",
       "Multiple R-squared:  0.7798,\tAdjusted R-squared:  0.7776 \n",
       "F-statistic: 350.7 on 1 and 99 DF,  p-value: < 2.2e-16\n"
      ]
     },
     "metadata": {},
     "output_type": "display_data"
    }
   ],
   "source": [
    "lm.fit_x_y = lm(x~y+0)\n",
    "summary(lm.fit_x_y)"
   ]
  },
  {
   "cell_type": "code",
   "execution_count": 7,
   "metadata": {
    "collapsed": false
   },
   "outputs": [
    {
     "data": {
      "text/html": [
       "<table>\n",
       "<thead><tr><th></th><th scope=col>Estimate</th><th scope=col>Std. Error</th><th scope=col>t value</th><th scope=col>Pr(&gt;|t|)</th></tr></thead>\n",
       "<tbody>\n",
       "\t<tr><th scope=row>y</th><td>0.3911145   </td><td>0.02088625  </td><td>18.72593    </td><td>2.642197e-34</td></tr>\n",
       "</tbody>\n",
       "</table>\n"
      ],
      "text/latex": [
       "\\begin{tabular}{r|llll}\n",
       "  & Estimate & Std. Error & t value & Pr(>\\textbar{}t\\textbar{})\\\\\n",
       "\\hline\n",
       "\ty & 0.3911145    & 0.02088625   & 18.72593     & 2.642197e-34\\\\\n",
       "\\end{tabular}\n"
      ],
      "text/markdown": [
       "\n",
       "| <!--/--> | Estimate | Std. Error | t value | Pr(>|t|) | \n",
       "|---|\n",
       "| y | 0.3911145    | 0.02088625   | 18.72593     | 2.642197e-34 | \n",
       "\n",
       "\n"
      ],
      "text/plain": [
       "  Estimate  Std. Error t value  Pr(>|t|)    \n",
       "y 0.3911145 0.02088625 18.72593 2.642197e-34"
      ]
     },
     "metadata": {},
     "output_type": "display_data"
    }
   ],
   "source": [
    "summary.lm(lm.fit_x_y)$coefficients"
   ]
  },
  {
   "cell_type": "markdown",
   "metadata": {},
   "source": [
    "The p-value of the t-statistic is near zero. Hence we can reject the null hypothesis."
   ]
  },
  {
   "cell_type": "markdown",
   "metadata": {},
   "source": [
    "# (c)"
   ]
  },
  {
   "cell_type": "markdown",
   "metadata": {},
   "source": [
    "Both (a) and (b) estimate the same model in two different forms. (a)y=2*x+error (b)x = 0.5(y-error)"
   ]
  },
  {
   "cell_type": "code",
   "execution_count": null,
   "metadata": {
    "collapsed": true
   },
   "outputs": [],
   "source": []
  }
 ],
 "metadata": {
  "kernelspec": {
   "display_name": "R",
   "language": "R",
   "name": "ir"
  },
  "language_info": {
   "codemirror_mode": "r",
   "file_extension": ".r",
   "mimetype": "text/x-r-source",
   "name": "R",
   "pygments_lexer": "r",
   "version": "3.2.2"
  }
 },
 "nbformat": 4,
 "nbformat_minor": 0
}
