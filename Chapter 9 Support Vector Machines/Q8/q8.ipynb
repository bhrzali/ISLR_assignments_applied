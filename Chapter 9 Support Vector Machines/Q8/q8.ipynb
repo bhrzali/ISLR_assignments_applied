{
 "cells": [
  {
   "cell_type": "markdown",
   "metadata": {},
   "source": [
    "Chapter 9 Support Vector Machines, q8"
   ]
  },
  {
   "cell_type": "code",
   "execution_count": 3,
   "metadata": {
    "collapsed": false
   },
   "outputs": [
    {
     "data": {
      "text/plain": [
       " Purchase WeekofPurchase     StoreID        PriceCH         PriceMM     \n",
       " CH:653   Min.   :227.0   Min.   :1.00   Min.   :1.690   Min.   :1.690  \n",
       " MM:417   1st Qu.:240.0   1st Qu.:2.00   1st Qu.:1.790   1st Qu.:1.990  \n",
       "          Median :257.0   Median :3.00   Median :1.860   Median :2.090  \n",
       "          Mean   :254.4   Mean   :3.96   Mean   :1.867   Mean   :2.085  \n",
       "          3rd Qu.:268.0   3rd Qu.:7.00   3rd Qu.:1.990   3rd Qu.:2.180  \n",
       "          Max.   :278.0   Max.   :7.00   Max.   :2.090   Max.   :2.290  \n",
       "     DiscCH            DiscMM         SpecialCH        SpecialMM     \n",
       " Min.   :0.00000   Min.   :0.0000   Min.   :0.0000   Min.   :0.0000  \n",
       " 1st Qu.:0.00000   1st Qu.:0.0000   1st Qu.:0.0000   1st Qu.:0.0000  \n",
       " Median :0.00000   Median :0.0000   Median :0.0000   Median :0.0000  \n",
       " Mean   :0.05186   Mean   :0.1234   Mean   :0.1477   Mean   :0.1617  \n",
       " 3rd Qu.:0.00000   3rd Qu.:0.2300   3rd Qu.:0.0000   3rd Qu.:0.0000  \n",
       " Max.   :0.50000   Max.   :0.8000   Max.   :1.0000   Max.   :1.0000  \n",
       "    LoyalCH          SalePriceMM     SalePriceCH      PriceDiff       Store7   \n",
       " Min.   :0.000011   Min.   :1.190   Min.   :1.390   Min.   :-0.6700   No :714  \n",
       " 1st Qu.:0.325257   1st Qu.:1.690   1st Qu.:1.750   1st Qu.: 0.0000   Yes:356  \n",
       " Median :0.600000   Median :2.090   Median :1.860   Median : 0.2300            \n",
       " Mean   :0.565782   Mean   :1.962   Mean   :1.816   Mean   : 0.1465            \n",
       " 3rd Qu.:0.850873   3rd Qu.:2.130   3rd Qu.:1.890   3rd Qu.: 0.3200            \n",
       " Max.   :0.999947   Max.   :2.290   Max.   :2.090   Max.   : 0.6400            \n",
       "   PctDiscMM        PctDiscCH       ListPriceDiff       STORE      \n",
       " Min.   :0.0000   Min.   :0.00000   Min.   :0.000   Min.   :0.000  \n",
       " 1st Qu.:0.0000   1st Qu.:0.00000   1st Qu.:0.140   1st Qu.:0.000  \n",
       " Median :0.0000   Median :0.00000   Median :0.240   Median :2.000  \n",
       " Mean   :0.0593   Mean   :0.02731   Mean   :0.218   Mean   :1.631  \n",
       " 3rd Qu.:0.1127   3rd Qu.:0.00000   3rd Qu.:0.300   3rd Qu.:3.000  \n",
       " Max.   :0.4020   Max.   :0.25269   Max.   :0.440   Max.   :4.000  "
      ]
     },
     "metadata": {},
     "output_type": "display_data"
    }
   ],
   "source": [
    "library(ISLR)\n",
    "OJ = na.omit(OJ)\n",
    "summary(OJ)"
   ]
  },
  {
   "cell_type": "markdown",
   "metadata": {},
   "source": [
    "# (a)"
   ]
  },
  {
   "cell_type": "code",
   "execution_count": 12,
   "metadata": {
    "collapsed": false
   },
   "outputs": [],
   "source": [
    "set.seed(1)\n",
    "train = sample(nrow(OJ),800)"
   ]
  },
  {
   "cell_type": "markdown",
   "metadata": {},
   "source": [
    "\n",
    "# (b)"
   ]
  },
  {
   "cell_type": "code",
   "execution_count": 27,
   "metadata": {
    "collapsed": false
   },
   "outputs": [
    {
     "data": {
      "text/plain": [
       "\n",
       "Call:\n",
       "svm(formula = Purchase ~ ., data = OJ[train, ], kernel = \"linear\", \n",
       "    cost = 0.01)\n",
       "\n",
       "\n",
       "Parameters:\n",
       "   SVM-Type:  C-classification \n",
       " SVM-Kernel:  linear \n",
       "       cost:  0.01 \n",
       "      gamma:  0.05555556 \n",
       "\n",
       "Number of Support Vectors:  432\n",
       "\n",
       " ( 215 217 )\n",
       "\n",
       "\n",
       "Number of Classes:  2 \n",
       "\n",
       "Levels: \n",
       " CH MM\n",
       "\n",
       "\n"
      ]
     },
     "metadata": {},
     "output_type": "display_data"
    }
   ],
   "source": [
    "library(e1071)\n",
    "set.seed(1)\n",
    "svm.model = svm(Purchase~.,data=OJ[train,],kernel=\"linear\",cost=0.01)\n",
    "summary(svm.model)"
   ]
  },
  {
   "cell_type": "markdown",
   "metadata": {},
   "source": [
    "The svm function uses radial kernel and produces 432 support vectors out of which 215 are from CH class and 217 from MM"
   ]
  },
  {
   "cell_type": "markdown",
   "metadata": {},
   "source": [
    "# (c)"
   ]
  },
  {
   "cell_type": "code",
   "execution_count": 19,
   "metadata": {
    "collapsed": false
   },
   "outputs": [
    {
     "data": {
      "text/html": [
       "16.625"
      ],
      "text/latex": [
       "16.625"
      ],
      "text/markdown": [
       "16.625"
      ],
      "text/plain": [
       "[1] 16.625"
      ]
     },
     "metadata": {},
     "output_type": "display_data"
    }
   ],
   "source": [
    "#Training error\n",
    "pred.train = predict(svm.model,newdata=OJ[train,])\n",
    "mean(pred.train!=OJ[train,]$Purchase)*100"
   ]
  },
  {
   "cell_type": "code",
   "execution_count": 21,
   "metadata": {
    "collapsed": false
   },
   "outputs": [
    {
     "data": {
      "text/html": [
       "18.1481481481481"
      ],
      "text/latex": [
       "18.1481481481481"
      ],
      "text/markdown": [
       "18.1481481481481"
      ],
      "text/plain": [
       "[1] 18.14815"
      ]
     },
     "metadata": {},
     "output_type": "display_data"
    }
   ],
   "source": [
    "#Test error\n",
    "pred.test = predict(svm.model,newdata=OJ[-train,])\n",
    "mean(pred.test!=OJ[-train,]$Purchase)*100"
   ]
  },
  {
   "cell_type": "markdown",
   "metadata": {},
   "source": [
    "# (d)"
   ]
  },
  {
   "cell_type": "code",
   "execution_count": 59,
   "metadata": {
    "collapsed": false
   },
   "outputs": [
    {
     "data": {
      "text/plain": [
       "\n",
       "Parameter tuning of ‘svm’:\n",
       "\n",
       "- sampling method: 10-fold cross validation \n",
       "\n",
       "- best parameters:\n",
       " cost\n",
       " 0.01\n",
       "\n",
       "- best performance: 0.175 \n",
       "\n",
       "- Detailed performance results:\n",
       "   cost   error dispersion\n",
       "1  0.01 0.17500 0.03996526\n",
       "2  0.10 0.17875 0.03821086\n",
       "3  1.00 0.17750 0.03717451\n",
       "4  5.00 0.17875 0.03537988\n",
       "5 10.00 0.18000 0.04005205\n"
      ]
     },
     "metadata": {},
     "output_type": "display_data"
    }
   ],
   "source": [
    "set.seed(1)\n",
    "range = list(cost=c(0.01,0.1,1,5,10))\n",
    "tune.linear = tune(svm,Purchase~.,data=OJ[train,],kernel=\"linear\",ranges=range)\n",
    "summary(tune.linear)"
   ]
  },
  {
   "cell_type": "markdown",
   "metadata": {},
   "source": [
    "The cost of 0.01 gives the best result"
   ]
  },
  {
   "cell_type": "markdown",
   "metadata": {},
   "source": [
    "# (e)"
   ]
  },
  {
   "cell_type": "code",
   "execution_count": 60,
   "metadata": {
    "collapsed": false
   },
   "outputs": [
    {
     "data": {
      "text/html": [
       "16.625"
      ],
      "text/latex": [
       "16.625"
      ],
      "text/markdown": [
       "16.625"
      ],
      "text/plain": [
       "[1] 16.625"
      ]
     },
     "metadata": {},
     "output_type": "display_data"
    },
    {
     "data": {
      "text/plain": [
       "          \n",
       "pred.train  CH  MM\n",
       "        CH 439  78\n",
       "        MM  55 228"
      ]
     },
     "metadata": {},
     "output_type": "display_data"
    }
   ],
   "source": [
    "#Training error with cost = 0.01\n",
    "pred.train = predict(tune.linear$best.model,newdata=OJ[train,])\n",
    "mean(pred.train!=OJ[train,]$Purchase)*100\n",
    "table(pred.train,OJ[train,]$Purchase)"
   ]
  },
  {
   "cell_type": "code",
   "execution_count": 61,
   "metadata": {
    "collapsed": false
   },
   "outputs": [
    {
     "data": {
      "text/html": [
       "18.1481481481481"
      ],
      "text/latex": [
       "18.1481481481481"
      ],
      "text/markdown": [
       "18.1481481481481"
      ],
      "text/plain": [
       "[1] 18.14815"
      ]
     },
     "metadata": {},
     "output_type": "display_data"
    },
    {
     "data": {
      "text/plain": [
       "         \n",
       "pred.test  CH  MM\n",
       "       CH 141  31\n",
       "       MM  18  80"
      ]
     },
     "metadata": {},
     "output_type": "display_data"
    }
   ],
   "source": [
    "#Test error with cost = 0.01\n",
    "pred.test = predict(tune.linear$best.model,newdata=OJ[-train,])\n",
    "mean(pred.test!=OJ[-train,]$Purchase)*100\n",
    "table(pred.test,OJ[-train,]$Purchase)"
   ]
  },
  {
   "cell_type": "markdown",
   "metadata": {},
   "source": [
    "# (f)"
   ]
  },
  {
   "cell_type": "code",
   "execution_count": 28,
   "metadata": {
    "collapsed": false
   },
   "outputs": [
    {
     "data": {
      "text/plain": [
       "\n",
       "Call:\n",
       "svm(formula = Purchase ~ ., data = OJ[train, ], kernel = \"radial\", \n",
       "    cost = 0.01)\n",
       "\n",
       "\n",
       "Parameters:\n",
       "   SVM-Type:  C-classification \n",
       " SVM-Kernel:  radial \n",
       "       cost:  0.01 \n",
       "      gamma:  0.05555556 \n",
       "\n",
       "Number of Support Vectors:  617\n",
       "\n",
       " ( 306 311 )\n",
       "\n",
       "\n",
       "Number of Classes:  2 \n",
       "\n",
       "Levels: \n",
       " CH MM\n",
       "\n",
       "\n"
      ]
     },
     "metadata": {},
     "output_type": "display_data"
    }
   ],
   "source": [
    "set.seed(2)\n",
    "svm.radial = svm(Purchase~.,data=OJ[train,],kernel=\"radial\",cost=0.01)\n",
    "summary(svm.radial)"
   ]
  },
  {
   "cell_type": "code",
   "execution_count": 30,
   "metadata": {
    "collapsed": false
   },
   "outputs": [
    {
     "data": {
      "text/html": [
       "38.25"
      ],
      "text/latex": [
       "38.25"
      ],
      "text/markdown": [
       "38.25"
      ],
      "text/plain": [
       "[1] 38.25"
      ]
     },
     "metadata": {},
     "output_type": "display_data"
    }
   ],
   "source": [
    "#Training error\n",
    "pred.radial = predict(svm.radial,newdata=OJ[train,])\n",
    "mean(pred.radial!=OJ[train,]$Purchase)*100"
   ]
  },
  {
   "cell_type": "code",
   "execution_count": 32,
   "metadata": {
    "collapsed": false
   },
   "outputs": [
    {
     "data": {
      "text/html": [
       "41.1111111111111"
      ],
      "text/latex": [
       "41.1111111111111"
      ],
      "text/markdown": [
       "41.1111111111111"
      ],
      "text/plain": [
       "[1] 41.11111"
      ]
     },
     "metadata": {},
     "output_type": "display_data"
    }
   ],
   "source": [
    "#Test error\n",
    "pred.radial = predict(svm.radial,newdata=OJ[-train,])\n",
    "mean(pred.radial!=OJ[-train,]$Purchase)*100"
   ]
  },
  {
   "cell_type": "code",
   "execution_count": 45,
   "metadata": {
    "collapsed": false
   },
   "outputs": [
    {
     "data": {
      "text/plain": [
       "\n",
       "Parameter tuning of ‘svm’:\n",
       "\n",
       "- sampling method: 10-fold cross validation \n",
       "\n",
       "- best parameters:\n",
       " cost\n",
       "    5\n",
       "\n",
       "- best performance: 0.17375 \n",
       "\n",
       "- Detailed performance results:\n",
       "   cost   error dispersion\n",
       "1  0.01 0.38250 0.05596378\n",
       "2  0.10 0.17875 0.04168749\n",
       "3  1.00 0.17500 0.04750731\n",
       "4  5.00 0.17375 0.04875178\n",
       "5 10.00 0.18250 0.04866267\n"
      ]
     },
     "metadata": {},
     "output_type": "display_data"
    }
   ],
   "source": [
    "#cross validation\n",
    "set.seed(1)\n",
    "range = list(cost=c(0.01,0.1,1,5,10))\n",
    "tune.radial = tune(svm,Purchase~.,data=OJ[train,],kernel=\"radial\",ranges=range)\n",
    "summary(tune.radial)"
   ]
  },
  {
   "cell_type": "code",
   "execution_count": 46,
   "metadata": {
    "collapsed": false
   },
   "outputs": [
    {
     "data": {
      "text/html": [
       "13.75"
      ],
      "text/latex": [
       "13.75"
      ],
      "text/markdown": [
       "13.75"
      ],
      "text/plain": [
       "[1] 13.75"
      ]
     },
     "metadata": {},
     "output_type": "display_data"
    },
    {
     "data": {
      "text/plain": [
       "          \n",
       "pred.train  CH  MM\n",
       "        CH 451  67\n",
       "        MM  43 239"
      ]
     },
     "metadata": {},
     "output_type": "display_data"
    }
   ],
   "source": [
    "#Training error\n",
    "pred.train = predict(tune.radial$best.model,newdata=OJ[train,])\n",
    "mean(pred.train!=OJ[train,]$Purchase)*100\n",
    "table(pred.train,OJ[train,]$Purchase)"
   ]
  },
  {
   "cell_type": "code",
   "execution_count": 47,
   "metadata": {
    "collapsed": false
   },
   "outputs": [
    {
     "data": {
      "text/html": [
       "18.1481481481481"
      ],
      "text/latex": [
       "18.1481481481481"
      ],
      "text/markdown": [
       "18.1481481481481"
      ],
      "text/plain": [
       "[1] 18.14815"
      ]
     },
     "metadata": {},
     "output_type": "display_data"
    },
    {
     "data": {
      "text/plain": [
       "         \n",
       "pred.test  CH  MM\n",
       "       CH 140  30\n",
       "       MM  19  81"
      ]
     },
     "metadata": {},
     "output_type": "display_data"
    }
   ],
   "source": [
    "#Test error\n",
    "pred.test = predict(tune.radial$best.model,newdata=OJ[-train,])\n",
    "mean(pred.test!=OJ[-train,]$Purchase)*100\n",
    "table(pred.test,OJ[-train,]$Purchase)"
   ]
  },
  {
   "cell_type": "markdown",
   "metadata": {},
   "source": [
    "# (g)"
   ]
  },
  {
   "cell_type": "code",
   "execution_count": 49,
   "metadata": {
    "collapsed": false
   },
   "outputs": [
    {
     "data": {
      "text/plain": [
       "\n",
       "Call:\n",
       "svm(formula = Purchase ~ ., data = OJ[train, ], kernel = \"polynomial\", \n",
       "    degree = 2, cost = 0.01)\n",
       "\n",
       "\n",
       "Parameters:\n",
       "   SVM-Type:  C-classification \n",
       " SVM-Kernel:  polynomial \n",
       "       cost:  0.01 \n",
       "     degree:  2 \n",
       "      gamma:  0.05555556 \n",
       "     coef.0:  0 \n",
       "\n",
       "Number of Support Vectors:  620\n",
       "\n",
       " ( 306 314 )\n",
       "\n",
       "\n",
       "Number of Classes:  2 \n",
       "\n",
       "Levels: \n",
       " CH MM\n",
       "\n",
       "\n"
      ]
     },
     "metadata": {},
     "output_type": "display_data"
    }
   ],
   "source": [
    "set.seed(1)\n",
    "svm.poly = svm(Purchase~.,data=OJ[train,],kernel=\"polynomial\",degree=2,cost=0.01)\n",
    "summary(svm.poly)"
   ]
  },
  {
   "cell_type": "code",
   "execution_count": 54,
   "metadata": {
    "collapsed": false
   },
   "outputs": [
    {
     "data": {
      "text/html": [
       "38.25"
      ],
      "text/latex": [
       "38.25"
      ],
      "text/markdown": [
       "38.25"
      ],
      "text/plain": [
       "[1] 38.25"
      ]
     },
     "metadata": {},
     "output_type": "display_data"
    },
    {
     "data": {
      "text/plain": [
       "         \n",
       "pred.poly  CH  MM\n",
       "       CH 494 306\n",
       "       MM   0   0"
      ]
     },
     "metadata": {},
     "output_type": "display_data"
    }
   ],
   "source": [
    "#Training error\n",
    "pred.poly = predict(svm.poly,newdata=OJ[train,])\n",
    "mean(pred.poly!=OJ[train,]$Purchase)*100\n",
    "table(pred.poly,OJ[train,]$Purchase)"
   ]
  },
  {
   "cell_type": "code",
   "execution_count": 55,
   "metadata": {
    "collapsed": false
   },
   "outputs": [
    {
     "data": {
      "text/html": [
       "41.1111111111111"
      ],
      "text/latex": [
       "41.1111111111111"
      ],
      "text/markdown": [
       "41.1111111111111"
      ],
      "text/plain": [
       "[1] 41.11111"
      ]
     },
     "metadata": {},
     "output_type": "display_data"
    },
    {
     "data": {
      "text/plain": [
       "         \n",
       "pred.poly  CH  MM\n",
       "       CH 159 111\n",
       "       MM   0   0"
      ]
     },
     "metadata": {},
     "output_type": "display_data"
    }
   ],
   "source": [
    "#Test error\n",
    "pred.poly = predict(svm.poly,newdata=OJ[-train,])\n",
    "mean(pred.poly!=OJ[-train,]$Purchase)*100\n",
    "table(pred.poly,OJ[-train,]$Purchase)"
   ]
  },
  {
   "cell_type": "code",
   "execution_count": 56,
   "metadata": {
    "collapsed": false
   },
   "outputs": [
    {
     "data": {
      "text/plain": [
       "\n",
       "Parameter tuning of ‘svm’:\n",
       "\n",
       "- sampling method: 10-fold cross validation \n",
       "\n",
       "- best parameters:\n",
       " cost\n",
       "    5\n",
       "\n",
       "- best performance: 0.1725 \n",
       "\n",
       "- Detailed performance results:\n",
       "   cost   error dispersion\n",
       "1  0.01 0.38250 0.05596378\n",
       "2  0.10 0.32375 0.06303934\n",
       "3  1.00 0.19125 0.04860913\n",
       "4  5.00 0.17250 0.05737305\n",
       "5 10.00 0.17875 0.05653477\n"
      ]
     },
     "metadata": {},
     "output_type": "display_data"
    }
   ],
   "source": [
    "#cross validation\n",
    "range = list(cost=c(0.01,0.1,1,5,10))\n",
    "tune.poly = tune(svm,Purchase~.,data=OJ[train,],kernel=\"polynomial\",degree=2,ranges=range)\n",
    "summary(tune.poly)"
   ]
  },
  {
   "cell_type": "code",
   "execution_count": 57,
   "metadata": {
    "collapsed": false
   },
   "outputs": [
    {
     "data": {
      "text/html": [
       "14.875"
      ],
      "text/latex": [
       "14.875"
      ],
      "text/markdown": [
       "14.875"
      ],
      "text/plain": [
       "[1] 14.875"
      ]
     },
     "metadata": {},
     "output_type": "display_data"
    },
    {
     "data": {
      "text/plain": [
       "         \n",
       "pred.poly  CH  MM\n",
       "       CH 454  79\n",
       "       MM  40 227"
      ]
     },
     "metadata": {},
     "output_type": "display_data"
    }
   ],
   "source": [
    "#Training error\n",
    "pred.train = predict(tune.poly$best.model,newdata=OJ[train,])\n",
    "mean(pred.train!=OJ[train,]$Purchase)*100\n",
    "table(pred.train,OJ[train,]$Purchase)"
   ]
  },
  {
   "cell_type": "code",
   "execution_count": 58,
   "metadata": {
    "collapsed": false
   },
   "outputs": [
    {
     "data": {
      "text/html": [
       "18.1481481481481"
      ],
      "text/latex": [
       "18.1481481481481"
      ],
      "text/markdown": [
       "18.1481481481481"
      ],
      "text/plain": [
       "[1] 18.14815"
      ]
     },
     "metadata": {},
     "output_type": "display_data"
    },
    {
     "data": {
      "text/plain": [
       "         \n",
       "pred.test  CH  MM\n",
       "       CH 142  32\n",
       "       MM  17  79"
      ]
     },
     "metadata": {},
     "output_type": "display_data"
    }
   ],
   "source": [
    "#Test error\n",
    "pred.test = predict(tune.poly$best.model,newdata=OJ[-train,])\n",
    "mean(pred.test!=OJ[-train,]$Purchase)*100\n",
    "table(pred.test,OJ[-train,]$Purchase)"
   ]
  },
  {
   "cell_type": "markdown",
   "metadata": {},
   "source": [
    "# (h)"
   ]
  },
  {
   "cell_type": "markdown",
   "metadata": {},
   "source": [
    "The training error and the test error in all the models are not significantly different."
   ]
  }
 ],
 "metadata": {
  "kernelspec": {
   "display_name": "R",
   "language": "R",
   "name": "ir"
  },
  "language_info": {
   "codemirror_mode": "r",
   "file_extension": ".r",
   "mimetype": "text/x-r-source",
   "name": "R",
   "pygments_lexer": "r",
   "version": "3.2.2"
  }
 },
 "nbformat": 4,
 "nbformat_minor": 0
}
