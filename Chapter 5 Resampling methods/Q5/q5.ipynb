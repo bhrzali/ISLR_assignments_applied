{
 "cells": [
  {
   "cell_type": "markdown",
   "metadata": {},
   "source": [
    "Chapter 5, Resampling method - q5"
   ]
  },
  {
   "cell_type": "markdown",
   "metadata": {},
   "source": [
    "## (a)"
   ]
  },
  {
   "cell_type": "code",
   "execution_count": 4,
   "metadata": {
    "collapsed": false
   },
   "outputs": [
    {
     "data": {
      "text/plain": [
       "\n",
       "Call:  glm(formula = default ~ income + balance, family = binomial, \n",
       "    data = Default)\n",
       "\n",
       "Coefficients:\n",
       "(Intercept)       income      balance  \n",
       " -1.154e+01    2.081e-05    5.647e-03  \n",
       "\n",
       "Degrees of Freedom: 9999 Total (i.e. Null);  9997 Residual\n",
       "Null Deviance:\t    2921 \n",
       "Residual Deviance: 1579 \tAIC: 1585"
      ]
     },
     "metadata": {},
     "output_type": "display_data"
    }
   ],
   "source": [
    "library(ISLR)\n",
    "glm.model = glm(default~income+balance,data=Default,family=binomial)\n",
    "glm.model"
   ]
  },
  {
   "cell_type": "markdown",
   "metadata": {},
   "source": [
    "## (b)"
   ]
  },
  {
   "cell_type": "markdown",
   "metadata": {},
   "source": [
    "## i"
   ]
  },
  {
   "cell_type": "code",
   "execution_count": 30,
   "metadata": {
    "collapsed": false
   },
   "outputs": [],
   "source": [
    "set.seed(1)\n",
    "train = sample(nrow(Default),8000)"
   ]
  },
  {
   "cell_type": "markdown",
   "metadata": {},
   "source": [
    "## ii"
   ]
  },
  {
   "cell_type": "code",
   "execution_count": 31,
   "metadata": {
    "collapsed": false
   },
   "outputs": [],
   "source": [
    "glm.model = glm(default~income+balance, data=Default, family=binomial, subset=train)"
   ]
  },
  {
   "cell_type": "markdown",
   "metadata": {},
   "source": [
    "## iii"
   ]
  },
  {
   "cell_type": "code",
   "execution_count": 36,
   "metadata": {
    "collapsed": false
   },
   "outputs": [
    {
     "data": {
      "text/html": [
       "2.85"
      ],
      "text/latex": [
       "2.85"
      ],
      "text/markdown": [
       "2.85"
      ],
      "text/plain": [
       "[1] 2.85"
      ]
     },
     "metadata": {},
     "output_type": "display_data"
    }
   ],
   "source": [
    "glm.prob = predict(glm.model,newdata=Default[-train,], type=\"response\") \n",
    "glm.pred = rep(\"No\",length(glm.prob))\n",
    "glm.pred[glm.prob>0.5]=\"Yes\"\n",
    "#computing error rate\n",
    "sum(glm.pred!=Default[-train,]$default)/length(glm.pred)*100"
   ]
  },
  {
   "cell_type": "markdown",
   "metadata": {},
   "source": [
    "## (c)"
   ]
  },
  {
   "cell_type": "code",
   "execution_count": 37,
   "metadata": {
    "collapsed": false
   },
   "outputs": [
    {
     "name": "stdout",
     "output_type": "stream",
     "text": [
      "[1] 2.15\n",
      "[1] 2.55\n",
      "[1] 2.85\n"
     ]
    }
   ],
   "source": [
    "for(i in 2:4){\n",
    "    set.seed(i)\n",
    "    train = sample(nrow(Default),8000)\n",
    "    glm.model = glm(default~income+balance,data=Default,family=binomial, subset=train)\n",
    "    glm.prob = predict(glm.model,newdata=Default[-train,],type=\"response\")\n",
    "    glm.pred = rep(\"No\",length(glm.prob))\n",
    "    glm.pred[glm.prob>0.5]=\"Yes\"\n",
    "    print(sum(glm.pred!=Default[-train,]$default)/length(glm.pred)*100)\n",
    "}"
   ]
  },
  {
   "cell_type": "code",
   "execution_count": 38,
   "metadata": {
    "collapsed": false
   },
   "outputs": [
    {
     "data": {
      "text/html": [
       "2.51666666666667"
      ],
      "text/latex": [
       "2.51666666666667"
      ],
      "text/markdown": [
       "2.51666666666667"
      ],
      "text/plain": [
       "[1] 2.516667"
      ]
     },
     "metadata": {},
     "output_type": "display_data"
    }
   ],
   "source": [
    "(2.15+2.55+2.85)/3"
   ]
  },
  {
   "cell_type": "markdown",
   "metadata": {},
   "source": [
    "The model seems to give an average error rate of 2.52% on the validation data"
   ]
  },
  {
   "cell_type": "markdown",
   "metadata": {},
   "source": [
    "## (d)"
   ]
  },
  {
   "cell_type": "code",
   "execution_count": 45,
   "metadata": {
    "collapsed": false
   },
   "outputs": [
    {
     "data": {
      "text/html": [
       "2.5"
      ],
      "text/latex": [
       "2.5"
      ],
      "text/markdown": [
       "2.5"
      ],
      "text/plain": [
       "[1] 2.5"
      ]
     },
     "metadata": {},
     "output_type": "display_data"
    }
   ],
   "source": [
    "set.seed(1)\n",
    "train = sample(nrow(Default),8000)\n",
    "glm.model = glm(default~income+balance+student,data=Default,family=binomial,subset=train)\n",
    "glm.prob = predict(glm.model,newdata=Default[-train,],type=\"response\")\n",
    "glm.pred = rep(\"No\",length(glm.prob))\n",
    "glm.pred[glm.prob>0.5]=\"Yes\"\n",
    "#computing the error rate\n",
    "sum(glm.pred!=Default[-train,]$default)/length(glm.pred)*100"
   ]
  },
  {
   "cell_type": "markdown",
   "metadata": {},
   "source": [
    "The error rate has not decreased. Addition of the dummy variable, student, has not reduced the error."
   ]
  },
  {
   "cell_type": "code",
   "execution_count": null,
   "metadata": {
    "collapsed": true
   },
   "outputs": [],
   "source": []
  }
 ],
 "metadata": {
  "kernelspec": {
   "display_name": "R",
   "language": "R",
   "name": "ir"
  },
  "language_info": {
   "codemirror_mode": "r",
   "file_extension": ".r",
   "mimetype": "text/x-r-source",
   "name": "R",
   "pygments_lexer": "r",
   "version": "3.2.2"
  }
 },
 "nbformat": 4,
 "nbformat_minor": 0
}
