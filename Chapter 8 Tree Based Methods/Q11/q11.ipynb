{
 "cells": [
  {
   "cell_type": "markdown",
   "metadata": {},
   "source": [
    "Chapter 8 Tree Based Methods - Question 11"
   ]
  },
  {
   "cell_type": "code",
   "execution_count": 58,
   "metadata": {
    "collapsed": true
   },
   "outputs": [],
   "source": [
    "library(ISLR)"
   ]
  },
  {
   "cell_type": "code",
   "execution_count": 59,
   "metadata": {
    "collapsed": false
   },
   "outputs": [],
   "source": [
    "caravan_dataset = Caravan\n",
    "p = rep(0,nrow(caravan_dataset))\n",
    "p[caravan_dataset$Purchase==\"Yes\"]=1\n",
    "caravan_dataset$Purchase = p"
   ]
  },
  {
   "cell_type": "markdown",
   "metadata": {},
   "source": [
    "# a"
   ]
  },
  {
   "cell_type": "code",
   "execution_count": 60,
   "metadata": {
    "collapsed": true
   },
   "outputs": [],
   "source": [
    "set.seed(1)\n",
    "train = 1:1000"
   ]
  },
  {
   "cell_type": "markdown",
   "metadata": {},
   "source": [
    "# b"
   ]
  },
  {
   "cell_type": "code",
   "execution_count": 61,
   "metadata": {
    "collapsed": false
   },
   "outputs": [
    {
     "name": "stderr",
     "output_type": "stream",
     "text": [
      "Warning message in gbm.fit(x, y, offset = offset, distribution = distribution, w = w, :\n",
      "“variable 50: PVRAAUT has no variation.”Warning message in gbm.fit(x, y, offset = offset, distribution = distribution, w = w, :\n",
      "“variable 71: AVRAAUT has no variation.”"
     ]
    }
   ],
   "source": [
    "library(gbm)\n",
    "boost.model = gbm(Purchase~.,data=caravan_dataset[train,],shrinkage=0.01,n.trees=1000,distribution=\"bernoulli\")"
   ]
  },
  {
   "cell_type": "code",
   "execution_count": 62,
   "metadata": {
    "collapsed": false
   },
   "outputs": [
    {
     "data": {
      "text/html": [
       "<table>\n",
       "<thead><tr><th></th><th scope=col>var</th><th scope=col>rel.inf</th></tr></thead>\n",
       "<tbody>\n",
       "\t<tr><th scope=row>PPERSAUT</th><td>PPERSAUT  </td><td>14.6350478</td></tr>\n",
       "\t<tr><th scope=row>MKOOPKLA</th><td>MKOOPKLA  </td><td> 9.4709165</td></tr>\n",
       "\t<tr><th scope=row>MOPLHOOG</th><td>MOPLHOOG  </td><td> 7.3145742</td></tr>\n",
       "\t<tr><th scope=row>MBERMIDD</th><td>MBERMIDD  </td><td> 6.0865197</td></tr>\n",
       "\t<tr><th scope=row>PBRAND</th><td>PBRAND    </td><td> 4.6676612</td></tr>\n",
       "\t<tr><th scope=row>MGODGE</th><td>MGODGE    </td><td> 4.4946326</td></tr>\n",
       "\t<tr><th scope=row>ABRAND</th><td>ABRAND    </td><td> 4.3242776</td></tr>\n",
       "\t<tr><th scope=row>MINK3045</th><td>MINK3045  </td><td> 4.1759062</td></tr>\n",
       "\t<tr><th scope=row>MOSTYPE</th><td>MOSTYPE   </td><td> 2.8640258</td></tr>\n",
       "\t<tr><th scope=row>PWAPART</th><td>PWAPART   </td><td> 2.7819107</td></tr>\n",
       "\t<tr><th scope=row>MAUT1</th><td>MAUT1     </td><td> 2.6192915</td></tr>\n",
       "\t<tr><th scope=row>MBERARBG</th><td>MBERARBG  </td><td> 2.1048051</td></tr>\n",
       "\t<tr><th scope=row>MSKA</th><td>MSKA      </td><td> 2.1018515</td></tr>\n",
       "\t<tr><th scope=row>MAUT2</th><td>MAUT2     </td><td> 2.0217251</td></tr>\n",
       "\t<tr><th scope=row>MSKC</th><td>MSKC      </td><td> 1.9868434</td></tr>\n",
       "\t<tr><th scope=row>MINKGEM</th><td>MINKGEM   </td><td> 1.9212271</td></tr>\n",
       "\t<tr><th scope=row>MGODPR</th><td>MGODPR    </td><td> 1.9177754</td></tr>\n",
       "\t<tr><th scope=row>MBERHOOG</th><td>MBERHOOG  </td><td> 1.8071062</td></tr>\n",
       "\t<tr><th scope=row>MGODOV</th><td>MGODOV    </td><td> 1.7869391</td></tr>\n",
       "\t<tr><th scope=row>PBYSTAND</th><td>PBYSTAND  </td><td> 1.5727959</td></tr>\n",
       "\t<tr><th scope=row>MSKB1</th><td>MSKB1     </td><td> 1.4355140</td></tr>\n",
       "\t<tr><th scope=row>MFWEKIND</th><td>MFWEKIND  </td><td> 1.3726426</td></tr>\n",
       "\t<tr><th scope=row>MRELGE</th><td>MRELGE    </td><td> 1.2080518</td></tr>\n",
       "\t<tr><th scope=row>MOPLMIDD</th><td>MOPLMIDD  </td><td> 0.9379197</td></tr>\n",
       "\t<tr><th scope=row>MINK7512</th><td>MINK7512  </td><td> 0.9259072</td></tr>\n",
       "\t<tr><th scope=row>MINK4575</th><td>MINK4575  </td><td> 0.9174599</td></tr>\n",
       "\t<tr><th scope=row>MGODRK</th><td>MGODRK    </td><td> 0.9076554</td></tr>\n",
       "\t<tr><th scope=row>MFGEKIND</th><td>MFGEKIND  </td><td> 0.8574537</td></tr>\n",
       "\t<tr><th scope=row>MZPART</th><td>MZPART    </td><td> 0.8253107</td></tr>\n",
       "\t<tr><th scope=row>MRELOV</th><td>MRELOV    </td><td> 0.8073125</td></tr>\n",
       "\t<tr><th scope=row>⋮</th><td>⋮</td><td>⋮</td></tr>\n",
       "\t<tr><th scope=row>PAANHANG</th><td>PAANHANG</td><td>0       </td></tr>\n",
       "\t<tr><th scope=row>PTRACTOR</th><td>PTRACTOR</td><td>0       </td></tr>\n",
       "\t<tr><th scope=row>PWERKT</th><td>PWERKT  </td><td>0       </td></tr>\n",
       "\t<tr><th scope=row>PBROM</th><td>PBROM   </td><td>0       </td></tr>\n",
       "\t<tr><th scope=row>PPERSONG</th><td>PPERSONG</td><td>0       </td></tr>\n",
       "\t<tr><th scope=row>PGEZONG</th><td>PGEZONG </td><td>0       </td></tr>\n",
       "\t<tr><th scope=row>PWAOREG</th><td>PWAOREG </td><td>0       </td></tr>\n",
       "\t<tr><th scope=row>PZEILPL</th><td>PZEILPL </td><td>0       </td></tr>\n",
       "\t<tr><th scope=row>PPLEZIER</th><td>PPLEZIER</td><td>0       </td></tr>\n",
       "\t<tr><th scope=row>PFIETS</th><td>PFIETS  </td><td>0       </td></tr>\n",
       "\t<tr><th scope=row>PINBOED</th><td>PINBOED </td><td>0       </td></tr>\n",
       "\t<tr><th scope=row>AWAPART</th><td>AWAPART </td><td>0       </td></tr>\n",
       "\t<tr><th scope=row>AWABEDR</th><td>AWABEDR </td><td>0       </td></tr>\n",
       "\t<tr><th scope=row>AWALAND</th><td>AWALAND </td><td>0       </td></tr>\n",
       "\t<tr><th scope=row>ABESAUT</th><td>ABESAUT </td><td>0       </td></tr>\n",
       "\t<tr><th scope=row>AMOTSCO</th><td>AMOTSCO </td><td>0       </td></tr>\n",
       "\t<tr><th scope=row>AVRAAUT</th><td>AVRAAUT </td><td>0       </td></tr>\n",
       "\t<tr><th scope=row>AAANHANG</th><td>AAANHANG</td><td>0       </td></tr>\n",
       "\t<tr><th scope=row>ATRACTOR</th><td>ATRACTOR</td><td>0       </td></tr>\n",
       "\t<tr><th scope=row>AWERKT</th><td>AWERKT  </td><td>0       </td></tr>\n",
       "\t<tr><th scope=row>ABROM</th><td>ABROM   </td><td>0       </td></tr>\n",
       "\t<tr><th scope=row>ALEVEN</th><td>ALEVEN  </td><td>0       </td></tr>\n",
       "\t<tr><th scope=row>APERSONG</th><td>APERSONG</td><td>0       </td></tr>\n",
       "\t<tr><th scope=row>AGEZONG</th><td>AGEZONG </td><td>0       </td></tr>\n",
       "\t<tr><th scope=row>AWAOREG</th><td>AWAOREG </td><td>0       </td></tr>\n",
       "\t<tr><th scope=row>AZEILPL</th><td>AZEILPL </td><td>0       </td></tr>\n",
       "\t<tr><th scope=row>APLEZIER</th><td>APLEZIER</td><td>0       </td></tr>\n",
       "\t<tr><th scope=row>AFIETS</th><td>AFIETS  </td><td>0       </td></tr>\n",
       "\t<tr><th scope=row>AINBOED</th><td>AINBOED </td><td>0       </td></tr>\n",
       "\t<tr><th scope=row>ABYSTAND</th><td>ABYSTAND</td><td>0       </td></tr>\n",
       "</tbody>\n",
       "</table>\n"
      ],
      "text/latex": [
       "\\begin{tabular}{r|ll}\n",
       "  & var & rel.inf\\\\\n",
       "\\hline\n",
       "\tPPERSAUT & PPERSAUT   & 14.6350478\\\\\n",
       "\tMKOOPKLA & MKOOPKLA   &  9.4709165\\\\\n",
       "\tMOPLHOOG & MOPLHOOG   &  7.3145742\\\\\n",
       "\tMBERMIDD & MBERMIDD   &  6.0865197\\\\\n",
       "\tPBRAND & PBRAND     &  4.6676612\\\\\n",
       "\tMGODGE & MGODGE     &  4.4946326\\\\\n",
       "\tABRAND & ABRAND     &  4.3242776\\\\\n",
       "\tMINK3045 & MINK3045   &  4.1759062\\\\\n",
       "\tMOSTYPE & MOSTYPE    &  2.8640258\\\\\n",
       "\tPWAPART & PWAPART    &  2.7819107\\\\\n",
       "\tMAUT1 & MAUT1      &  2.6192915\\\\\n",
       "\tMBERARBG & MBERARBG   &  2.1048051\\\\\n",
       "\tMSKA & MSKA       &  2.1018515\\\\\n",
       "\tMAUT2 & MAUT2      &  2.0217251\\\\\n",
       "\tMSKC & MSKC       &  1.9868434\\\\\n",
       "\tMINKGEM & MINKGEM    &  1.9212271\\\\\n",
       "\tMGODPR & MGODPR     &  1.9177754\\\\\n",
       "\tMBERHOOG & MBERHOOG   &  1.8071062\\\\\n",
       "\tMGODOV & MGODOV     &  1.7869391\\\\\n",
       "\tPBYSTAND & PBYSTAND   &  1.5727959\\\\\n",
       "\tMSKB1 & MSKB1      &  1.4355140\\\\\n",
       "\tMFWEKIND & MFWEKIND   &  1.3726426\\\\\n",
       "\tMRELGE & MRELGE     &  1.2080518\\\\\n",
       "\tMOPLMIDD & MOPLMIDD   &  0.9379197\\\\\n",
       "\tMINK7512 & MINK7512   &  0.9259072\\\\\n",
       "\tMINK4575 & MINK4575   &  0.9174599\\\\\n",
       "\tMGODRK & MGODRK     &  0.9076554\\\\\n",
       "\tMFGEKIND & MFGEKIND   &  0.8574537\\\\\n",
       "\tMZPART & MZPART     &  0.8253107\\\\\n",
       "\tMRELOV & MRELOV     &  0.8073125\\\\\n",
       "\t⋮ & ⋮ & ⋮\\\\\n",
       "\tPAANHANG & PAANHANG & 0       \\\\\n",
       "\tPTRACTOR & PTRACTOR & 0       \\\\\n",
       "\tPWERKT & PWERKT   & 0       \\\\\n",
       "\tPBROM & PBROM    & 0       \\\\\n",
       "\tPPERSONG & PPERSONG & 0       \\\\\n",
       "\tPGEZONG & PGEZONG  & 0       \\\\\n",
       "\tPWAOREG & PWAOREG  & 0       \\\\\n",
       "\tPZEILPL & PZEILPL  & 0       \\\\\n",
       "\tPPLEZIER & PPLEZIER & 0       \\\\\n",
       "\tPFIETS & PFIETS   & 0       \\\\\n",
       "\tPINBOED & PINBOED  & 0       \\\\\n",
       "\tAWAPART & AWAPART  & 0       \\\\\n",
       "\tAWABEDR & AWABEDR  & 0       \\\\\n",
       "\tAWALAND & AWALAND  & 0       \\\\\n",
       "\tABESAUT & ABESAUT  & 0       \\\\\n",
       "\tAMOTSCO & AMOTSCO  & 0       \\\\\n",
       "\tAVRAAUT & AVRAAUT  & 0       \\\\\n",
       "\tAAANHANG & AAANHANG & 0       \\\\\n",
       "\tATRACTOR & ATRACTOR & 0       \\\\\n",
       "\tAWERKT & AWERKT   & 0       \\\\\n",
       "\tABROM & ABROM    & 0       \\\\\n",
       "\tALEVEN & ALEVEN   & 0       \\\\\n",
       "\tAPERSONG & APERSONG & 0       \\\\\n",
       "\tAGEZONG & AGEZONG  & 0       \\\\\n",
       "\tAWAOREG & AWAOREG  & 0       \\\\\n",
       "\tAZEILPL & AZEILPL  & 0       \\\\\n",
       "\tAPLEZIER & APLEZIER & 0       \\\\\n",
       "\tAFIETS & AFIETS   & 0       \\\\\n",
       "\tAINBOED & AINBOED  & 0       \\\\\n",
       "\tABYSTAND & ABYSTAND & 0       \\\\\n",
       "\\end{tabular}\n"
      ],
      "text/markdown": [
       "\n",
       "| <!--/--> | var | rel.inf | \n",
       "|---|---|---|---|---|---|---|---|---|---|---|---|---|---|---|---|---|---|---|---|---|---|---|---|---|---|---|---|---|---|---|---|---|---|---|---|---|---|---|---|---|---|---|---|---|---|---|---|---|---|---|---|---|---|---|---|---|---|---|---|---|\n",
       "| PPERSAUT | PPERSAUT   | 14.6350478 | \n",
       "| MKOOPKLA | MKOOPKLA   |  9.4709165 | \n",
       "| MOPLHOOG | MOPLHOOG   |  7.3145742 | \n",
       "| MBERMIDD | MBERMIDD   |  6.0865197 | \n",
       "| PBRAND | PBRAND     |  4.6676612 | \n",
       "| MGODGE | MGODGE     |  4.4946326 | \n",
       "| ABRAND | ABRAND     |  4.3242776 | \n",
       "| MINK3045 | MINK3045   |  4.1759062 | \n",
       "| MOSTYPE | MOSTYPE    |  2.8640258 | \n",
       "| PWAPART | PWAPART    |  2.7819107 | \n",
       "| MAUT1 | MAUT1      |  2.6192915 | \n",
       "| MBERARBG | MBERARBG   |  2.1048051 | \n",
       "| MSKA | MSKA       |  2.1018515 | \n",
       "| MAUT2 | MAUT2      |  2.0217251 | \n",
       "| MSKC | MSKC       |  1.9868434 | \n",
       "| MINKGEM | MINKGEM    |  1.9212271 | \n",
       "| MGODPR | MGODPR     |  1.9177754 | \n",
       "| MBERHOOG | MBERHOOG   |  1.8071062 | \n",
       "| MGODOV | MGODOV     |  1.7869391 | \n",
       "| PBYSTAND | PBYSTAND   |  1.5727959 | \n",
       "| MSKB1 | MSKB1      |  1.4355140 | \n",
       "| MFWEKIND | MFWEKIND   |  1.3726426 | \n",
       "| MRELGE | MRELGE     |  1.2080518 | \n",
       "| MOPLMIDD | MOPLMIDD   |  0.9379197 | \n",
       "| MINK7512 | MINK7512   |  0.9259072 | \n",
       "| MINK4575 | MINK4575   |  0.9174599 | \n",
       "| MGODRK | MGODRK     |  0.9076554 | \n",
       "| MFGEKIND | MFGEKIND   |  0.8574537 | \n",
       "| MZPART | MZPART     |  0.8253107 | \n",
       "| MRELOV | MRELOV     |  0.8073125 | \n",
       "| ⋮ | ⋮ | ⋮ | \n",
       "| PAANHANG | PAANHANG | 0        | \n",
       "| PTRACTOR | PTRACTOR | 0        | \n",
       "| PWERKT | PWERKT   | 0        | \n",
       "| PBROM | PBROM    | 0        | \n",
       "| PPERSONG | PPERSONG | 0        | \n",
       "| PGEZONG | PGEZONG  | 0        | \n",
       "| PWAOREG | PWAOREG  | 0        | \n",
       "| PZEILPL | PZEILPL  | 0        | \n",
       "| PPLEZIER | PPLEZIER | 0        | \n",
       "| PFIETS | PFIETS   | 0        | \n",
       "| PINBOED | PINBOED  | 0        | \n",
       "| AWAPART | AWAPART  | 0        | \n",
       "| AWABEDR | AWABEDR  | 0        | \n",
       "| AWALAND | AWALAND  | 0        | \n",
       "| ABESAUT | ABESAUT  | 0        | \n",
       "| AMOTSCO | AMOTSCO  | 0        | \n",
       "| AVRAAUT | AVRAAUT  | 0        | \n",
       "| AAANHANG | AAANHANG | 0        | \n",
       "| ATRACTOR | ATRACTOR | 0        | \n",
       "| AWERKT | AWERKT   | 0        | \n",
       "| ABROM | ABROM    | 0        | \n",
       "| ALEVEN | ALEVEN   | 0        | \n",
       "| APERSONG | APERSONG | 0        | \n",
       "| AGEZONG | AGEZONG  | 0        | \n",
       "| AWAOREG | AWAOREG  | 0        | \n",
       "| AZEILPL | AZEILPL  | 0        | \n",
       "| APLEZIER | APLEZIER | 0        | \n",
       "| AFIETS | AFIETS   | 0        | \n",
       "| AINBOED | AINBOED  | 0        | \n",
       "| ABYSTAND | ABYSTAND | 0        | \n",
       "\n",
       "\n"
      ],
      "text/plain": [
       "         var      rel.inf   \n",
       "PPERSAUT PPERSAUT 14.6350478\n",
       "MKOOPKLA MKOOPKLA  9.4709165\n",
       "MOPLHOOG MOPLHOOG  7.3145742\n",
       "MBERMIDD MBERMIDD  6.0865197\n",
       "PBRAND   PBRAND    4.6676612\n",
       "MGODGE   MGODGE    4.4946326\n",
       "ABRAND   ABRAND    4.3242776\n",
       "MINK3045 MINK3045  4.1759062\n",
       "MOSTYPE  MOSTYPE   2.8640258\n",
       "PWAPART  PWAPART   2.7819107\n",
       "MAUT1    MAUT1     2.6192915\n",
       "MBERARBG MBERARBG  2.1048051\n",
       "MSKA     MSKA      2.1018515\n",
       "MAUT2    MAUT2     2.0217251\n",
       "MSKC     MSKC      1.9868434\n",
       "MINKGEM  MINKGEM   1.9212271\n",
       "MGODPR   MGODPR    1.9177754\n",
       "MBERHOOG MBERHOOG  1.8071062\n",
       "MGODOV   MGODOV    1.7869391\n",
       "PBYSTAND PBYSTAND  1.5727959\n",
       "MSKB1    MSKB1     1.4355140\n",
       "MFWEKIND MFWEKIND  1.3726426\n",
       "MRELGE   MRELGE    1.2080518\n",
       "MOPLMIDD MOPLMIDD  0.9379197\n",
       "MINK7512 MINK7512  0.9259072\n",
       "MINK4575 MINK4575  0.9174599\n",
       "MGODRK   MGODRK    0.9076554\n",
       "MFGEKIND MFGEKIND  0.8574537\n",
       "MZPART   MZPART    0.8253107\n",
       "MRELOV   MRELOV    0.8073125\n",
       "⋮        ⋮        ⋮         \n",
       "PAANHANG PAANHANG 0         \n",
       "PTRACTOR PTRACTOR 0         \n",
       "PWERKT   PWERKT   0         \n",
       "PBROM    PBROM    0         \n",
       "PPERSONG PPERSONG 0         \n",
       "PGEZONG  PGEZONG  0         \n",
       "PWAOREG  PWAOREG  0         \n",
       "PZEILPL  PZEILPL  0         \n",
       "PPLEZIER PPLEZIER 0         \n",
       "PFIETS   PFIETS   0         \n",
       "PINBOED  PINBOED  0         \n",
       "AWAPART  AWAPART  0         \n",
       "AWABEDR  AWABEDR  0         \n",
       "AWALAND  AWALAND  0         \n",
       "ABESAUT  ABESAUT  0         \n",
       "AMOTSCO  AMOTSCO  0         \n",
       "AVRAAUT  AVRAAUT  0         \n",
       "AAANHANG AAANHANG 0         \n",
       "ATRACTOR ATRACTOR 0         \n",
       "AWERKT   AWERKT   0         \n",
       "ABROM    ABROM    0         \n",
       "ALEVEN   ALEVEN   0         \n",
       "APERSONG APERSONG 0         \n",
       "AGEZONG  AGEZONG  0         \n",
       "AWAOREG  AWAOREG  0         \n",
       "AZEILPL  AZEILPL  0         \n",
       "APLEZIER APLEZIER 0         \n",
       "AFIETS   AFIETS   0         \n",
       "AINBOED  AINBOED  0         \n",
       "ABYSTAND ABYSTAND 0         "
      ]
     },
     "metadata": {},
     "output_type": "display_data"
    },
    {
     "data": {
      "image/png": "[encoded data removed]",
      "text/plain": [
       "plot without title"
      ]
     },
     "metadata": {},
     "output_type": "display_data"
    }
   ],
   "source": [
    "summary(boost.model)"
   ]
  },
  {
   "cell_type": "markdown",
   "metadata": {},
   "source": [
    "The most important variables are PPERSAUT, MKOOPKLA and MBERMIDD."
   ]
  },
  {
   "cell_type": "markdown",
   "metadata": {},
   "source": [
    "# c"
   ]
  },
  {
   "cell_type": "markdown",
   "metadata": {},
   "source": [
    "## Boosting"
   ]
  },
  {
   "cell_type": "code",
   "execution_count": 74,
   "metadata": {
    "collapsed": false
   },
   "outputs": [
    {
     "data": {
      "text/plain": [
       "             \n",
       "purchase.pred   No  Yes\n",
       "          No  4410  256\n",
       "          Yes  123   33"
      ]
     },
     "metadata": {},
     "output_type": "display_data"
    }
   ],
   "source": [
    "yhat = predict(boost.model,newdata=caravan_dataset[-train,],n.trees=1000,type=\"response\")\n",
    "purchase.pred = rep(\"No\",length(yhat))\n",
    "purchase.pred[yhat>0.2]=\"Yes\"\n",
    "table(purchase.pred,Caravan$Purchase[-train])"
   ]
  },
  {
   "cell_type": "code",
   "execution_count": 102,
   "metadata": {
    "collapsed": false
   },
   "outputs": [
    {
     "data": {
      "text/html": [
       "0.211538461538462"
      ],
      "text/latex": [
       "0.211538461538462"
      ],
      "text/markdown": [
       "0.211538461538462"
      ],
      "text/plain": [
       "[1] 0.2115385"
      ]
     },
     "metadata": {},
     "output_type": "display_data"
    }
   ],
   "source": [
    "#Fraction of people predicted to make a purchase that do in fact make one. (Fraction of True Positives)\n",
    "33/(123+33)"
   ]
  },
  {
   "cell_type": "markdown",
   "metadata": {},
   "source": [
    "## knn"
   ]
  },
  {
   "cell_type": "code",
   "execution_count": 118,
   "metadata": {
    "collapsed": false
   },
   "outputs": [],
   "source": [
    "#knn\n",
    "library(class)\n",
    "std.x = scale(Caravan[,-86])\n",
    "train.x = std.x[train,]\n",
    "train.y = Caravan[train,86]\n",
    "test.x = std.x[-train,]"
   ]
  },
  {
   "cell_type": "code",
   "execution_count": 119,
   "metadata": {
    "collapsed": false
   },
   "outputs": [
    {
     "data": {
      "text/plain": [
       "        \n",
       "knn.pred   No  Yes\n",
       "     No  4506  279\n",
       "     Yes   27   10"
      ]
     },
     "metadata": {},
     "output_type": "display_data"
    }
   ],
   "source": [
    "set.seed(1)\n",
    "knn.pred = knn(train.x,test.x,train.y,k=5)\n",
    "table(knn.pred,Caravan$Purchase[-train])"
   ]
  },
  {
   "cell_type": "code",
   "execution_count": 120,
   "metadata": {
    "collapsed": false
   },
   "outputs": [
    {
     "data": {
      "text/html": [
       "0.27027027027027"
      ],
      "text/latex": [
       "0.27027027027027"
      ],
      "text/markdown": [
       "0.27027027027027"
      ],
      "text/plain": [
       "[1] 0.2702703"
      ]
     },
     "metadata": {},
     "output_type": "display_data"
    }
   ],
   "source": [
    "#Fraction of people predicted to make a purchase that do in fact make one. (Fraction of True Positives)\n",
    "10/(27+10)"
   ]
  },
  {
   "cell_type": "markdown",
   "metadata": {},
   "source": [
    "## Logistic Regression"
   ]
  },
  {
   "cell_type": "code",
   "execution_count": 125,
   "metadata": {
    "collapsed": false
   },
   "outputs": [
    {
     "name": "stderr",
     "output_type": "stream",
     "text": [
      "Warning message:\n",
      "“glm.fit: fitted probabilities numerically 0 or 1 occurred”"
     ]
    }
   ],
   "source": [
    "#Logistic Regression\n",
    "glm.model = glm(Purchase~.,data=Caravan,family=binomial,subset=train)"
   ]
  },
  {
   "cell_type": "code",
   "execution_count": 133,
   "metadata": {
    "collapsed": false
   },
   "outputs": [
    {
     "name": "stderr",
     "output_type": "stream",
     "text": [
      "Warning message in predict.lm(object, newdata, se.fit, scale = 1, type = ifelse(type == :\n",
      "“prediction from a rank-deficient fit may be misleading”"
     ]
    },
    {
     "data": {
      "text/plain": [
       "        \n",
       "glm.pred   No  Yes\n",
       "     No  4446  274\n",
       "     Yes   87   15"
      ]
     },
     "metadata": {},
     "output_type": "display_data"
    }
   ],
   "source": [
    "yhat = predict(glm.model,newdata=Caravan[-train,],type=\"response\")\n",
    "glm.pred = rep(\"No\",length(yhat))\n",
    "glm.pred[yhat>=0.5] = \"Yes\"\n",
    "table(glm.pred,Caravan$Purchase[-train])"
   ]
  },
  {
   "cell_type": "code",
   "execution_count": 135,
   "metadata": {
    "collapsed": false
   },
   "outputs": [
    {
     "data": {
      "text/html": [
       "0.147058823529412"
      ],
      "text/latex": [
       "0.147058823529412"
      ],
      "text/markdown": [
       "0.147058823529412"
      ],
      "text/plain": [
       "[1] 0.1470588"
      ]
     },
     "metadata": {},
     "output_type": "display_data"
    }
   ],
   "source": [
    "#Fraction of people predicted to make a purchase that do in fact make one. (Fraction of True Positives)\n",
    "15/(15+87)"
   ]
  },
  {
   "cell_type": "markdown",
   "metadata": {},
   "source": [
    "## Results"
   ]
  },
  {
   "cell_type": "markdown",
   "metadata": {},
   "source": [
    "Boosting produces 21% True Positives.\n",
    "\n",
    "KNN produces 27% True Positives.\n",
    "\n",
    "Logistic Regression produces 14% True Positives."
   ]
  }
 ],
 "metadata": {
  "kernelspec": {
   "display_name": "R",
   "language": "R",
   "name": "ir"
  },
  "language_info": {
   "codemirror_mode": "r",
   "file_extension": ".r",
   "mimetype": "text/x-r-source",
   "name": "R",
   "pygments_lexer": "r",
   "version": "3.2.2"
  }
 },
 "nbformat": 4,
 "nbformat_minor": 0
}
