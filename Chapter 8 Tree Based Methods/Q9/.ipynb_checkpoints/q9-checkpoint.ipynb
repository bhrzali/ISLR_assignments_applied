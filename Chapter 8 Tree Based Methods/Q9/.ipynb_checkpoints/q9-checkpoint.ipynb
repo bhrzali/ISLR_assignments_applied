{
 "cells": [
  {
   "cell_type": "markdown",
   "metadata": {},
   "source": [
    "Chapter 8 Tree Based Methods - Question 9"
   ]
  },
  {
   "cell_type": "code",
   "execution_count": 31,
   "metadata": {
    "collapsed": true
   },
   "outputs": [],
   "source": [
    "library(ISLR)"
   ]
  },
  {
   "cell_type": "code",
   "execution_count": 32,
   "metadata": {
    "collapsed": false
   },
   "outputs": [
    {
     "data": {
      "text/plain": [
       " Purchase WeekofPurchase     StoreID        PriceCH         PriceMM     \n",
       " CH:653   Min.   :227.0   Min.   :1.00   Min.   :1.690   Min.   :1.690  \n",
       " MM:417   1st Qu.:240.0   1st Qu.:2.00   1st Qu.:1.790   1st Qu.:1.990  \n",
       "          Median :257.0   Median :3.00   Median :1.860   Median :2.090  \n",
       "          Mean   :254.4   Mean   :3.96   Mean   :1.867   Mean   :2.085  \n",
       "          3rd Qu.:268.0   3rd Qu.:7.00   3rd Qu.:1.990   3rd Qu.:2.180  \n",
       "          Max.   :278.0   Max.   :7.00   Max.   :2.090   Max.   :2.290  \n",
       "     DiscCH            DiscMM         SpecialCH        SpecialMM     \n",
       " Min.   :0.00000   Min.   :0.0000   Min.   :0.0000   Min.   :0.0000  \n",
       " 1st Qu.:0.00000   1st Qu.:0.0000   1st Qu.:0.0000   1st Qu.:0.0000  \n",
       " Median :0.00000   Median :0.0000   Median :0.0000   Median :0.0000  \n",
       " Mean   :0.05186   Mean   :0.1234   Mean   :0.1477   Mean   :0.1617  \n",
       " 3rd Qu.:0.00000   3rd Qu.:0.2300   3rd Qu.:0.0000   3rd Qu.:0.0000  \n",
       " Max.   :0.50000   Max.   :0.8000   Max.   :1.0000   Max.   :1.0000  \n",
       "    LoyalCH          SalePriceMM     SalePriceCH      PriceDiff       Store7   \n",
       " Min.   :0.000011   Min.   :1.190   Min.   :1.390   Min.   :-0.6700   No :714  \n",
       " 1st Qu.:0.325257   1st Qu.:1.690   1st Qu.:1.750   1st Qu.: 0.0000   Yes:356  \n",
       " Median :0.600000   Median :2.090   Median :1.860   Median : 0.2300            \n",
       " Mean   :0.565782   Mean   :1.962   Mean   :1.816   Mean   : 0.1465            \n",
       " 3rd Qu.:0.850873   3rd Qu.:2.130   3rd Qu.:1.890   3rd Qu.: 0.3200            \n",
       " Max.   :0.999947   Max.   :2.290   Max.   :2.090   Max.   : 0.6400            \n",
       "   PctDiscMM        PctDiscCH       ListPriceDiff       STORE      \n",
       " Min.   :0.0000   Min.   :0.00000   Min.   :0.000   Min.   :0.000  \n",
       " 1st Qu.:0.0000   1st Qu.:0.00000   1st Qu.:0.140   1st Qu.:0.000  \n",
       " Median :0.0000   Median :0.00000   Median :0.240   Median :2.000  \n",
       " Mean   :0.0593   Mean   :0.02731   Mean   :0.218   Mean   :1.631  \n",
       " 3rd Qu.:0.1127   3rd Qu.:0.00000   3rd Qu.:0.300   3rd Qu.:3.000  \n",
       " Max.   :0.4020   Max.   :0.25269   Max.   :0.440   Max.   :4.000  "
      ]
     },
     "metadata": {},
     "output_type": "display_data"
    }
   ],
   "source": [
    "summary(OJ)"
   ]
  },
  {
   "cell_type": "markdown",
   "metadata": {},
   "source": [
    "# a"
   ]
  },
  {
   "cell_type": "code",
   "execution_count": 33,
   "metadata": {
    "collapsed": true
   },
   "outputs": [],
   "source": [
    "set.seed(1)\n",
    "train = sample(1:nrow(OJ),800)"
   ]
  },
  {
   "cell_type": "markdown",
   "metadata": {},
   "source": [
    "# b"
   ]
  },
  {
   "cell_type": "code",
   "execution_count": 34,
   "metadata": {
    "collapsed": false
   },
   "outputs": [
    {
     "data": {
      "text/plain": [
       "\n",
       "Classification tree:\n",
       "tree(formula = Purchase ~ ., data = OJ, subset = train)\n",
       "Variables actually used in tree construction:\n",
       "[1] \"LoyalCH\"       \"PriceDiff\"     \"SpecialCH\"     \"ListPriceDiff\"\n",
       "Number of terminal nodes:  8 \n",
       "Residual mean deviance:  0.7305 = 578.6 / 792 \n",
       "Misclassification error rate: 0.165 = 132 / 800 "
      ]
     },
     "metadata": {},
     "output_type": "display_data"
    }
   ],
   "source": [
    "library(tree)\n",
    "oj.model = tree(Purchase~.,data=OJ,subset=train)\n",
    "summary(oj.model)"
   ]
  },
  {
   "cell_type": "markdown",
   "metadata": {},
   "source": [
    "The tree uses the predictors LoyalCH, PriceDiff, SpecialCh and ListPriceDiff.\n",
    "It has 8 terminal nodes and its training error rate is 16.5%"
   ]
  },
  {
   "cell_type": "markdown",
   "metadata": {},
   "source": [
    "# c"
   ]
  },
  {
   "cell_type": "code",
   "execution_count": 35,
   "metadata": {
    "collapsed": false
   },
   "outputs": [
    {
     "data": {
      "text/plain": [
       "node), split, n, deviance, yval, (yprob)\n",
       "      * denotes terminal node\n",
       "\n",
       " 1) root 800 1064.00 CH ( 0.61750 0.38250 )  \n",
       "   2) LoyalCH < 0.508643 350  409.30 MM ( 0.27143 0.72857 )  \n",
       "     4) LoyalCH < 0.264232 166  122.10 MM ( 0.12048 0.87952 )  \n",
       "       8) LoyalCH < 0.0356415 57   10.07 MM ( 0.01754 0.98246 ) *\n",
       "       9) LoyalCH > 0.0356415 109  100.90 MM ( 0.17431 0.82569 ) *\n",
       "     5) LoyalCH > 0.264232 184  248.80 MM ( 0.40761 0.59239 )  \n",
       "      10) PriceDiff < 0.195 83   91.66 MM ( 0.24096 0.75904 )  \n",
       "        20) SpecialCH < 0.5 70   60.89 MM ( 0.15714 0.84286 ) *\n",
       "        21) SpecialCH > 0.5 13   16.05 CH ( 0.69231 0.30769 ) *\n",
       "      11) PriceDiff > 0.195 101  139.20 CH ( 0.54455 0.45545 ) *\n",
       "   3) LoyalCH > 0.508643 450  318.10 CH ( 0.88667 0.11333 )  \n",
       "     6) LoyalCH < 0.764572 172  188.90 CH ( 0.76163 0.23837 )  \n",
       "      12) ListPriceDiff < 0.235 70   95.61 CH ( 0.57143 0.42857 ) *\n",
       "      13) ListPriceDiff > 0.235 102   69.76 CH ( 0.89216 0.10784 ) *\n",
       "     7) LoyalCH > 0.764572 278   86.14 CH ( 0.96403 0.03597 ) *"
      ]
     },
     "metadata": {},
     "output_type": "display_data"
    }
   ],
   "source": [
    "oj.model"
   ]
  },
  {
   "cell_type": "markdown",
   "metadata": {},
   "source": [
    "The node number 20 is a terminal node which is indicated by asterisk symbol * . It uses the predictor, \"SpecialCH\" for splitting with a splitting value of 0.5. There are 70 samples in the region where SpecialCH < 0.5. Its deviance is 60.89 and the prediction of the tree for all the samples in this region is MM. The portion of samples in this region that actually belongs to MM is 0.84 and the portion of samples belonging to CH is 0.15. "
   ]
  },
  {
   "cell_type": "markdown",
   "metadata": {},
   "source": [
    "# d"
   ]
  },
  {
   "cell_type": "code",
   "execution_count": 36,
   "metadata": {
    "collapsed": false
   },
   "outputs": [
    {
     "data": {
      "image/png": "[encoded data removed]",
      "text/plain": [
       "plot without title"
      ]
     },
     "metadata": {},
     "output_type": "display_data"
    }
   ],
   "source": [
    "plot(oj.model)\n",
    "text(oj.model)"
   ]
  },
  {
   "cell_type": "markdown",
   "metadata": {},
   "source": [
    "At the root node the variable, \"LoyalCh\" is used for splitting the variable space into two regions. This indicates that \"LoyalCH\" is the most important variable in the model. Its splitting value is 0.5. Which means that the samples that have a \"LoyalCH\" value less than 0.5 belong to the left branch of the tree and the rest belong to the right branch. These two regions are further divided into smaller parts with certian splitting values as shown in the figure above. At the bottom of the tree there are 8 terminal nodes. The terminal nodes predict the class of the samples. "
   ]
  },
  {
   "cell_type": "markdown",
   "metadata": {},
   "source": [
    "# e"
   ]
  },
  {
   "cell_type": "code",
   "execution_count": 37,
   "metadata": {
    "collapsed": false
   },
   "outputs": [
    {
     "data": {
      "text/plain": [
       "    \n",
       "yhat  CH  MM\n",
       "  CH 147  49\n",
       "  MM  12  62"
      ]
     },
     "metadata": {},
     "output_type": "display_data"
    }
   ],
   "source": [
    "yhat = predict(oj.model,newdata=OJ[-train,],type=\"class\")\n",
    "table(yhat,OJ$Purchase[-train])"
   ]
  },
  {
   "cell_type": "code",
   "execution_count": 41,
   "metadata": {
    "collapsed": false
   },
   "outputs": [
    {
     "data": {
      "text/html": [
       "22.5925925925926"
      ],
      "text/latex": [
       "22.5925925925926"
      ],
      "text/markdown": [
       "22.5925925925926"
      ],
      "text/plain": [
       "[1] 22.59259"
      ]
     },
     "metadata": {},
     "output_type": "display_data"
    }
   ],
   "source": [
    "mean((yhat!=OJ$Purchase[-train]))*100"
   ]
  },
  {
   "cell_type": "markdown",
   "metadata": {},
   "source": [
    "The test error rate is 22.5%"
   ]
  },
  {
   "cell_type": "markdown",
   "metadata": {},
   "source": [
    "# f"
   ]
  },
  {
   "cell_type": "code",
   "execution_count": 45,
   "metadata": {
    "collapsed": false
   },
   "outputs": [
    {
     "data": {
      "text/plain": [
       "$size\n",
       "[1] 8 7 6 5 4 3 2 1\n",
       "\n",
       "$dev\n",
       "[1]  682.0334  672.8953  669.5341  673.7752  677.2774  745.9670  747.9226\n",
       "[8] 1068.4603\n",
       "\n",
       "$k\n",
       "[1]      -Inf  11.20965  14.72877  17.88334  23.55203  38.37537  43.02529\n",
       "[8] 337.08200\n",
       "\n",
       "$method\n",
       "[1] \"deviance\"\n",
       "\n",
       "attr(,\"class\")\n",
       "[1] \"prune\"         \"tree.sequence\""
      ]
     },
     "metadata": {},
     "output_type": "display_data"
    }
   ],
   "source": [
    "cv.oj.model = cv.tree(oj.model)\n",
    "cv.oj.model"
   ]
  },
  {
   "cell_type": "markdown",
   "metadata": {},
   "source": [
    "The tree with 6 terminal nodes gives the lowest deviance and hence is the best model in this case."
   ]
  },
  {
   "cell_type": "markdown",
   "metadata": {},
   "source": [
    "# g"
   ]
  },
  {
   "cell_type": "code",
   "execution_count": 49,
   "metadata": {
    "collapsed": false
   },
   "outputs": [
    {
     "data": {
      "image/png": "[encoded data removed]",
      "text/plain": [
       "plot without title"
      ]
     },
     "metadata": {},
     "output_type": "display_data"
    }
   ],
   "source": [
    "plot(cv.oj.model$size,cv.oj.model$dev,xlab=\"size\",ylab=\"deviance\",type=\"b\")"
   ]
  },
  {
   "cell_type": "markdown",
   "metadata": {},
   "source": [
    "# h"
   ]
  },
  {
   "cell_type": "markdown",
   "metadata": {},
   "source": [
    "According to the graph the tree with 6 terminal nodes gives the lowest cross-validated classification error rate."
   ]
  },
  {
   "cell_type": "markdown",
   "metadata": {},
   "source": [
    "# i"
   ]
  },
  {
   "cell_type": "code",
   "execution_count": 51,
   "metadata": {
    "collapsed": false
   },
   "outputs": [
    {
     "data": {
      "image/png": "[encoded data removed]",
      "text/plain": [
       "plot without title"
      ]
     },
     "metadata": {},
     "output_type": "display_data"
    }
   ],
   "source": [
    "pruned.oj.model = prune.tree(oj.model,best=6)\n",
    "plot(pruned.oj.model)\n",
    "text(pruned.oj.model)"
   ]
  },
  {
   "cell_type": "markdown",
   "metadata": {},
   "source": [
    "# j"
   ]
  },
  {
   "cell_type": "code",
   "execution_count": 52,
   "metadata": {
    "collapsed": false
   },
   "outputs": [
    {
     "data": {
      "text/plain": [
       "\n",
       "Classification tree:\n",
       "snip.tree(tree = oj.model, nodes = c(4L, 10L))\n",
       "Variables actually used in tree construction:\n",
       "[1] \"LoyalCH\"       \"PriceDiff\"     \"ListPriceDiff\"\n",
       "Number of terminal nodes:  6 \n",
       "Residual mean deviance:  0.7614 = 604.5 / 794 \n",
       "Misclassification error rate: 0.1713 = 137 / 800 "
      ]
     },
     "metadata": {},
     "output_type": "display_data"
    }
   ],
   "source": [
    "summary(pruned.oj.model)"
   ]
  },
  {
   "cell_type": "code",
   "execution_count": 53,
   "metadata": {
    "collapsed": false
   },
   "outputs": [
    {
     "data": {
      "text/plain": [
       "\n",
       "Classification tree:\n",
       "tree(formula = Purchase ~ ., data = OJ, subset = train)\n",
       "Variables actually used in tree construction:\n",
       "[1] \"LoyalCH\"       \"PriceDiff\"     \"SpecialCH\"     \"ListPriceDiff\"\n",
       "Number of terminal nodes:  8 \n",
       "Residual mean deviance:  0.7305 = 578.6 / 792 \n",
       "Misclassification error rate: 0.165 = 132 / 800 "
      ]
     },
     "metadata": {},
     "output_type": "display_data"
    }
   ],
   "source": [
    "summary(oj.model)"
   ]
  },
  {
   "cell_type": "markdown",
   "metadata": {},
   "source": [
    "The training error rate of the pruned tree is 0.17 which is slightly higher than that of the unpruned tree."
   ]
  },
  {
   "cell_type": "markdown",
   "metadata": {},
   "source": [
    "# k"
   ]
  },
  {
   "cell_type": "code",
   "execution_count": 56,
   "metadata": {
    "collapsed": false
   },
   "outputs": [
    {
     "data": {
      "text/html": [
       "22.5925925925926"
      ],
      "text/latex": [
       "22.5925925925926"
      ],
      "text/markdown": [
       "22.5925925925926"
      ],
      "text/plain": [
       "[1] 22.59259"
      ]
     },
     "metadata": {},
     "output_type": "display_data"
    }
   ],
   "source": [
    "#test error rate of unpruned tree\n",
    "yhat = predict(oj.model,newdata=OJ[-train,],type=\"class\")\n",
    "mean(yhat!=OJ$Purchase[-train])*100"
   ]
  },
  {
   "cell_type": "code",
   "execution_count": 55,
   "metadata": {
    "collapsed": false
   },
   "outputs": [
    {
     "data": {
      "text/html": [
       "21.8518518518519"
      ],
      "text/latex": [
       "21.8518518518519"
      ],
      "text/markdown": [
       "21.8518518518519"
      ],
      "text/plain": [
       "[1] 21.85185"
      ]
     },
     "metadata": {},
     "output_type": "display_data"
    }
   ],
   "source": [
    "#test error rate of pruned tree\n",
    "yhat = predict(pruned.oj.model,newdata=OJ[-train,],type=\"class\")\n",
    "mean(yhat!=OJ$Purchase[-train])*100"
   ]
  },
  {
   "cell_type": "markdown",
   "metadata": {},
   "source": [
    "The pruned tree gives a lower test error rate."
   ]
  }
 ],
 "metadata": {
  "kernelspec": {
   "display_name": "R",
   "language": "R",
   "name": "ir"
  },
  "language_info": {
   "codemirror_mode": "r",
   "file_extension": ".r",
   "mimetype": "text/x-r-source",
   "name": "R",
   "pygments_lexer": "r",
   "version": "3.2.2"
  }
 },
 "nbformat": 4,
 "nbformat_minor": 0
}
