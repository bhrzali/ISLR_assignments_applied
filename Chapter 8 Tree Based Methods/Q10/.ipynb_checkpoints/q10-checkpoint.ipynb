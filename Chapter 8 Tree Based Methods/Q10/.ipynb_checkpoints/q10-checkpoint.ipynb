{
 "cells": [
  {
   "cell_type": "markdown",
   "metadata": {},
   "source": [
    "Chapter 8 Tree Based Methods - Question 10"
   ]
  },
  {
   "cell_type": "code",
   "execution_count": 23,
   "metadata": {
    "collapsed": false
   },
   "outputs": [
    {
     "data": {
      "text/plain": [
       "     AtBat            Hits         HmRun            Runs       \n",
       " Min.   : 16.0   Min.   :  1   Min.   : 0.00   Min.   :  0.00  \n",
       " 1st Qu.:255.2   1st Qu.: 64   1st Qu.: 4.00   1st Qu.: 30.25  \n",
       " Median :379.5   Median : 96   Median : 8.00   Median : 48.00  \n",
       " Mean   :380.9   Mean   :101   Mean   :10.77   Mean   : 50.91  \n",
       " 3rd Qu.:512.0   3rd Qu.:137   3rd Qu.:16.00   3rd Qu.: 69.00  \n",
       " Max.   :687.0   Max.   :238   Max.   :40.00   Max.   :130.00  \n",
       "                                                               \n",
       "      RBI             Walks            Years            CAtBat       \n",
       " Min.   :  0.00   Min.   :  0.00   Min.   : 1.000   Min.   :   19.0  \n",
       " 1st Qu.: 28.00   1st Qu.: 22.00   1st Qu.: 4.000   1st Qu.:  816.8  \n",
       " Median : 44.00   Median : 35.00   Median : 6.000   Median : 1928.0  \n",
       " Mean   : 48.03   Mean   : 38.74   Mean   : 7.444   Mean   : 2648.7  \n",
       " 3rd Qu.: 64.75   3rd Qu.: 53.00   3rd Qu.:11.000   3rd Qu.: 3924.2  \n",
       " Max.   :121.00   Max.   :105.00   Max.   :24.000   Max.   :14053.0  \n",
       "                                                                     \n",
       "     CHits            CHmRun           CRuns             CRBI        \n",
       " Min.   :   4.0   Min.   :  0.00   Min.   :   1.0   Min.   :   0.00  \n",
       " 1st Qu.: 209.0   1st Qu.: 14.00   1st Qu.: 100.2   1st Qu.:  88.75  \n",
       " Median : 508.0   Median : 37.50   Median : 247.0   Median : 220.50  \n",
       " Mean   : 717.6   Mean   : 69.49   Mean   : 358.8   Mean   : 330.12  \n",
       " 3rd Qu.:1059.2   3rd Qu.: 90.00   3rd Qu.: 526.2   3rd Qu.: 426.25  \n",
       " Max.   :4256.0   Max.   :548.00   Max.   :2165.0   Max.   :1659.00  \n",
       "                                                                     \n",
       "     CWalks        League  Division    PutOuts          Assists     \n",
       " Min.   :   0.00   A:175   E:157    Min.   :   0.0   Min.   :  0.0  \n",
       " 1st Qu.:  67.25   N:147   W:165    1st Qu.: 109.2   1st Qu.:  7.0  \n",
       " Median : 170.50                    Median : 212.0   Median : 39.5  \n",
       " Mean   : 260.24                    Mean   : 288.9   Mean   :106.9  \n",
       " 3rd Qu.: 339.25                    3rd Qu.: 325.0   3rd Qu.:166.0  \n",
       " Max.   :1566.00                    Max.   :1378.0   Max.   :492.0  \n",
       "                                                                    \n",
       "     Errors          Salary       NewLeague\n",
       " Min.   : 0.00   Min.   :  67.5   A:176    \n",
       " 1st Qu.: 3.00   1st Qu.: 190.0   N:146    \n",
       " Median : 6.00   Median : 425.0            \n",
       " Mean   : 8.04   Mean   : 535.9            \n",
       " 3rd Qu.:11.00   3rd Qu.: 750.0            \n",
       " Max.   :32.00   Max.   :2460.0            \n",
       "                 NA's   :59                "
      ]
     },
     "metadata": {},
     "output_type": "display_data"
    }
   ],
   "source": [
    "library(ISLR)\n",
    "library(gbm)\n",
    "summary(Hitters)"
   ]
  },
  {
   "cell_type": "markdown",
   "metadata": {},
   "source": [
    "# a"
   ]
  },
  {
   "cell_type": "code",
   "execution_count": 12,
   "metadata": {
    "collapsed": true
   },
   "outputs": [],
   "source": [
    "hitters_dataset = na.omit(Hitters)"
   ]
  },
  {
   "cell_type": "code",
   "execution_count": 13,
   "metadata": {
    "collapsed": true
   },
   "outputs": [],
   "source": [
    "hitters_dataset$Salary = log(hitters_dataset$Salary)"
   ]
  },
  {
   "cell_type": "markdown",
   "metadata": {},
   "source": [
    "# b"
   ]
  },
  {
   "cell_type": "code",
   "execution_count": 54,
   "metadata": {
    "collapsed": true
   },
   "outputs": [],
   "source": [
    "set.seed(1)\n",
    "train = sample(1:nrow(hitters_dataset),200)"
   ]
  },
  {
   "cell_type": "markdown",
   "metadata": {},
   "source": [
    "# c"
   ]
  },
  {
   "cell_type": "code",
   "execution_count": 55,
   "metadata": {
    "collapsed": true
   },
   "outputs": [],
   "source": [
    "lambda = seq(0.1,0.9,0.1)"
   ]
  },
  {
   "cell_type": "code",
   "execution_count": 56,
   "metadata": {
    "collapsed": false
   },
   "outputs": [],
   "source": [
    "boost.model = gbm(Salary~.,data=hitters_dataset[train,],n.trees=1000,shrinkage=0.2,distribution=\"gaussian\",\n",
    "                  interaction.depth=4)"
   ]
  },
  {
   "cell_type": "code",
   "execution_count": 57,
   "metadata": {
    "collapsed": false
   },
   "outputs": [
    {
     "data": {
      "text/html": [
       "1.36501282312376e-05"
      ],
      "text/latex": [
       "1.36501282312376e-05"
      ],
      "text/markdown": [
       "1.36501282312376e-05"
      ],
      "text/plain": [
       "[1] 1.365013e-05"
      ]
     },
     "metadata": {},
     "output_type": "display_data"
    }
   ],
   "source": [
    "yhat = predict(boost.model,hitters_dataset[train,],n.trees=1000)\n",
    "mean((yhat-hitters_dataset$Salary[train])^2)"
   ]
  },
  {
   "cell_type": "code",
   "execution_count": 58,
   "metadata": {
    "collapsed": false
   },
   "outputs": [],
   "source": [
    "mse = c()\n",
    "for(i in 1:length(lambda)){\n",
    "    boost.model = gbm(Salary~.,data=hitters_dataset[train,],n.trees=1000,shrinkage=lambda[i],distribution=\"gaussian\",\n",
    "                      interaction.depth=4)\n",
    "    yhat = predict(boost.model,newdata=hitters_dataset[train,],n.trees=1000)\n",
    "    mse[i]=mean((yhat-hitters_dataset$Salary[train])^2)\n",
    "}"
   ]
  },
  {
   "cell_type": "code",
   "execution_count": 63,
   "metadata": {
    "collapsed": false
   },
   "outputs": [
    {
     "data": {
      "image/png": "[encoded data removed]",
      "text/plain": [
       "plot without title"
      ]
     },
     "metadata": {},
     "output_type": "display_data"
    }
   ],
   "source": [
    "plot(lambda,mse,type=\"b\",ylab=\"training mse\")"
   ]
  },
  {
   "cell_type": "markdown",
   "metadata": {},
   "source": [
    "# d"
   ]
  },
  {
   "cell_type": "code",
   "execution_count": 65,
   "metadata": {
    "collapsed": true
   },
   "outputs": [],
   "source": [
    "mse = c()\n",
    "for(i in 1:length(lambda)){\n",
    "    boost.model = gbm(Salary~.,data=hitters_dataset[train,],n.trees=1000,shrinkage=lambda[i],distribution=\"gaussian\",\n",
    "                      interaction.depth=4)\n",
    "    yhat = predict(boost.model,newdata=hitters_dataset[-train,],n.trees=1000)\n",
    "    mse[i]=mean((yhat-hitters_dataset$Salary[-train])^2)\n",
    "}"
   ]
  },
  {
   "cell_type": "code",
   "execution_count": 67,
   "metadata": {
    "collapsed": false
   },
   "outputs": [
    {
     "data": {
      "image/png": "[encoded data removed]",
      "text/plain": [
       "plot without title"
      ]
     },
     "metadata": {},
     "output_type": "display_data"
    }
   ],
   "source": [
    "plot(lambda,mse,ylab=\"test mse\",type=\"b\")"
   ]
  },
  {
   "cell_type": "code",
   "execution_count": 71,
   "metadata": {
    "collapsed": false
   },
   "outputs": [
    {
     "data": {
      "text/html": [
       "0.3"
      ],
      "text/latex": [
       "0.3"
      ],
      "text/markdown": [
       "0.3"
      ],
      "text/plain": [
       "[1] 0.3"
      ]
     },
     "metadata": {},
     "output_type": "display_data"
    }
   ],
   "source": [
    "#Learning rate that gives the lowest test mse\n",
    "lambda[which.min(mse)]"
   ]
  },
  {
   "cell_type": "code",
   "execution_count": 73,
   "metadata": {
    "collapsed": false
   },
   "outputs": [
    {
     "data": {
      "text/html": [
       "0.208067334005743"
      ],
      "text/latex": [
       "0.208067334005743"
      ],
      "text/markdown": [
       "0.208067334005743"
      ],
      "text/plain": [
       "[1] 0.2080673"
      ]
     },
     "metadata": {},
     "output_type": "display_data"
    }
   ],
   "source": [
    "#lowest test mse\n",
    "min(mse)"
   ]
  },
  {
   "cell_type": "markdown",
   "metadata": {},
   "source": [
    "# e"
   ]
  },
  {
   "cell_type": "code",
   "execution_count": 74,
   "metadata": {
    "collapsed": false
   },
   "outputs": [
    {
     "data": {
      "text/html": [
       "0.393866557226116"
      ],
      "text/latex": [
       "0.393866557226116"
      ],
      "text/markdown": [
       "0.393866557226116"
      ],
      "text/plain": [
       "[1] 0.3938666"
      ]
     },
     "metadata": {},
     "output_type": "display_data"
    }
   ],
   "source": [
    "#The test mse of Linear Regression Model\n",
    "lm.model = lm(Salary~.,data=hitters_dataset,subset=train)\n",
    "yhat = predict(lm.model,newdata=hitters_dataset[-train,])\n",
    "mean((yhat-hitters_dataset$Salary[-train])^2)"
   ]
  },
  {
   "cell_type": "code",
   "execution_count": 78,
   "metadata": {
    "collapsed": false
   },
   "outputs": [],
   "source": [
    "#Linear Regression with best subset selection\n",
    "library(leaps)\n",
    "bs.model = regsubsets(Salary~.,data=hitters_dataset,nvmax=19)\n",
    "bs.model.summary = summary(bs.model)"
   ]
  },
  {
   "cell_type": "code",
   "execution_count": 79,
   "metadata": {
    "collapsed": false
   },
   "outputs": [
    {
     "data": {
      "text/html": [
       "<ol class=list-inline>\n",
       "\t<li>'which'</li>\n",
       "\t<li>'rsq'</li>\n",
       "\t<li>'rss'</li>\n",
       "\t<li>'adjr2'</li>\n",
       "\t<li>'cp'</li>\n",
       "\t<li>'bic'</li>\n",
       "\t<li>'outmat'</li>\n",
       "\t<li>'obj'</li>\n",
       "</ol>\n"
      ],
      "text/latex": [
       "\\begin{enumerate*}\n",
       "\\item 'which'\n",
       "\\item 'rsq'\n",
       "\\item 'rss'\n",
       "\\item 'adjr2'\n",
       "\\item 'cp'\n",
       "\\item 'bic'\n",
       "\\item 'outmat'\n",
       "\\item 'obj'\n",
       "\\end{enumerate*}\n"
      ],
      "text/markdown": [
       "1. 'which'\n",
       "2. 'rsq'\n",
       "3. 'rss'\n",
       "4. 'adjr2'\n",
       "5. 'cp'\n",
       "6. 'bic'\n",
       "7. 'outmat'\n",
       "8. 'obj'\n",
       "\n",
       "\n"
      ],
      "text/plain": [
       "[1] \"which\"  \"rsq\"    \"rss\"    \"adjr2\"  \"cp\"     \"bic\"    \"outmat\" \"obj\"   "
      ]
     },
     "metadata": {},
     "output_type": "display_data"
    }
   ],
   "source": [
    "names(bs.model.summary)"
   ]
  },
  {
   "cell_type": "code",
   "execution_count": 85,
   "metadata": {
    "collapsed": false
   },
   "outputs": [
    {
     "data": {
      "image/png": "[encoded data removed]",
      "text/plain": [
       "plot without title"
      ]
     },
     "metadata": {},
     "output_type": "display_data"
    }
   ],
   "source": [
    "par(mfrow=c(2,2))\n",
    "plot(bs.model.summary$adjr2,type=\"l\")\n",
    "plot(bs.model.summary$cp,type=\"l\")\n",
    "plot(bs.model.summary$bic,type=\"l\")"
   ]
  },
  {
   "cell_type": "code",
   "execution_count": 89,
   "metadata": {
    "collapsed": false
   },
   "outputs": [
    {
     "data": {
      "text/html": [
       "13"
      ],
      "text/latex": [
       "13"
      ],
      "text/markdown": [
       "13"
      ],
      "text/plain": [
       "[1] 13"
      ]
     },
     "metadata": {},
     "output_type": "display_data"
    }
   ],
   "source": [
    "#no. of predictors that give the highest adjusted R-squared value\n",
    "which.max(bs.model.summary$adjr2)"
   ]
  },
  {
   "cell_type": "code",
   "execution_count": 90,
   "metadata": {
    "collapsed": false
   },
   "outputs": [
    {
     "data": {
      "text/html": [
       "9"
      ],
      "text/latex": [
       "9"
      ],
      "text/markdown": [
       "9"
      ],
      "text/plain": [
       "[1] 9"
      ]
     },
     "metadata": {},
     "output_type": "display_data"
    }
   ],
   "source": [
    "#no. of predictors that give the lowest cp value\n",
    "which.min(bs.model.summary$cp)"
   ]
  },
  {
   "cell_type": "code",
   "execution_count": 92,
   "metadata": {
    "collapsed": false
   },
   "outputs": [
    {
     "data": {
      "text/html": [
       "3"
      ],
      "text/latex": [
       "3"
      ],
      "text/markdown": [
       "3"
      ],
      "text/plain": [
       "[1] 3"
      ]
     },
     "metadata": {},
     "output_type": "display_data"
    }
   ],
   "source": [
    "#no. of predictors that give the lowest bic\n",
    "which.min(bs.model.summary$bic)"
   ]
  },
  {
   "cell_type": "code",
   "execution_count": 115,
   "metadata": {
    "collapsed": false
   },
   "outputs": [
    {
     "data": {
      "text/html": [
       "0.242233822755051"
      ],
      "text/latex": [
       "0.242233822755051"
      ],
      "text/markdown": [
       "0.242233822755051"
      ],
      "text/plain": [
       "[1] 0.2422338"
      ]
     },
     "metadata": {},
     "output_type": "display_data"
    }
   ],
   "source": [
    "#mse for model with 13 variables\n",
    "n = names(coef(bs.model,13))\n",
    "test.mat = model.matrix(Salary~.,data=hitters_dataset[-train,])\n",
    "yhat = test.mat[,n]%*%coef(bs.model,13)\n",
    "mean((yhat-hitters_dataset$Salary[-train])^2)"
   ]
  },
  {
   "cell_type": "code",
   "execution_count": 116,
   "metadata": {
    "collapsed": false
   },
   "outputs": [
    {
     "data": {
      "text/html": [
       "0.261273947796572"
      ],
      "text/latex": [
       "0.261273947796572"
      ],
      "text/markdown": [
       "0.261273947796572"
      ],
      "text/plain": [
       "[1] 0.2612739"
      ]
     },
     "metadata": {},
     "output_type": "display_data"
    }
   ],
   "source": [
    "#mse for model with 9 variables\n",
    "n = names(coef(bs.model,9))\n",
    "test.mat = model.matrix(Salary~.,data=hitters_dataset[-train,])\n",
    "yhat = test.mat[,n]%*%coef(bs.model,9)\n",
    "mean((yhat-hitters_dataset$Salary[-train])^2)"
   ]
  },
  {
   "cell_type": "code",
   "execution_count": 117,
   "metadata": {
    "collapsed": false
   },
   "outputs": [
    {
     "data": {
      "text/html": [
       "0.250683079506544"
      ],
      "text/latex": [
       "0.250683079506544"
      ],
      "text/markdown": [
       "0.250683079506544"
      ],
      "text/plain": [
       "[1] 0.2506831"
      ]
     },
     "metadata": {},
     "output_type": "display_data"
    }
   ],
   "source": [
    "#mse for model with 3 variables\n",
    "n = names(coef(bs.model,3))\n",
    "test.mat = model.matrix(Salary~.,data=hitters_dataset[-train,])\n",
    "yhat = test.mat[,n]%*%coef(bs.model,3)\n",
    "mean((yhat-hitters_dataset$Salary[-train])^2)"
   ]
  },
  {
   "cell_type": "markdown",
   "metadata": {},
   "source": [
    "In part (d) of this question we can see that boosting gives a model with a test mse of 0.2 which is lower than the mse of the Linear Regression models obtained with and without the best subset selection algorithm."
   ]
  },
  {
   "cell_type": "markdown",
   "metadata": {},
   "source": [
    "# f"
   ]
  },
  {
   "cell_type": "code",
   "execution_count": 118,
   "metadata": {
    "collapsed": false
   },
   "outputs": [
    {
     "data": {
      "text/html": [
       "<table>\n",
       "<thead><tr><th></th><th scope=col>var</th><th scope=col>rel.inf</th></tr></thead>\n",
       "<tbody>\n",
       "\t<tr><th scope=row>CRBI</th><td>CRBI      </td><td>22.3654877</td></tr>\n",
       "\t<tr><th scope=row>RBI</th><td>RBI       </td><td> 7.6115471</td></tr>\n",
       "\t<tr><th scope=row>PutOuts</th><td>PutOuts   </td><td> 7.2129052</td></tr>\n",
       "\t<tr><th scope=row>CWalks</th><td>CWalks    </td><td> 7.0474275</td></tr>\n",
       "\t<tr><th scope=row>Walks</th><td>Walks     </td><td> 6.2574998</td></tr>\n",
       "\t<tr><th scope=row>AtBat</th><td>AtBat     </td><td> 5.4665939</td></tr>\n",
       "\t<tr><th scope=row>Assists</th><td>Assists   </td><td> 4.7977665</td></tr>\n",
       "\t<tr><th scope=row>CHmRun</th><td>CHmRun    </td><td> 4.5353878</td></tr>\n",
       "\t<tr><th scope=row>CHits</th><td>CHits     </td><td> 4.4261210</td></tr>\n",
       "\t<tr><th scope=row>Runs</th><td>Runs      </td><td> 4.3462279</td></tr>\n",
       "\t<tr><th scope=row>Errors</th><td>Errors    </td><td> 4.0873342</td></tr>\n",
       "\t<tr><th scope=row>Years</th><td>Years     </td><td> 3.9898132</td></tr>\n",
       "\t<tr><th scope=row>Hits</th><td>Hits      </td><td> 3.8697769</td></tr>\n",
       "\t<tr><th scope=row>HmRun</th><td>HmRun     </td><td> 3.7694035</td></tr>\n",
       "\t<tr><th scope=row>CAtBat</th><td>CAtBat    </td><td> 3.3025405</td></tr>\n",
       "\t<tr><th scope=row>CRuns</th><td>CRuns     </td><td> 2.7592266</td></tr>\n",
       "\t<tr><th scope=row>Division</th><td>Division  </td><td> 1.8578448</td></tr>\n",
       "\t<tr><th scope=row>NewLeague</th><td>NewLeague </td><td> 1.5045714</td></tr>\n",
       "\t<tr><th scope=row>League</th><td>League    </td><td> 0.7925247</td></tr>\n",
       "</tbody>\n",
       "</table>\n"
      ],
      "text/latex": [
       "\\begin{tabular}{r|ll}\n",
       "  & var & rel.inf\\\\\n",
       "\\hline\n",
       "\tCRBI & CRBI       & 22.3654877\\\\\n",
       "\tRBI & RBI        &  7.6115471\\\\\n",
       "\tPutOuts & PutOuts    &  7.2129052\\\\\n",
       "\tCWalks & CWalks     &  7.0474275\\\\\n",
       "\tWalks & Walks      &  6.2574998\\\\\n",
       "\tAtBat & AtBat      &  5.4665939\\\\\n",
       "\tAssists & Assists    &  4.7977665\\\\\n",
       "\tCHmRun & CHmRun     &  4.5353878\\\\\n",
       "\tCHits & CHits      &  4.4261210\\\\\n",
       "\tRuns & Runs       &  4.3462279\\\\\n",
       "\tErrors & Errors     &  4.0873342\\\\\n",
       "\tYears & Years      &  3.9898132\\\\\n",
       "\tHits & Hits       &  3.8697769\\\\\n",
       "\tHmRun & HmRun      &  3.7694035\\\\\n",
       "\tCAtBat & CAtBat     &  3.3025405\\\\\n",
       "\tCRuns & CRuns      &  2.7592266\\\\\n",
       "\tDivision & Division   &  1.8578448\\\\\n",
       "\tNewLeague & NewLeague  &  1.5045714\\\\\n",
       "\tLeague & League     &  0.7925247\\\\\n",
       "\\end{tabular}\n"
      ],
      "text/markdown": [
       "\n",
       "| <!--/--> | var | rel.inf | \n",
       "|---|---|---|---|---|---|---|---|---|---|---|---|---|---|---|---|---|---|---|\n",
       "| CRBI | CRBI       | 22.3654877 | \n",
       "| RBI | RBI        |  7.6115471 | \n",
       "| PutOuts | PutOuts    |  7.2129052 | \n",
       "| CWalks | CWalks     |  7.0474275 | \n",
       "| Walks | Walks      |  6.2574998 | \n",
       "| AtBat | AtBat      |  5.4665939 | \n",
       "| Assists | Assists    |  4.7977665 | \n",
       "| CHmRun | CHmRun     |  4.5353878 | \n",
       "| CHits | CHits      |  4.4261210 | \n",
       "| Runs | Runs       |  4.3462279 | \n",
       "| Errors | Errors     |  4.0873342 | \n",
       "| Years | Years      |  3.9898132 | \n",
       "| Hits | Hits       |  3.8697769 | \n",
       "| HmRun | HmRun      |  3.7694035 | \n",
       "| CAtBat | CAtBat     |  3.3025405 | \n",
       "| CRuns | CRuns      |  2.7592266 | \n",
       "| Division | Division   |  1.8578448 | \n",
       "| NewLeague | NewLeague  |  1.5045714 | \n",
       "| League | League     |  0.7925247 | \n",
       "\n",
       "\n"
      ],
      "text/plain": [
       "          var       rel.inf   \n",
       "CRBI      CRBI      22.3654877\n",
       "RBI       RBI        7.6115471\n",
       "PutOuts   PutOuts    7.2129052\n",
       "CWalks    CWalks     7.0474275\n",
       "Walks     Walks      6.2574998\n",
       "AtBat     AtBat      5.4665939\n",
       "Assists   Assists    4.7977665\n",
       "CHmRun    CHmRun     4.5353878\n",
       "CHits     CHits      4.4261210\n",
       "Runs      Runs       4.3462279\n",
       "Errors    Errors     4.0873342\n",
       "Years     Years      3.9898132\n",
       "Hits      Hits       3.8697769\n",
       "HmRun     HmRun      3.7694035\n",
       "CAtBat    CAtBat     3.3025405\n",
       "CRuns     CRuns      2.7592266\n",
       "Division  Division   1.8578448\n",
       "NewLeague NewLeague  1.5045714\n",
       "League    League     0.7925247"
      ]
     },
     "metadata": {},
     "output_type": "display_data"
    },
    {
     "data": {
      "image/png": "[encoded data removed]",
      "text/plain": [
       "plot without title"
      ]
     },
     "metadata": {},
     "output_type": "display_data"
    }
   ],
   "source": [
    "summary(boost.model)"
   ]
  },
  {
   "cell_type": "markdown",
   "metadata": {},
   "source": [
    "CRBI is the most important variable in the boosted model. RBI, PutOuts and CWalks are second most important variables."
   ]
  },
  {
   "cell_type": "markdown",
   "metadata": {},
   "source": [
    "# g"
   ]
  },
  {
   "cell_type": "code",
   "execution_count": 120,
   "metadata": {
    "collapsed": false
   },
   "outputs": [],
   "source": [
    "library(randomForest)"
   ]
  },
  {
   "cell_type": "code",
   "execution_count": 121,
   "metadata": {
    "collapsed": true
   },
   "outputs": [],
   "source": [
    "p = ncol(hitters_dataset)-1\n",
    "bag.model = randomForest(Salary~.,data=hitters_dataset[train,],n.trees=500,mtry=p)"
   ]
  },
  {
   "cell_type": "code",
   "execution_count": 123,
   "metadata": {
    "collapsed": false
   },
   "outputs": [
    {
     "data": {
      "text/html": [
       "0.116289237234559"
      ],
      "text/latex": [
       "0.116289237234559"
      ],
      "text/markdown": [
       "0.116289237234559"
      ],
      "text/plain": [
       "[1] 0.1162892"
      ]
     },
     "metadata": {},
     "output_type": "display_data"
    }
   ],
   "source": [
    "#mse of bagging algorithm\n",
    "yhat = predict(bag.model,newdata=hitters_dataset[-train,])\n",
    "mean((yhat-hitters_dataset$Salary[-train])^2)"
   ]
  },
  {
   "cell_type": "markdown",
   "metadata": {},
   "source": [
    "Bagging gives mse of 0.11, which is lower than the mse of all the models trained in this exercise."
   ]
  }
 ],
 "metadata": {
  "kernelspec": {
   "display_name": "R",
   "language": "R",
   "name": "ir"
  },
  "language_info": {
   "codemirror_mode": "r",
   "file_extension": ".r",
   "mimetype": "text/x-r-source",
   "name": "R",
   "pygments_lexer": "r",
   "version": "3.2.2"
  }
 },
 "nbformat": 4,
 "nbformat_minor": 0
}
