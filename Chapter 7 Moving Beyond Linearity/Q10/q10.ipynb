{
 "cells": [
  {
   "cell_type": "markdown",
   "metadata": {},
   "source": [
    "Chapter 7 - Moving Beyond Linearity, Question 10"
   ]
  },
  {
   "cell_type": "code",
   "execution_count": 2,
   "metadata": {
    "collapsed": false
   },
   "outputs": [
    {
     "data": {
      "text/plain": [
       " Private        Apps           Accept          Enroll       Top10perc    \n",
       " No :212   Min.   :   81   Min.   :   72   Min.   :  35   Min.   : 1.00  \n",
       " Yes:565   1st Qu.:  776   1st Qu.:  604   1st Qu.: 242   1st Qu.:15.00  \n",
       "           Median : 1558   Median : 1110   Median : 434   Median :23.00  \n",
       "           Mean   : 3002   Mean   : 2019   Mean   : 780   Mean   :27.56  \n",
       "           3rd Qu.: 3624   3rd Qu.: 2424   3rd Qu.: 902   3rd Qu.:35.00  \n",
       "           Max.   :48094   Max.   :26330   Max.   :6392   Max.   :96.00  \n",
       "   Top25perc      F.Undergrad     P.Undergrad         Outstate    \n",
       " Min.   :  9.0   Min.   :  139   Min.   :    1.0   Min.   : 2340  \n",
       " 1st Qu.: 41.0   1st Qu.:  992   1st Qu.:   95.0   1st Qu.: 7320  \n",
       " Median : 54.0   Median : 1707   Median :  353.0   Median : 9990  \n",
       " Mean   : 55.8   Mean   : 3700   Mean   :  855.3   Mean   :10441  \n",
       " 3rd Qu.: 69.0   3rd Qu.: 4005   3rd Qu.:  967.0   3rd Qu.:12925  \n",
       " Max.   :100.0   Max.   :31643   Max.   :21836.0   Max.   :21700  \n",
       "   Room.Board       Books           Personal         PhD        \n",
       " Min.   :1780   Min.   :  96.0   Min.   : 250   Min.   :  8.00  \n",
       " 1st Qu.:3597   1st Qu.: 470.0   1st Qu.: 850   1st Qu.: 62.00  \n",
       " Median :4200   Median : 500.0   Median :1200   Median : 75.00  \n",
       " Mean   :4358   Mean   : 549.4   Mean   :1341   Mean   : 72.66  \n",
       " 3rd Qu.:5050   3rd Qu.: 600.0   3rd Qu.:1700   3rd Qu.: 85.00  \n",
       " Max.   :8124   Max.   :2340.0   Max.   :6800   Max.   :103.00  \n",
       "    Terminal       S.F.Ratio      perc.alumni        Expend     \n",
       " Min.   : 24.0   Min.   : 2.50   Min.   : 0.00   Min.   : 3186  \n",
       " 1st Qu.: 71.0   1st Qu.:11.50   1st Qu.:13.00   1st Qu.: 6751  \n",
       " Median : 82.0   Median :13.60   Median :21.00   Median : 8377  \n",
       " Mean   : 79.7   Mean   :14.09   Mean   :22.74   Mean   : 9660  \n",
       " 3rd Qu.: 92.0   3rd Qu.:16.50   3rd Qu.:31.00   3rd Qu.:10830  \n",
       " Max.   :100.0   Max.   :39.80   Max.   :64.00   Max.   :56233  \n",
       "   Grad.Rate     \n",
       " Min.   : 10.00  \n",
       " 1st Qu.: 53.00  \n",
       " Median : 65.00  \n",
       " Mean   : 65.46  \n",
       " 3rd Qu.: 78.00  \n",
       " Max.   :118.00  "
      ]
     },
     "metadata": {},
     "output_type": "display_data"
    }
   ],
   "source": [
    "library(ISLR)\n",
    "summary(College)"
   ]
  },
  {
   "cell_type": "markdown",
   "metadata": {},
   "source": [
    "## (a)"
   ]
  },
  {
   "cell_type": "code",
   "execution_count": 6,
   "metadata": {
    "collapsed": false
   },
   "outputs": [
    {
     "data": {
      "text/html": [
       "18"
      ],
      "text/latex": [
       "18"
      ],
      "text/markdown": [
       "18"
      ],
      "text/plain": [
       "[1] 18"
      ]
     },
     "metadata": {},
     "output_type": "display_data"
    }
   ],
   "source": [
    "train = sample(1:nrow(College)%/%2)\n",
    "length(names(College))"
   ]
  },
  {
   "cell_type": "code",
   "execution_count": 79,
   "metadata": {
    "collapsed": false
   },
   "outputs": [
    {
     "data": {
      "text/plain": [
       "Subset selection object\n",
       "Call: regsubsets.formula(Outstate ~ ., data = College, nvmax = 18, \n",
       "    method = \"forward\")\n",
       "17 Variables  (and intercept)\n",
       "            Forced in Forced out\n",
       "PrivateYes      FALSE      FALSE\n",
       "Apps            FALSE      FALSE\n",
       "Accept          FALSE      FALSE\n",
       "Enroll          FALSE      FALSE\n",
       "Top10perc       FALSE      FALSE\n",
       "Top25perc       FALSE      FALSE\n",
       "F.Undergrad     FALSE      FALSE\n",
       "P.Undergrad     FALSE      FALSE\n",
       "Room.Board      FALSE      FALSE\n",
       "Books           FALSE      FALSE\n",
       "Personal        FALSE      FALSE\n",
       "PhD             FALSE      FALSE\n",
       "Terminal        FALSE      FALSE\n",
       "S.F.Ratio       FALSE      FALSE\n",
       "perc.alumni     FALSE      FALSE\n",
       "Expend          FALSE      FALSE\n",
       "Grad.Rate       FALSE      FALSE\n",
       "1 subsets of each size up to 17\n",
       "Selection Algorithm: forward\n",
       "          PrivateYes Apps Accept Enroll Top10perc Top25perc F.Undergrad\n",
       "1  ( 1 )  \" \"        \" \"  \" \"    \" \"    \" \"       \" \"       \" \"        \n",
       "2  ( 1 )  \"*\"        \" \"  \" \"    \" \"    \" \"       \" \"       \" \"        \n",
       "3  ( 1 )  \"*\"        \" \"  \" \"    \" \"    \" \"       \" \"       \" \"        \n",
       "4  ( 1 )  \"*\"        \" \"  \" \"    \" \"    \" \"       \" \"       \" \"        \n",
       "5  ( 1 )  \"*\"        \" \"  \" \"    \" \"    \" \"       \" \"       \" \"        \n",
       "6  ( 1 )  \"*\"        \" \"  \" \"    \" \"    \" \"       \" \"       \" \"        \n",
       "7  ( 1 )  \"*\"        \" \"  \" \"    \" \"    \" \"       \" \"       \" \"        \n",
       "8  ( 1 )  \"*\"        \" \"  \" \"    \" \"    \" \"       \" \"       \" \"        \n",
       "9  ( 1 )  \"*\"        \" \"  \" \"    \" \"    \" \"       \" \"       \" \"        \n",
       "10  ( 1 ) \"*\"        \" \"  \"*\"    \" \"    \" \"       \" \"       \" \"        \n",
       "11  ( 1 ) \"*\"        \" \"  \"*\"    \" \"    \" \"       \" \"       \"*\"        \n",
       "12  ( 1 ) \"*\"        \"*\"  \"*\"    \" \"    \" \"       \" \"       \"*\"        \n",
       "13  ( 1 ) \"*\"        \"*\"  \"*\"    \" \"    \"*\"       \" \"       \"*\"        \n",
       "14  ( 1 ) \"*\"        \"*\"  \"*\"    \"*\"    \"*\"       \" \"       \"*\"        \n",
       "15  ( 1 ) \"*\"        \"*\"  \"*\"    \"*\"    \"*\"       \" \"       \"*\"        \n",
       "16  ( 1 ) \"*\"        \"*\"  \"*\"    \"*\"    \"*\"       \"*\"       \"*\"        \n",
       "17  ( 1 ) \"*\"        \"*\"  \"*\"    \"*\"    \"*\"       \"*\"       \"*\"        \n",
       "          P.Undergrad Room.Board Books Personal PhD Terminal S.F.Ratio\n",
       "1  ( 1 )  \" \"         \" \"        \" \"   \" \"      \" \" \" \"      \" \"      \n",
       "2  ( 1 )  \" \"         \" \"        \" \"   \" \"      \" \" \" \"      \" \"      \n",
       "3  ( 1 )  \" \"         \"*\"        \" \"   \" \"      \" \" \" \"      \" \"      \n",
       "4  ( 1 )  \" \"         \"*\"        \" \"   \" \"      \" \" \" \"      \" \"      \n",
       "5  ( 1 )  \" \"         \"*\"        \" \"   \" \"      \"*\" \" \"      \" \"      \n",
       "6  ( 1 )  \" \"         \"*\"        \" \"   \" \"      \"*\" \" \"      \" \"      \n",
       "7  ( 1 )  \" \"         \"*\"        \" \"   \"*\"      \"*\" \" \"      \" \"      \n",
       "8  ( 1 )  \" \"         \"*\"        \" \"   \"*\"      \"*\" \"*\"      \" \"      \n",
       "9  ( 1 )  \" \"         \"*\"        \" \"   \"*\"      \"*\" \"*\"      \"*\"      \n",
       "10  ( 1 ) \" \"         \"*\"        \" \"   \"*\"      \"*\" \"*\"      \"*\"      \n",
       "11  ( 1 ) \" \"         \"*\"        \" \"   \"*\"      \"*\" \"*\"      \"*\"      \n",
       "12  ( 1 ) \" \"         \"*\"        \" \"   \"*\"      \"*\" \"*\"      \"*\"      \n",
       "13  ( 1 ) \" \"         \"*\"        \" \"   \"*\"      \"*\" \"*\"      \"*\"      \n",
       "14  ( 1 ) \" \"         \"*\"        \" \"   \"*\"      \"*\" \"*\"      \"*\"      \n",
       "15  ( 1 ) \" \"         \"*\"        \"*\"   \"*\"      \"*\" \"*\"      \"*\"      \n",
       "16  ( 1 ) \" \"         \"*\"        \"*\"   \"*\"      \"*\" \"*\"      \"*\"      \n",
       "17  ( 1 ) \"*\"         \"*\"        \"*\"   \"*\"      \"*\" \"*\"      \"*\"      \n",
       "          perc.alumni Expend Grad.Rate\n",
       "1  ( 1 )  \" \"         \"*\"    \" \"      \n",
       "2  ( 1 )  \" \"         \"*\"    \" \"      \n",
       "3  ( 1 )  \" \"         \"*\"    \" \"      \n",
       "4  ( 1 )  \"*\"         \"*\"    \" \"      \n",
       "5  ( 1 )  \"*\"         \"*\"    \" \"      \n",
       "6  ( 1 )  \"*\"         \"*\"    \"*\"      \n",
       "7  ( 1 )  \"*\"         \"*\"    \"*\"      \n",
       "8  ( 1 )  \"*\"         \"*\"    \"*\"      \n",
       "9  ( 1 )  \"*\"         \"*\"    \"*\"      \n",
       "10  ( 1 ) \"*\"         \"*\"    \"*\"      \n",
       "11  ( 1 ) \"*\"         \"*\"    \"*\"      \n",
       "12  ( 1 ) \"*\"         \"*\"    \"*\"      \n",
       "13  ( 1 ) \"*\"         \"*\"    \"*\"      \n",
       "14  ( 1 ) \"*\"         \"*\"    \"*\"      \n",
       "15  ( 1 ) \"*\"         \"*\"    \"*\"      \n",
       "16  ( 1 ) \"*\"         \"*\"    \"*\"      \n",
       "17  ( 1 ) \"*\"         \"*\"    \"*\"      "
      ]
     },
     "metadata": {},
     "output_type": "display_data"
    }
   ],
   "source": [
    "library(leaps)\n",
    "regfit.forward = regsubsets(Outstate~.,data=College,nvmax=18,method=\"forward\")\n",
    "regfit_summary = summary(regfit.forward)\n",
    "regfit_summary"
   ]
  },
  {
   "cell_type": "code",
   "execution_count": 13,
   "metadata": {
    "collapsed": false
   },
   "outputs": [
    {
     "data": {
      "text/html": [
       "<ol class=list-inline>\n",
       "\t<li>'which'</li>\n",
       "\t<li>'rsq'</li>\n",
       "\t<li>'rss'</li>\n",
       "\t<li>'adjr2'</li>\n",
       "\t<li>'cp'</li>\n",
       "\t<li>'bic'</li>\n",
       "\t<li>'outmat'</li>\n",
       "\t<li>'obj'</li>\n",
       "</ol>\n"
      ],
      "text/latex": [
       "\\begin{enumerate*}\n",
       "\\item 'which'\n",
       "\\item 'rsq'\n",
       "\\item 'rss'\n",
       "\\item 'adjr2'\n",
       "\\item 'cp'\n",
       "\\item 'bic'\n",
       "\\item 'outmat'\n",
       "\\item 'obj'\n",
       "\\end{enumerate*}\n"
      ],
      "text/markdown": [
       "1. 'which'\n",
       "2. 'rsq'\n",
       "3. 'rss'\n",
       "4. 'adjr2'\n",
       "5. 'cp'\n",
       "6. 'bic'\n",
       "7. 'outmat'\n",
       "8. 'obj'\n",
       "\n",
       "\n"
      ],
      "text/plain": [
       "[1] \"which\"  \"rsq\"    \"rss\"    \"adjr2\"  \"cp\"     \"bic\"    \"outmat\" \"obj\"   "
      ]
     },
     "metadata": {},
     "output_type": "display_data"
    }
   ],
   "source": [
    "names(regfit_summary)"
   ]
  },
  {
   "cell_type": "code",
   "execution_count": 69,
   "metadata": {
    "collapsed": false
   },
   "outputs": [
    {
     "data": {
      "image/png": "[encoded data removed]",
      "text/plain": [
       "plot without title"
      ]
     },
     "metadata": {},
     "output_type": "display_data"
    }
   ],
   "source": [
    "par(mfrow=c(2,2))\n",
    "plot(regfit_summary$adjr2,type=\"l\",ylab=\"adjusted R.sq\", xlab=\"no. of predictors\")\n",
    "max_adjr2 = which.max(regfit_summary$adjr2)\n",
    "points(max_adjr2,regfit_summary$adjr2[max_adjr2],col=\"red\")\n",
    "plot(regfit_summary$bic,type=\"l\",ylab=\"BIC\", xlab=\"no. of predictors\")\n",
    "min_bic = which.min(regfit_summary$bic)\n",
    "points(min_bic,regfit_summary$bic[min_bic],col=\"red\")\n",
    "plot(regfit_summary$cp,type=\"l\",ylab=\"CP\", xlab=\"no. of predictors\")\n",
    "min_cp = which.min(regfit_summary$cp)\n",
    "points(min_cp,regfit_summary$cp[min_cp],col=\"red\")"
   ]
  },
  {
   "cell_type": "code",
   "execution_count": 70,
   "metadata": {
    "collapsed": false
   },
   "outputs": [],
   "source": [
    "k=10\n",
    "folds = sample(1:k,nrow(College),replace=TRUE)"
   ]
  },
  {
   "cell_type": "code",
   "execution_count": 75,
   "metadata": {
    "collapsed": false
   },
   "outputs": [
    {
     "data": {
      "image/png": "[encoded data removed]",
      "text/plain": [
       "plot without title"
      ]
     },
     "metadata": {},
     "output_type": "display_data"
    }
   ],
   "source": [
    "set.seed(1)\n",
    "cverr = c()\n",
    "for(i in 1:17){\n",
    "    err = c()\n",
    "    for(j in 1:k){\n",
    "        regfit_model = regsubsets(Outstate~.,data=College[folds!=k,],method=\"forward\")\n",
    "        test_mat = model.matrix(Outstate~.,data=College[folds==k,])\n",
    "        coef_vec = coef(regfit.forward,id=i)\n",
    "        n = names(coef_vec)\n",
    "        pred = test_mat[,n]%*%coef_vec\n",
    "        err[j]=mean((pred-College[folds==k,]$Outstate)^2)\n",
    "    }\n",
    "    cverr[i]=mean(err)\n",
    "}\n",
    "plot(cverr,type=\"l\",xlab=\"no. of predictors\")"
   ]
  },
  {
   "cell_type": "code",
   "execution_count": 76,
   "metadata": {
    "collapsed": false
   },
   "outputs": [
    {
     "data": {
      "text/html": [
       "13"
      ],
      "text/latex": [
       "13"
      ],
      "text/markdown": [
       "13"
      ],
      "text/plain": [
       "[1] 13"
      ]
     },
     "metadata": {},
     "output_type": "display_data"
    }
   ],
   "source": [
    "which.min(cverr)"
   ]
  },
  {
   "cell_type": "markdown",
   "metadata": {},
   "source": [
    "According to 10-fold cross validation error the model with 13 predictors give the lowest mean squared error. However the results of CP and BIC favor 10 predictors. In the cross validation graph we can observe that the difference between the mean squared error of the model with 10 predictors and the model with 13 predictors is insignificant. Therefore for the simplification of the model we choose 10 predictors. "
   ]
  },
  {
   "cell_type": "code",
   "execution_count": 80,
   "metadata": {
    "collapsed": false
   },
   "outputs": [
    {
     "data": {
      "text/html": [
       "<dl class=dl-horizontal>\n",
       "\t<dt>(Intercept)</dt>\n",
       "\t\t<dd>-2089.12270036304</dd>\n",
       "\t<dt>PrivateYes</dt>\n",
       "\t\t<dd>2799.83531388728</dd>\n",
       "\t<dt>Accept</dt>\n",
       "\t\t<dd>0.080884534097839</dd>\n",
       "\t<dt>Room.Board</dt>\n",
       "\t\t<dd>0.884514301059244</dd>\n",
       "\t<dt>Personal</dt>\n",
       "\t\t<dd>-0.361607375711528</dd>\n",
       "\t<dt>PhD</dt>\n",
       "\t\t<dd>18.7487472207267</dd>\n",
       "\t<dt>Terminal</dt>\n",
       "\t\t<dd>23.244346621605</dd>\n",
       "\t<dt>S.F.Ratio</dt>\n",
       "\t\t<dd>-61.8324122196724</dd>\n",
       "\t<dt>perc.alumni</dt>\n",
       "\t\t<dd>43.7747006003416</dd>\n",
       "\t<dt>Expend</dt>\n",
       "\t\t<dd>0.195064036803467</dd>\n",
       "\t<dt>Grad.Rate</dt>\n",
       "\t\t<dd>26.5399510112468</dd>\n",
       "</dl>\n"
      ],
      "text/latex": [
       "\\begin{description*}\n",
       "\\item[(Intercept)] -2089.12270036304\n",
       "\\item[PrivateYes] 2799.83531388728\n",
       "\\item[Accept] 0.080884534097839\n",
       "\\item[Room.Board] 0.884514301059244\n",
       "\\item[Personal] -0.361607375711528\n",
       "\\item[PhD] 18.7487472207267\n",
       "\\item[Terminal] 23.244346621605\n",
       "\\item[S.F.Ratio] -61.8324122196724\n",
       "\\item[perc.alumni] 43.7747006003416\n",
       "\\item[Expend] 0.195064036803467\n",
       "\\item[Grad.Rate] 26.5399510112468\n",
       "\\end{description*}\n"
      ],
      "text/markdown": [
       "(Intercept)\n",
       ":   -2089.12270036304PrivateYes\n",
       ":   2799.83531388728Accept\n",
       ":   0.080884534097839Room.Board\n",
       ":   0.884514301059244Personal\n",
       ":   -0.361607375711528PhD\n",
       ":   18.7487472207267Terminal\n",
       ":   23.244346621605S.F.Ratio\n",
       ":   -61.8324122196724perc.alumni\n",
       ":   43.7747006003416Expend\n",
       ":   0.195064036803467Grad.Rate\n",
       ":   26.5399510112468\n",
       "\n"
      ],
      "text/plain": [
       "  (Intercept)    PrivateYes        Accept    Room.Board      Personal \n",
       "-2.089123e+03  2.799835e+03  8.088453e-02  8.845143e-01 -3.616074e-01 \n",
       "          PhD      Terminal     S.F.Ratio   perc.alumni        Expend \n",
       " 1.874875e+01  2.324435e+01 -6.183241e+01  4.377470e+01  1.950640e-01 \n",
       "    Grad.Rate \n",
       " 2.653995e+01 "
      ]
     },
     "metadata": {},
     "output_type": "display_data"
    }
   ],
   "source": [
    "coef(regfit.forward,id=10)"
   ]
  },
  {
   "cell_type": "markdown",
   "metadata": {},
   "source": [
    "## (b)"
   ]
  },
  {
   "cell_type": "code",
   "execution_count": 81,
   "metadata": {
    "collapsed": false
   },
   "outputs": [
    {
     "data": {
      "text/html": [
       "<ol class=list-inline>\n",
       "\t<li>'Private'</li>\n",
       "\t<li>'Apps'</li>\n",
       "\t<li>'Accept'</li>\n",
       "\t<li>'Enroll'</li>\n",
       "\t<li>'Top10perc'</li>\n",
       "\t<li>'Top25perc'</li>\n",
       "\t<li>'F.Undergrad'</li>\n",
       "\t<li>'P.Undergrad'</li>\n",
       "\t<li>'Outstate'</li>\n",
       "\t<li>'Room.Board'</li>\n",
       "\t<li>'Books'</li>\n",
       "\t<li>'Personal'</li>\n",
       "\t<li>'PhD'</li>\n",
       "\t<li>'Terminal'</li>\n",
       "\t<li>'S.F.Ratio'</li>\n",
       "\t<li>'perc.alumni'</li>\n",
       "\t<li>'Expend'</li>\n",
       "\t<li>'Grad.Rate'</li>\n",
       "</ol>\n"
      ],
      "text/latex": [
       "\\begin{enumerate*}\n",
       "\\item 'Private'\n",
       "\\item 'Apps'\n",
       "\\item 'Accept'\n",
       "\\item 'Enroll'\n",
       "\\item 'Top10perc'\n",
       "\\item 'Top25perc'\n",
       "\\item 'F.Undergrad'\n",
       "\\item 'P.Undergrad'\n",
       "\\item 'Outstate'\n",
       "\\item 'Room.Board'\n",
       "\\item 'Books'\n",
       "\\item 'Personal'\n",
       "\\item 'PhD'\n",
       "\\item 'Terminal'\n",
       "\\item 'S.F.Ratio'\n",
       "\\item 'perc.alumni'\n",
       "\\item 'Expend'\n",
       "\\item 'Grad.Rate'\n",
       "\\end{enumerate*}\n"
      ],
      "text/markdown": [
       "1. 'Private'\n",
       "2. 'Apps'\n",
       "3. 'Accept'\n",
       "4. 'Enroll'\n",
       "5. 'Top10perc'\n",
       "6. 'Top25perc'\n",
       "7. 'F.Undergrad'\n",
       "8. 'P.Undergrad'\n",
       "9. 'Outstate'\n",
       "10. 'Room.Board'\n",
       "11. 'Books'\n",
       "12. 'Personal'\n",
       "13. 'PhD'\n",
       "14. 'Terminal'\n",
       "15. 'S.F.Ratio'\n",
       "16. 'perc.alumni'\n",
       "17. 'Expend'\n",
       "18. 'Grad.Rate'\n",
       "\n",
       "\n"
      ],
      "text/plain": [
       " [1] \"Private\"     \"Apps\"        \"Accept\"      \"Enroll\"      \"Top10perc\"  \n",
       " [6] \"Top25perc\"   \"F.Undergrad\" \"P.Undergrad\" \"Outstate\"    \"Room.Board\" \n",
       "[11] \"Books\"       \"Personal\"    \"PhD\"         \"Terminal\"    \"S.F.Ratio\"  \n",
       "[16] \"perc.alumni\" \"Expend\"      \"Grad.Rate\"  "
      ]
     },
     "metadata": {},
     "output_type": "display_data"
    }
   ],
   "source": [
    "names(College)"
   ]
  },
  {
   "cell_type": "code",
   "execution_count": 100,
   "metadata": {
    "collapsed": false
   },
   "outputs": [],
   "source": [
    "library(gam)\n",
    "library(splines)\n",
    "gam.model = gam(Outstate~Private+s(Accept,df=3)+s(Room.Board,df=3)+s(Books,df=3)+s(Personal,df=3)+s(PhD,df=3)+\n",
    "                s(S.F.Ratio,df=3)+s(perc.alumni,df=3)+s(Expend,df=3)+s(Grad.Rate,df=3), data=College[train,])"
   ]
  },
  {
   "cell_type": "code",
   "execution_count": 101,
   "metadata": {
    "collapsed": false
   },
   "outputs": [
    {
     "data": {
      "image/png": "[encoded data removed]",
      "text/plain": [
       "plot without title"
      ]
     },
     "metadata": {},
     "output_type": "display_data"
    }
   ],
   "source": [
    "par(mfrow=c(4,4))\n",
    "plot(gam.model)"
   ]
  },
  {
   "cell_type": "markdown",
   "metadata": {},
   "source": [
    "## (c)"
   ]
  },
  {
   "cell_type": "code",
   "execution_count": 105,
   "metadata": {
    "collapsed": false
   },
   "outputs": [],
   "source": [
    "pred = predict(gam.model,newdata=College[-train,])"
   ]
  },
  {
   "cell_type": "code",
   "execution_count": 106,
   "metadata": {
    "collapsed": false
   },
   "outputs": [
    {
     "data": {
      "text/html": [
       "0.77355461544689"
      ],
      "text/latex": [
       "0.77355461544689"
      ],
      "text/markdown": [
       "0.77355461544689"
      ],
      "text/plain": [
       "[1] 0.7735546"
      ]
     },
     "metadata": {},
     "output_type": "display_data"
    }
   ],
   "source": [
    "#R-squared\n",
    "TSS = sum((College[-train,]$Outstate-mean(College[-train,]$Outstate))^2)\n",
    "RSS = sum((College[-train,]$Outstate-pred)^2)\n",
    "1-RSS/TSS"
   ]
  },
  {
   "cell_type": "markdown",
   "metadata": {},
   "source": [
    "## (d)"
   ]
  },
  {
   "cell_type": "code",
   "execution_count": 104,
   "metadata": {
    "collapsed": false
   },
   "outputs": [
    {
     "data": {
      "text/plain": [
       "\n",
       "Call: gam(formula = Outstate ~ Private + s(Accept, df = 3) + s(Room.Board, \n",
       "    df = 3) + s(Books, df = 3) + s(Personal, df = 3) + s(PhD, \n",
       "    df = 3) + s(S.F.Ratio, df = 3) + s(perc.alumni, df = 3) + \n",
       "    s(Expend, df = 3) + s(Grad.Rate, df = 3), data = College[train, \n",
       "    ])\n",
       "Deviance Residuals:\n",
       "     Min       1Q   Median       3Q      Max \n",
       "-6580.46 -1091.51    52.66  1149.57  7208.44 \n",
       "\n",
       "(Dispersion Parameter for gaussian family taken to be 3141810)\n",
       "\n",
       "    Null Deviance: 12341942890 on 775 degrees of freedom\n",
       "Residual Deviance: 2346929754 on 746.9992 degrees of freedom\n",
       "AIC: 13841.84 \n",
       "\n",
       "Number of Local Scoring Iterations: 2 \n",
       "\n",
       "Anova for Parametric Effects\n",
       "                        Df     Sum Sq    Mean Sq F value    Pr(>F)    \n",
       "Private                  1 2004051580 2004051580 637.865 < 2.2e-16 ***\n",
       "s(Accept, df = 3)        1  817929953  817929953 260.337 < 2.2e-16 ***\n",
       "s(Room.Board, df = 3)    1 1887004403 1887004403 600.611 < 2.2e-16 ***\n",
       "s(Books, df = 3)         1   39064708   39064708  12.434 0.0004474 ***\n",
       "s(Personal, df = 3)      1  201423425  201423425  64.111 4.503e-15 ***\n",
       "s(PhD, df = 3)           1  709588375  709588375 225.853 < 2.2e-16 ***\n",
       "s(S.F.Ratio, df = 3)     1  354280800  354280800 112.763 < 2.2e-16 ***\n",
       "s(perc.alumni, df = 3)   1  310973847  310973847  98.979 < 2.2e-16 ***\n",
       "s(Expend, df = 3)        1  905629641  905629641 288.251 < 2.2e-16 ***\n",
       "s(Grad.Rate, df = 3)     1   70651493   70651493  22.488 2.534e-06 ***\n",
       "Residuals              747 2346929754    3141810                      \n",
       "---\n",
       "Signif. codes:  0 ‘***’ 0.001 ‘**’ 0.01 ‘*’ 0.05 ‘.’ 0.1 ‘ ’ 1\n",
       "\n",
       "Anova for Nonparametric Effects\n",
       "                       Npar Df Npar F     Pr(F)    \n",
       "(Intercept)                                        \n",
       "Private                                            \n",
       "s(Accept, df = 3)            2 13.023 2.758e-06 ***\n",
       "s(Room.Board, df = 3)        2  6.500  0.001589 ** \n",
       "s(Books, df = 3)             2  2.542  0.079405 .  \n",
       "s(Personal, df = 3)          2  5.596  0.003868 ** \n",
       "s(PhD, df = 3)               2 12.677 3.850e-06 ***\n",
       "s(S.F.Ratio, df = 3)         2 13.322 2.066e-06 ***\n",
       "s(perc.alumni, df = 3)       2  3.245  0.039528 *  \n",
       "s(Expend, df = 3)            2 64.218 < 2.2e-16 ***\n",
       "s(Grad.Rate, df = 3)         2  6.756  0.001236 ** \n",
       "---\n",
       "Signif. codes:  0 ‘***’ 0.001 ‘**’ 0.01 ‘*’ 0.05 ‘.’ 0.1 ‘ ’ 1"
      ]
     },
     "metadata": {},
     "output_type": "display_data"
    }
   ],
   "source": [
    "summary(gam.model)"
   ]
  },
  {
   "cell_type": "markdown",
   "metadata": {},
   "source": [
    "According to the ANOVA for the Nonparametric Effect Accept, PhD, S.F. Ratio and Expend have a strong non-linear relationship with the response"
   ]
  },
  {
   "cell_type": "code",
   "execution_count": null,
   "metadata": {
    "collapsed": true
   },
   "outputs": [],
   "source": []
  }
 ],
 "metadata": {
  "kernelspec": {
   "display_name": "R",
   "language": "R",
   "name": "ir"
  },
  "language_info": {
   "codemirror_mode": "r",
   "file_extension": ".r",
   "mimetype": "text/x-r-source",
   "name": "R",
   "pygments_lexer": "r",
   "version": "3.2.2"
  }
 },
 "nbformat": 4,
 "nbformat_minor": 0
}
