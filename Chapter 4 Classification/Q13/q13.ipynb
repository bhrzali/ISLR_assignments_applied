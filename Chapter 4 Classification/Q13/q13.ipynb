{
 "cells": [
  {
   "cell_type": "markdown",
   "metadata": {},
   "source": [
    "Chapter 4-Classification, Q13"
   ]
  },
  {
   "cell_type": "code",
   "execution_count": 1,
   "metadata": {
    "collapsed": false
   },
   "outputs": [
    {
     "data": {
      "text/html": [
       "<ol class=list-inline>\n",
       "\t<li>'crim'</li>\n",
       "\t<li>'zn'</li>\n",
       "\t<li>'indus'</li>\n",
       "\t<li>'chas'</li>\n",
       "\t<li>'nox'</li>\n",
       "\t<li>'rm'</li>\n",
       "\t<li>'age'</li>\n",
       "\t<li>'dis'</li>\n",
       "\t<li>'rad'</li>\n",
       "\t<li>'tax'</li>\n",
       "\t<li>'ptratio'</li>\n",
       "\t<li>'black'</li>\n",
       "\t<li>'lstat'</li>\n",
       "\t<li>'medv'</li>\n",
       "</ol>\n"
      ],
      "text/latex": [
       "\\begin{enumerate*}\n",
       "\\item 'crim'\n",
       "\\item 'zn'\n",
       "\\item 'indus'\n",
       "\\item 'chas'\n",
       "\\item 'nox'\n",
       "\\item 'rm'\n",
       "\\item 'age'\n",
       "\\item 'dis'\n",
       "\\item 'rad'\n",
       "\\item 'tax'\n",
       "\\item 'ptratio'\n",
       "\\item 'black'\n",
       "\\item 'lstat'\n",
       "\\item 'medv'\n",
       "\\end{enumerate*}\n"
      ],
      "text/markdown": [
       "1. 'crim'\n",
       "2. 'zn'\n",
       "3. 'indus'\n",
       "4. 'chas'\n",
       "5. 'nox'\n",
       "6. 'rm'\n",
       "7. 'age'\n",
       "8. 'dis'\n",
       "9. 'rad'\n",
       "10. 'tax'\n",
       "11. 'ptratio'\n",
       "12. 'black'\n",
       "13. 'lstat'\n",
       "14. 'medv'\n",
       "\n",
       "\n"
      ],
      "text/plain": [
       " [1] \"crim\"    \"zn\"      \"indus\"   \"chas\"    \"nox\"     \"rm\"      \"age\"    \n",
       " [8] \"dis\"     \"rad\"     \"tax\"     \"ptratio\" \"black\"   \"lstat\"   \"medv\"   "
      ]
     },
     "metadata": {},
     "output_type": "display_data"
    }
   ],
   "source": [
    "library(MASS)\n",
    "names(Boston)"
   ]
  },
  {
   "cell_type": "code",
   "execution_count": 2,
   "metadata": {
    "collapsed": false
   },
   "outputs": [
    {
     "data": {
      "text/html": [
       "<ol class=list-inline>\n",
       "\t<li>'crim'</li>\n",
       "\t<li>'zn'</li>\n",
       "\t<li>'indus'</li>\n",
       "\t<li>'chas'</li>\n",
       "\t<li>'nox'</li>\n",
       "\t<li>'rm'</li>\n",
       "\t<li>'age'</li>\n",
       "\t<li>'dis'</li>\n",
       "\t<li>'rad'</li>\n",
       "\t<li>'tax'</li>\n",
       "\t<li>'ptratio'</li>\n",
       "\t<li>'black'</li>\n",
       "\t<li>'lstat'</li>\n",
       "\t<li>'medv'</li>\n",
       "\t<li>'crime_class'</li>\n",
       "</ol>\n"
      ],
      "text/latex": [
       "\\begin{enumerate*}\n",
       "\\item 'crim'\n",
       "\\item 'zn'\n",
       "\\item 'indus'\n",
       "\\item 'chas'\n",
       "\\item 'nox'\n",
       "\\item 'rm'\n",
       "\\item 'age'\n",
       "\\item 'dis'\n",
       "\\item 'rad'\n",
       "\\item 'tax'\n",
       "\\item 'ptratio'\n",
       "\\item 'black'\n",
       "\\item 'lstat'\n",
       "\\item 'medv'\n",
       "\\item 'crime\\_class'\n",
       "\\end{enumerate*}\n"
      ],
      "text/markdown": [
       "1. 'crim'\n",
       "2. 'zn'\n",
       "3. 'indus'\n",
       "4. 'chas'\n",
       "5. 'nox'\n",
       "6. 'rm'\n",
       "7. 'age'\n",
       "8. 'dis'\n",
       "9. 'rad'\n",
       "10. 'tax'\n",
       "11. 'ptratio'\n",
       "12. 'black'\n",
       "13. 'lstat'\n",
       "14. 'medv'\n",
       "15. 'crime_class'\n",
       "\n",
       "\n"
      ],
      "text/plain": [
       " [1] \"crim\"        \"zn\"          \"indus\"       \"chas\"        \"nox\"        \n",
       " [6] \"rm\"          \"age\"         \"dis\"         \"rad\"         \"tax\"        \n",
       "[11] \"ptratio\"     \"black\"       \"lstat\"       \"medv\"        \"crime_class\""
      ]
     },
     "metadata": {},
     "output_type": "display_data"
    }
   ],
   "source": [
    "crime_class = rep(0,length(Boston$crim))\n",
    "crim_median = median(Boston$crim)\n",
    "crime_class[Boston$crim>crim_median]=1\n",
    "new_Boston = data.frame(Boston,crime_class)\n",
    "names(new_Boston)"
   ]
  },
  {
   "cell_type": "code",
   "execution_count": 3,
   "metadata": {
    "collapsed": false
   },
   "outputs": [
    {
     "data": {
      "text/html": [
       "<table>\n",
       "<thead><tr><th></th><th scope=col>crim</th><th scope=col>zn</th><th scope=col>indus</th><th scope=col>chas</th><th scope=col>nox</th><th scope=col>rm</th><th scope=col>age</th><th scope=col>dis</th><th scope=col>rad</th><th scope=col>tax</th><th scope=col>ptratio</th><th scope=col>black</th><th scope=col>lstat</th><th scope=col>medv</th><th scope=col>crime_class</th></tr></thead>\n",
       "<tbody>\n",
       "\t<tr><th scope=row>crim</th><td> 1.00000000 </td><td>-0.20046922 </td><td> 0.40658341 </td><td>-0.055891582</td><td> 0.42097171 </td><td>-0.21924670 </td><td> 0.35273425 </td><td>-0.37967009 </td><td> 0.625505145</td><td> 0.58276431 </td><td> 0.2899456  </td><td>-0.38506394 </td><td> 0.4556215  </td><td>-0.3883046  </td><td> 0.40939545 </td></tr>\n",
       "\t<tr><th scope=row>zn</th><td>-0.20046922 </td><td> 1.00000000 </td><td>-0.53382819 </td><td>-0.042696719</td><td>-0.51660371 </td><td> 0.31199059 </td><td>-0.56953734 </td><td> 0.66440822 </td><td>-0.311947826</td><td>-0.31456332 </td><td>-0.3916785  </td><td> 0.17552032 </td><td>-0.4129946  </td><td> 0.3604453  </td><td>-0.43615103 </td></tr>\n",
       "\t<tr><th scope=row>indus</th><td> 0.40658341 </td><td>-0.53382819 </td><td> 1.00000000 </td><td> 0.062938027</td><td> 0.76365145 </td><td>-0.39167585 </td><td> 0.64477851 </td><td>-0.70802699 </td><td> 0.595129275</td><td> 0.72076018 </td><td> 0.3832476  </td><td>-0.35697654 </td><td> 0.6037997  </td><td>-0.4837252  </td><td> 0.60326017 </td></tr>\n",
       "\t<tr><th scope=row>chas</th><td>-0.05589158 </td><td>-0.04269672 </td><td> 0.06293803 </td><td> 1.000000000</td><td> 0.09120281 </td><td> 0.09125123 </td><td> 0.08651777 </td><td>-0.09917578 </td><td>-0.007368241</td><td>-0.03558652 </td><td>-0.1215152  </td><td> 0.04878848 </td><td>-0.0539293  </td><td> 0.1752602  </td><td> 0.07009677 </td></tr>\n",
       "\t<tr><th scope=row>nox</th><td> 0.42097171 </td><td>-0.51660371 </td><td> 0.76365145 </td><td> 0.091202807</td><td> 1.00000000 </td><td>-0.30218819 </td><td> 0.73147010 </td><td>-0.76923011 </td><td> 0.611440563</td><td> 0.66802320 </td><td> 0.1889327  </td><td>-0.38005064 </td><td> 0.5908789  </td><td>-0.4273208  </td><td> 0.72323480 </td></tr>\n",
       "\t<tr><th scope=row>rm</th><td>-0.21924670 </td><td> 0.31199059 </td><td>-0.39167585 </td><td> 0.091251225</td><td>-0.30218819 </td><td> 1.00000000 </td><td>-0.24026493 </td><td> 0.20524621 </td><td>-0.209846668</td><td>-0.29204783 </td><td>-0.3555015  </td><td> 0.12806864 </td><td>-0.6138083  </td><td> 0.6953599  </td><td>-0.15637178 </td></tr>\n",
       "\t<tr><th scope=row>age</th><td> 0.35273425 </td><td>-0.56953734 </td><td> 0.64477851 </td><td> 0.086517774</td><td> 0.73147010 </td><td>-0.24026493 </td><td> 1.00000000 </td><td>-0.74788054 </td><td> 0.456022452</td><td> 0.50645559 </td><td> 0.2615150  </td><td>-0.27353398 </td><td> 0.6023385  </td><td>-0.3769546  </td><td> 0.61393992 </td></tr>\n",
       "\t<tr><th scope=row>dis</th><td>-0.37967009 </td><td> 0.66440822 </td><td>-0.70802699 </td><td>-0.099175780</td><td>-0.76923011 </td><td> 0.20524621 </td><td>-0.74788054 </td><td> 1.00000000 </td><td>-0.494587930</td><td>-0.53443158 </td><td>-0.2324705  </td><td> 0.29151167 </td><td>-0.4969958  </td><td> 0.2499287  </td><td>-0.61634164 </td></tr>\n",
       "\t<tr><th scope=row>rad</th><td> 0.62550515 </td><td>-0.31194783 </td><td> 0.59512927 </td><td>-0.007368241</td><td> 0.61144056 </td><td>-0.20984667 </td><td> 0.45602245 </td><td>-0.49458793 </td><td> 1.000000000</td><td> 0.91022819 </td><td> 0.4647412  </td><td>-0.44441282 </td><td> 0.4886763  </td><td>-0.3816262  </td><td> 0.61978625 </td></tr>\n",
       "\t<tr><th scope=row>tax</th><td> 0.58276431 </td><td>-0.31456332 </td><td> 0.72076018 </td><td>-0.035586518</td><td> 0.66802320 </td><td>-0.29204783 </td><td> 0.50645559 </td><td>-0.53443158 </td><td> 0.910228189</td><td> 1.00000000 </td><td> 0.4608530  </td><td>-0.44180801 </td><td> 0.5439934  </td><td>-0.4685359  </td><td> 0.60874128 </td></tr>\n",
       "\t<tr><th scope=row>ptratio</th><td> 0.28994558 </td><td>-0.39167855 </td><td> 0.38324756 </td><td>-0.121515174</td><td> 0.18893268 </td><td>-0.35550149 </td><td> 0.26151501 </td><td>-0.23247054 </td><td> 0.464741179</td><td> 0.46085304 </td><td> 1.0000000  </td><td>-0.17738330 </td><td> 0.3740443  </td><td>-0.5077867  </td><td> 0.25356836 </td></tr>\n",
       "\t<tr><th scope=row>black</th><td>-0.38506394 </td><td> 0.17552032 </td><td>-0.35697654 </td><td> 0.048788485</td><td>-0.38005064 </td><td> 0.12806864 </td><td>-0.27353398 </td><td> 0.29151167 </td><td>-0.444412816</td><td>-0.44180801 </td><td>-0.1773833  </td><td> 1.00000000 </td><td>-0.3660869  </td><td> 0.3334608  </td><td>-0.35121093 </td></tr>\n",
       "\t<tr><th scope=row>lstat</th><td> 0.45562148 </td><td>-0.41299457 </td><td> 0.60379972 </td><td>-0.053929298</td><td> 0.59087892 </td><td>-0.61380827 </td><td> 0.60233853 </td><td>-0.49699583 </td><td> 0.488676335</td><td> 0.54399341 </td><td> 0.3740443  </td><td>-0.36608690 </td><td> 1.0000000  </td><td>-0.7376627  </td><td> 0.45326273 </td></tr>\n",
       "\t<tr><th scope=row>medv</th><td>-0.38830461 </td><td> 0.36044534 </td><td>-0.48372516 </td><td> 0.175260177</td><td>-0.42732077 </td><td> 0.69535995 </td><td>-0.37695457 </td><td> 0.24992873 </td><td>-0.381626231</td><td>-0.46853593 </td><td>-0.5077867  </td><td> 0.33346082 </td><td>-0.7376627  </td><td> 1.0000000  </td><td>-0.26301673 </td></tr>\n",
       "\t<tr><th scope=row>crime_class</th><td> 0.40939545 </td><td>-0.43615103 </td><td> 0.60326017 </td><td> 0.070096774</td><td> 0.72323480 </td><td>-0.15637178 </td><td> 0.61393992 </td><td>-0.61634164 </td><td> 0.619786249</td><td> 0.60874128 </td><td> 0.2535684  </td><td>-0.35121093 </td><td> 0.4532627  </td><td>-0.2630167  </td><td> 1.00000000 </td></tr>\n",
       "</tbody>\n",
       "</table>\n"
      ],
      "text/latex": [
       "\\begin{tabular}{r|lllllllllllllll}\n",
       "  & crim & zn & indus & chas & nox & rm & age & dis & rad & tax & ptratio & black & lstat & medv & crime\\_class\\\\\n",
       "\\hline\n",
       "\tcrim &  1.00000000  & -0.20046922  &  0.40658341  & -0.055891582 &  0.42097171  & -0.21924670  &  0.35273425  & -0.37967009  &  0.625505145 &  0.58276431  &  0.2899456   & -0.38506394  &  0.4556215   & -0.3883046   &  0.40939545 \\\\\n",
       "\tzn & -0.20046922  &  1.00000000  & -0.53382819  & -0.042696719 & -0.51660371  &  0.31199059  & -0.56953734  &  0.66440822  & -0.311947826 & -0.31456332  & -0.3916785   &  0.17552032  & -0.4129946   &  0.3604453   & -0.43615103 \\\\\n",
       "\tindus &  0.40658341  & -0.53382819  &  1.00000000  &  0.062938027 &  0.76365145  & -0.39167585  &  0.64477851  & -0.70802699  &  0.595129275 &  0.72076018  &  0.3832476   & -0.35697654  &  0.6037997   & -0.4837252   &  0.60326017 \\\\\n",
       "\tchas & -0.05589158  & -0.04269672  &  0.06293803  &  1.000000000 &  0.09120281  &  0.09125123  &  0.08651777  & -0.09917578  & -0.007368241 & -0.03558652  & -0.1215152   &  0.04878848  & -0.0539293   &  0.1752602   &  0.07009677 \\\\\n",
       "\tnox &  0.42097171  & -0.51660371  &  0.76365145  &  0.091202807 &  1.00000000  & -0.30218819  &  0.73147010  & -0.76923011  &  0.611440563 &  0.66802320  &  0.1889327   & -0.38005064  &  0.5908789   & -0.4273208   &  0.72323480 \\\\\n",
       "\trm & -0.21924670  &  0.31199059  & -0.39167585  &  0.091251225 & -0.30218819  &  1.00000000  & -0.24026493  &  0.20524621  & -0.209846668 & -0.29204783  & -0.3555015   &  0.12806864  & -0.6138083   &  0.6953599   & -0.15637178 \\\\\n",
       "\tage &  0.35273425  & -0.56953734  &  0.64477851  &  0.086517774 &  0.73147010  & -0.24026493  &  1.00000000  & -0.74788054  &  0.456022452 &  0.50645559  &  0.2615150   & -0.27353398  &  0.6023385   & -0.3769546   &  0.61393992 \\\\\n",
       "\tdis & -0.37967009  &  0.66440822  & -0.70802699  & -0.099175780 & -0.76923011  &  0.20524621  & -0.74788054  &  1.00000000  & -0.494587930 & -0.53443158  & -0.2324705   &  0.29151167  & -0.4969958   &  0.2499287   & -0.61634164 \\\\\n",
       "\trad &  0.62550515  & -0.31194783  &  0.59512927  & -0.007368241 &  0.61144056  & -0.20984667  &  0.45602245  & -0.49458793  &  1.000000000 &  0.91022819  &  0.4647412   & -0.44441282  &  0.4886763   & -0.3816262   &  0.61978625 \\\\\n",
       "\ttax &  0.58276431  & -0.31456332  &  0.72076018  & -0.035586518 &  0.66802320  & -0.29204783  &  0.50645559  & -0.53443158  &  0.910228189 &  1.00000000  &  0.4608530   & -0.44180801  &  0.5439934   & -0.4685359   &  0.60874128 \\\\\n",
       "\tptratio &  0.28994558  & -0.39167855  &  0.38324756  & -0.121515174 &  0.18893268  & -0.35550149  &  0.26151501  & -0.23247054  &  0.464741179 &  0.46085304  &  1.0000000   & -0.17738330  &  0.3740443   & -0.5077867   &  0.25356836 \\\\\n",
       "\tblack & -0.38506394  &  0.17552032  & -0.35697654  &  0.048788485 & -0.38005064  &  0.12806864  & -0.27353398  &  0.29151167  & -0.444412816 & -0.44180801  & -0.1773833   &  1.00000000  & -0.3660869   &  0.3334608   & -0.35121093 \\\\\n",
       "\tlstat &  0.45562148  & -0.41299457  &  0.60379972  & -0.053929298 &  0.59087892  & -0.61380827  &  0.60233853  & -0.49699583  &  0.488676335 &  0.54399341  &  0.3740443   & -0.36608690  &  1.0000000   & -0.7376627   &  0.45326273 \\\\\n",
       "\tmedv & -0.38830461  &  0.36044534  & -0.48372516  &  0.175260177 & -0.42732077  &  0.69535995  & -0.37695457  &  0.24992873  & -0.381626231 & -0.46853593  & -0.5077867   &  0.33346082  & -0.7376627   &  1.0000000   & -0.26301673 \\\\\n",
       "\tcrime\\_class &  0.40939545  & -0.43615103  &  0.60326017  &  0.070096774 &  0.72323480  & -0.15637178  &  0.61393992  & -0.61634164  &  0.619786249 &  0.60874128  &  0.2535684   & -0.35121093  &  0.4532627   & -0.2630167   &  1.00000000 \\\\\n",
       "\\end{tabular}\n"
      ],
      "text/markdown": [
       "\n",
       "| <!--/--> | crim | zn | indus | chas | nox | rm | age | dis | rad | tax | ptratio | black | lstat | medv | crime_class | \n",
       "|---|---|---|---|---|---|---|---|---|---|---|---|---|---|---|\n",
       "| crim |  1.00000000  | -0.20046922  |  0.40658341  | -0.055891582 |  0.42097171  | -0.21924670  |  0.35273425  | -0.37967009  |  0.625505145 |  0.58276431  |  0.2899456   | -0.38506394  |  0.4556215   | -0.3883046   |  0.40939545  | \n",
       "| zn | -0.20046922  |  1.00000000  | -0.53382819  | -0.042696719 | -0.51660371  |  0.31199059  | -0.56953734  |  0.66440822  | -0.311947826 | -0.31456332  | -0.3916785   |  0.17552032  | -0.4129946   |  0.3604453   | -0.43615103  | \n",
       "| indus |  0.40658341  | -0.53382819  |  1.00000000  |  0.062938027 |  0.76365145  | -0.39167585  |  0.64477851  | -0.70802699  |  0.595129275 |  0.72076018  |  0.3832476   | -0.35697654  |  0.6037997   | -0.4837252   |  0.60326017  | \n",
       "| chas | -0.05589158  | -0.04269672  |  0.06293803  |  1.000000000 |  0.09120281  |  0.09125123  |  0.08651777  | -0.09917578  | -0.007368241 | -0.03558652  | -0.1215152   |  0.04878848  | -0.0539293   |  0.1752602   |  0.07009677  | \n",
       "| nox |  0.42097171  | -0.51660371  |  0.76365145  |  0.091202807 |  1.00000000  | -0.30218819  |  0.73147010  | -0.76923011  |  0.611440563 |  0.66802320  |  0.1889327   | -0.38005064  |  0.5908789   | -0.4273208   |  0.72323480  | \n",
       "| rm | -0.21924670  |  0.31199059  | -0.39167585  |  0.091251225 | -0.30218819  |  1.00000000  | -0.24026493  |  0.20524621  | -0.209846668 | -0.29204783  | -0.3555015   |  0.12806864  | -0.6138083   |  0.6953599   | -0.15637178  | \n",
       "| age |  0.35273425  | -0.56953734  |  0.64477851  |  0.086517774 |  0.73147010  | -0.24026493  |  1.00000000  | -0.74788054  |  0.456022452 |  0.50645559  |  0.2615150   | -0.27353398  |  0.6023385   | -0.3769546   |  0.61393992  | \n",
       "| dis | -0.37967009  |  0.66440822  | -0.70802699  | -0.099175780 | -0.76923011  |  0.20524621  | -0.74788054  |  1.00000000  | -0.494587930 | -0.53443158  | -0.2324705   |  0.29151167  | -0.4969958   |  0.2499287   | -0.61634164  | \n",
       "| rad |  0.62550515  | -0.31194783  |  0.59512927  | -0.007368241 |  0.61144056  | -0.20984667  |  0.45602245  | -0.49458793  |  1.000000000 |  0.91022819  |  0.4647412   | -0.44441282  |  0.4886763   | -0.3816262   |  0.61978625  | \n",
       "| tax |  0.58276431  | -0.31456332  |  0.72076018  | -0.035586518 |  0.66802320  | -0.29204783  |  0.50645559  | -0.53443158  |  0.910228189 |  1.00000000  |  0.4608530   | -0.44180801  |  0.5439934   | -0.4685359   |  0.60874128  | \n",
       "| ptratio |  0.28994558  | -0.39167855  |  0.38324756  | -0.121515174 |  0.18893268  | -0.35550149  |  0.26151501  | -0.23247054  |  0.464741179 |  0.46085304  |  1.0000000   | -0.17738330  |  0.3740443   | -0.5077867   |  0.25356836  | \n",
       "| black | -0.38506394  |  0.17552032  | -0.35697654  |  0.048788485 | -0.38005064  |  0.12806864  | -0.27353398  |  0.29151167  | -0.444412816 | -0.44180801  | -0.1773833   |  1.00000000  | -0.3660869   |  0.3334608   | -0.35121093  | \n",
       "| lstat |  0.45562148  | -0.41299457  |  0.60379972  | -0.053929298 |  0.59087892  | -0.61380827  |  0.60233853  | -0.49699583  |  0.488676335 |  0.54399341  |  0.3740443   | -0.36608690  |  1.0000000   | -0.7376627   |  0.45326273  | \n",
       "| medv | -0.38830461  |  0.36044534  | -0.48372516  |  0.175260177 | -0.42732077  |  0.69535995  | -0.37695457  |  0.24992873  | -0.381626231 | -0.46853593  | -0.5077867   |  0.33346082  | -0.7376627   |  1.0000000   | -0.26301673  | \n",
       "| crime_class |  0.40939545  | -0.43615103  |  0.60326017  |  0.070096774 |  0.72323480  | -0.15637178  |  0.61393992  | -0.61634164  |  0.619786249 |  0.60874128  |  0.2535684   | -0.35121093  |  0.4532627   | -0.2630167   |  1.00000000  | \n",
       "\n",
       "\n"
      ],
      "text/plain": [
       "            crim        zn          indus       chas         nox        \n",
       "crim         1.00000000 -0.20046922  0.40658341 -0.055891582  0.42097171\n",
       "zn          -0.20046922  1.00000000 -0.53382819 -0.042696719 -0.51660371\n",
       "indus        0.40658341 -0.53382819  1.00000000  0.062938027  0.76365145\n",
       "chas        -0.05589158 -0.04269672  0.06293803  1.000000000  0.09120281\n",
       "nox          0.42097171 -0.51660371  0.76365145  0.091202807  1.00000000\n",
       "rm          -0.21924670  0.31199059 -0.39167585  0.091251225 -0.30218819\n",
       "age          0.35273425 -0.56953734  0.64477851  0.086517774  0.73147010\n",
       "dis         -0.37967009  0.66440822 -0.70802699 -0.099175780 -0.76923011\n",
       "rad          0.62550515 -0.31194783  0.59512927 -0.007368241  0.61144056\n",
       "tax          0.58276431 -0.31456332  0.72076018 -0.035586518  0.66802320\n",
       "ptratio      0.28994558 -0.39167855  0.38324756 -0.121515174  0.18893268\n",
       "black       -0.38506394  0.17552032 -0.35697654  0.048788485 -0.38005064\n",
       "lstat        0.45562148 -0.41299457  0.60379972 -0.053929298  0.59087892\n",
       "medv        -0.38830461  0.36044534 -0.48372516  0.175260177 -0.42732077\n",
       "crime_class  0.40939545 -0.43615103  0.60326017  0.070096774  0.72323480\n",
       "            rm          age         dis         rad          tax        \n",
       "crim        -0.21924670  0.35273425 -0.37967009  0.625505145  0.58276431\n",
       "zn           0.31199059 -0.56953734  0.66440822 -0.311947826 -0.31456332\n",
       "indus       -0.39167585  0.64477851 -0.70802699  0.595129275  0.72076018\n",
       "chas         0.09125123  0.08651777 -0.09917578 -0.007368241 -0.03558652\n",
       "nox         -0.30218819  0.73147010 -0.76923011  0.611440563  0.66802320\n",
       "rm           1.00000000 -0.24026493  0.20524621 -0.209846668 -0.29204783\n",
       "age         -0.24026493  1.00000000 -0.74788054  0.456022452  0.50645559\n",
       "dis          0.20524621 -0.74788054  1.00000000 -0.494587930 -0.53443158\n",
       "rad         -0.20984667  0.45602245 -0.49458793  1.000000000  0.91022819\n",
       "tax         -0.29204783  0.50645559 -0.53443158  0.910228189  1.00000000\n",
       "ptratio     -0.35550149  0.26151501 -0.23247054  0.464741179  0.46085304\n",
       "black        0.12806864 -0.27353398  0.29151167 -0.444412816 -0.44180801\n",
       "lstat       -0.61380827  0.60233853 -0.49699583  0.488676335  0.54399341\n",
       "medv         0.69535995 -0.37695457  0.24992873 -0.381626231 -0.46853593\n",
       "crime_class -0.15637178  0.61393992 -0.61634164  0.619786249  0.60874128\n",
       "            ptratio    black       lstat      medv       crime_class\n",
       "crim         0.2899456 -0.38506394  0.4556215 -0.3883046  0.40939545\n",
       "zn          -0.3916785  0.17552032 -0.4129946  0.3604453 -0.43615103\n",
       "indus        0.3832476 -0.35697654  0.6037997 -0.4837252  0.60326017\n",
       "chas        -0.1215152  0.04878848 -0.0539293  0.1752602  0.07009677\n",
       "nox          0.1889327 -0.38005064  0.5908789 -0.4273208  0.72323480\n",
       "rm          -0.3555015  0.12806864 -0.6138083  0.6953599 -0.15637178\n",
       "age          0.2615150 -0.27353398  0.6023385 -0.3769546  0.61393992\n",
       "dis         -0.2324705  0.29151167 -0.4969958  0.2499287 -0.61634164\n",
       "rad          0.4647412 -0.44441282  0.4886763 -0.3816262  0.61978625\n",
       "tax          0.4608530 -0.44180801  0.5439934 -0.4685359  0.60874128\n",
       "ptratio      1.0000000 -0.17738330  0.3740443 -0.5077867  0.25356836\n",
       "black       -0.1773833  1.00000000 -0.3660869  0.3334608 -0.35121093\n",
       "lstat        0.3740443 -0.36608690  1.0000000 -0.7376627  0.45326273\n",
       "medv        -0.5077867  0.33346082 -0.7376627  1.0000000 -0.26301673\n",
       "crime_class  0.2535684 -0.35121093  0.4532627 -0.2630167  1.00000000"
      ]
     },
     "metadata": {},
     "output_type": "display_data"
    }
   ],
   "source": [
    "cor(new_Boston)"
   ]
  },
  {
   "cell_type": "markdown",
   "metadata": {},
   "source": [
    "The predictors indus, nox, age, dis, rad and tax have a significant correlation with the crime_class"
   ]
  },
  {
   "cell_type": "code",
   "execution_count": 4,
   "metadata": {
    "collapsed": false
   },
   "outputs": [
    {
     "data": {
      "text/html": [
       "506"
      ],
      "text/latex": [
       "506"
      ],
      "text/markdown": [
       "506"
      ],
      "text/plain": [
       "[1] 506"
      ]
     },
     "metadata": {},
     "output_type": "display_data"
    }
   ],
   "source": [
    "#creating training data and test data\n",
    "nrow(new_Boston)"
   ]
  },
  {
   "cell_type": "code",
   "execution_count": 45,
   "metadata": {
    "collapsed": false
   },
   "outputs": [],
   "source": [
    "#new_Boston = new_Boston[sample(nrow(new_Boston)),]\n",
    "training_data = new_Boston[1:406,]\n",
    "test_data = new_Boston[407:nrow(new_Boston),]"
   ]
  },
  {
   "cell_type": "markdown",
   "metadata": {},
   "source": [
    "# LDA"
   ]
  },
  {
   "cell_type": "code",
   "execution_count": 44,
   "metadata": {
    "collapsed": false
   },
   "outputs": [
    {
     "data": {
      "text/plain": [
       "   \n",
       "     0  1\n",
       "  0  2  1\n",
       "  1 13 84"
      ]
     },
     "metadata": {},
     "output_type": "display_data"
    }
   ],
   "source": [
    "lda.model = lda(crime_class~indus+nox+age+dis+rad+tax,data=training_data)\n",
    "lda.pred = predict(lda.model,newdata=test_data)\n",
    "table(lda.pred$class,test_data$crime_class)"
   ]
  },
  {
   "cell_type": "code",
   "execution_count": 47,
   "metadata": {
    "collapsed": false
   },
   "outputs": [
    {
     "data": {
      "text/html": [
       "14"
      ],
      "text/latex": [
       "14"
      ],
      "text/markdown": [
       "14"
      ],
      "text/plain": [
       "[1] 14"
      ]
     },
     "metadata": {},
     "output_type": "display_data"
    }
   ],
   "source": [
    "#error rate\n",
    "mean(lda.pred$class!=test_data$crime_class)*100"
   ]
  },
  {
   "cell_type": "code",
   "execution_count": 48,
   "metadata": {
    "collapsed": false
   },
   "outputs": [
    {
     "data": {
      "text/plain": [
       "         \n",
       "lda.pred2  0  1\n",
       "        0 10  5\n",
       "        1  5 80"
      ]
     },
     "metadata": {},
     "output_type": "display_data"
    }
   ],
   "source": [
    "#False positives is high. Increasing the cutoff probability\n",
    "lda.pred2 = rep(0,length(test_data$crime_class))\n",
    "lda.pred2[lda.pred$posterior[,2]>0.7]=1\n",
    "table(lda.pred2,test_data$crime_class)"
   ]
  },
  {
   "cell_type": "code",
   "execution_count": 40,
   "metadata": {
    "collapsed": false
   },
   "outputs": [
    {
     "data": {
      "text/html": [
       "10"
      ],
      "text/latex": [
       "10"
      ],
      "text/markdown": [
       "10"
      ],
      "text/plain": [
       "[1] 10"
      ]
     },
     "metadata": {},
     "output_type": "display_data"
    }
   ],
   "source": [
    "#error rate\n",
    "mean(lda.pred2!=test_data$crime_class)*100"
   ]
  },
  {
   "cell_type": "markdown",
   "metadata": {},
   "source": [
    "# Logistic Regression"
   ]
  },
  {
   "cell_type": "code",
   "execution_count": 22,
   "metadata": {
    "collapsed": false
   },
   "outputs": [
    {
     "data": {
      "text/plain": [
       "\n",
       "Call:\n",
       "glm(formula = crime_class ~ indus + nox + rad + age + dis + tax, \n",
       "    family = binomial, data = training_data)\n",
       "\n",
       "Deviance Residuals: \n",
       "     Min        1Q    Median        3Q       Max  \n",
       "-2.18209  -0.28262  -0.08559   0.04478   2.79128  \n",
       "\n",
       "Coefficients:\n",
       "              Estimate Std. Error z value Pr(>|z|)    \n",
       "(Intercept) -28.284373   4.321520  -6.545 5.95e-11 ***\n",
       "indus        -0.088696   0.049488  -1.792   0.0731 .  \n",
       "nox          50.338126   8.474764   5.940 2.85e-09 ***\n",
       "rad           0.557643   0.129025   4.322 1.55e-05 ***\n",
       "age           0.003107   0.009210   0.337   0.7359    \n",
       "dis           0.167513   0.151451   1.106   0.2687    \n",
       "tax          -0.003928   0.003159  -1.243   0.2138    \n",
       "---\n",
       "Signif. codes:  0 ‘***’ 0.001 ‘**’ 0.01 ‘*’ 0.05 ‘.’ 0.1 ‘ ’ 1\n",
       "\n",
       "(Dispersion parameter for binomial family taken to be 1)\n",
       "\n",
       "    Null deviance: 550.71  on 405  degrees of freedom\n",
       "Residual deviance: 214.16  on 399  degrees of freedom\n",
       "AIC: 228.16\n",
       "\n",
       "Number of Fisher Scoring iterations: 8\n"
      ]
     },
     "metadata": {},
     "output_type": "display_data"
    }
   ],
   "source": [
    "lgs.model = glm(crime_class~indus+nox+rad+age+dis+tax,data=training_data,family=binomial)\n",
    "summary(lgs.model)"
   ]
  },
  {
   "cell_type": "code",
   "execution_count": 23,
   "metadata": {
    "collapsed": false
   },
   "outputs": [
    {
     "data": {
      "text/html": [
       "5"
      ],
      "text/latex": [
       "5"
      ],
      "text/markdown": [
       "5"
      ],
      "text/plain": [
       "[1] 5"
      ]
     },
     "metadata": {},
     "output_type": "display_data"
    }
   ],
   "source": [
    "lgs.probs = predict(lgs.model,newdata=test_data,type=\"response\")\n",
    "lgs.pred = rep(0,length(test_data$crime_class))\n",
    "lgs.pred[lgs.probs>0.5]=1\n",
    "#error rate\n",
    "mean(lgs.pred!=test_data$crime_class)*100"
   ]
  },
  {
   "cell_type": "code",
   "execution_count": 24,
   "metadata": {
    "collapsed": false
   },
   "outputs": [
    {
     "data": {
      "text/plain": [
       "        \n",
       "lgs.pred  0  1\n",
       "       0 10  0\n",
       "       1  5 85"
      ]
     },
     "metadata": {},
     "output_type": "display_data"
    }
   ],
   "source": [
    "table(lgs.pred,test_data$crime_class)"
   ]
  },
  {
   "cell_type": "markdown",
   "metadata": {},
   "source": [
    "# KNN"
   ]
  },
  {
   "cell_type": "code",
   "execution_count": 33,
   "metadata": {
    "collapsed": false
   },
   "outputs": [],
   "source": [
    "library(class)\n",
    "train.y = training_data$crime_class\n",
    "test.y = test_data$crime_class\n",
    "training_data_k = training_data[,-c(1,2,4,6)]\n",
    "test_data_k = test_data[,-c(1,2,4,6)]\n",
    "knn.pred = knn(training_data_k,test_data_k,train.y,k=3)"
   ]
  },
  {
   "cell_type": "code",
   "execution_count": 34,
   "metadata": {
    "collapsed": false
   },
   "outputs": [
    {
     "data": {
      "text/html": [
       "8"
      ],
      "text/latex": [
       "8"
      ],
      "text/markdown": [
       "8"
      ],
      "text/plain": [
       "[1] 8"
      ]
     },
     "metadata": {},
     "output_type": "display_data"
    }
   ],
   "source": [
    "#error rate\n",
    "mean(knn.pred!=test.y)*100"
   ]
  },
  {
   "cell_type": "code",
   "execution_count": 27,
   "metadata": {
    "collapsed": false
   },
   "outputs": [
    {
     "data": {
      "text/plain": [
       "        test.y\n",
       "knn.pred  0  1\n",
       "       0 10  3\n",
       "       1  5 82"
      ]
     },
     "metadata": {},
     "output_type": "display_data"
    }
   ],
   "source": [
    "table(knn.pred,test.y)"
   ]
  }
 ],
 "metadata": {
  "kernelspec": {
   "display_name": "R",
   "language": "R",
   "name": "ir"
  },
  "language_info": {
   "codemirror_mode": "r",
   "file_extension": ".r",
   "mimetype": "text/x-r-source",
   "name": "R",
   "pygments_lexer": "r",
   "version": "3.2.2"
  }
 },
 "nbformat": 4,
 "nbformat_minor": 0
}
