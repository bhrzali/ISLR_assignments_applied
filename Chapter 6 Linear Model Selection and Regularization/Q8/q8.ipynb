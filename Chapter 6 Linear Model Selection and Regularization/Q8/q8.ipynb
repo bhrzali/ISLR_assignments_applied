{
 "cells": [
  {
   "cell_type": "markdown",
   "metadata": {},
   "source": [
    "Chapter 6 - Linear Model Selection Regularization q8"
   ]
  },
  {
   "cell_type": "markdown",
   "metadata": {},
   "source": [
    "## (a)"
   ]
  },
  {
   "cell_type": "code",
   "execution_count": 167,
   "metadata": {
    "collapsed": true
   },
   "outputs": [],
   "source": [
    "set.seed(1)\n",
    "X = rnorm(100)\n",
    "error = rnorm(100)"
   ]
  },
  {
   "cell_type": "markdown",
   "metadata": {},
   "source": [
    "## (b)"
   ]
  },
  {
   "cell_type": "code",
   "execution_count": 168,
   "metadata": {
    "collapsed": false
   },
   "outputs": [],
   "source": [
    "b0=3\n",
    "b1=2\n",
    "b2=-4\n",
    "b3=0.4\n",
    "Y = b0+b1*X+b2*X^2+b3*X^3+error\n",
    "sim_data = data.frame(y=Y,x=X)"
   ]
  },
  {
   "cell_type": "markdown",
   "metadata": {},
   "source": [
    "## (c)"
   ]
  },
  {
   "cell_type": "code",
   "execution_count": 169,
   "metadata": {
    "collapsed": false
   },
   "outputs": [
    {
     "data": {
      "text/plain": [
       "Subset selection object\n",
       "Call: regsubsets.formula(Y ~ poly(X, 10, raw = T), data = sim_data, \n",
       "    nvmax = 10)\n",
       "10 Variables  (and intercept)\n",
       "                       Forced in Forced out\n",
       "poly(X, 10, raw = T)1      FALSE      FALSE\n",
       "poly(X, 10, raw = T)2      FALSE      FALSE\n",
       "poly(X, 10, raw = T)3      FALSE      FALSE\n",
       "poly(X, 10, raw = T)4      FALSE      FALSE\n",
       "poly(X, 10, raw = T)5      FALSE      FALSE\n",
       "poly(X, 10, raw = T)6      FALSE      FALSE\n",
       "poly(X, 10, raw = T)7      FALSE      FALSE\n",
       "poly(X, 10, raw = T)8      FALSE      FALSE\n",
       "poly(X, 10, raw = T)9      FALSE      FALSE\n",
       "poly(X, 10, raw = T)10     FALSE      FALSE\n",
       "1 subsets of each size up to 10\n",
       "Selection Algorithm: exhaustive\n",
       "          poly(X, 10, raw = T)1 poly(X, 10, raw = T)2 poly(X, 10, raw = T)3\n",
       "1  ( 1 )  \" \"                   \"*\"                   \" \"                  \n",
       "2  ( 1 )  \"*\"                   \"*\"                   \" \"                  \n",
       "3  ( 1 )  \"*\"                   \"*\"                   \" \"                  \n",
       "4  ( 1 )  \"*\"                   \"*\"                   \" \"                  \n",
       "5  ( 1 )  \"*\"                   \"*\"                   \" \"                  \n",
       "6  ( 1 )  \"*\"                   \"*\"                   \" \"                  \n",
       "7  ( 1 )  \"*\"                   \"*\"                   \" \"                  \n",
       "8  ( 1 )  \"*\"                   \"*\"                   \"*\"                  \n",
       "9  ( 1 )  \"*\"                   \"*\"                   \" \"                  \n",
       "10  ( 1 ) \"*\"                   \"*\"                   \"*\"                  \n",
       "          poly(X, 10, raw = T)4 poly(X, 10, raw = T)5 poly(X, 10, raw = T)6\n",
       "1  ( 1 )  \" \"                   \" \"                   \" \"                  \n",
       "2  ( 1 )  \" \"                   \" \"                   \" \"                  \n",
       "3  ( 1 )  \" \"                   \"*\"                   \" \"                  \n",
       "4  ( 1 )  \" \"                   \"*\"                   \"*\"                  \n",
       "5  ( 1 )  \" \"                   \" \"                   \" \"                  \n",
       "6  ( 1 )  \" \"                   \"*\"                   \"*\"                  \n",
       "7  ( 1 )  \"*\"                   \"*\"                   \"*\"                  \n",
       "8  ( 1 )  \"*\"                   \" \"                   \"*\"                  \n",
       "9  ( 1 )  \"*\"                   \"*\"                   \"*\"                  \n",
       "10  ( 1 ) \"*\"                   \"*\"                   \"*\"                  \n",
       "          poly(X, 10, raw = T)7 poly(X, 10, raw = T)8 poly(X, 10, raw = T)9\n",
       "1  ( 1 )  \" \"                   \" \"                   \" \"                  \n",
       "2  ( 1 )  \" \"                   \" \"                   \" \"                  \n",
       "3  ( 1 )  \" \"                   \" \"                   \" \"                  \n",
       "4  ( 1 )  \" \"                   \" \"                   \" \"                  \n",
       "5  ( 1 )  \"*\"                   \"*\"                   \"*\"                  \n",
       "6  ( 1 )  \" \"                   \"*\"                   \" \"                  \n",
       "7  ( 1 )  \" \"                   \"*\"                   \" \"                  \n",
       "8  ( 1 )  \" \"                   \"*\"                   \"*\"                  \n",
       "9  ( 1 )  \"*\"                   \"*\"                   \"*\"                  \n",
       "10  ( 1 ) \"*\"                   \"*\"                   \"*\"                  \n",
       "          poly(X, 10, raw = T)10\n",
       "1  ( 1 )  \" \"                   \n",
       "2  ( 1 )  \" \"                   \n",
       "3  ( 1 )  \" \"                   \n",
       "4  ( 1 )  \" \"                   \n",
       "5  ( 1 )  \" \"                   \n",
       "6  ( 1 )  \"*\"                   \n",
       "7  ( 1 )  \"*\"                   \n",
       "8  ( 1 )  \"*\"                   \n",
       "9  ( 1 )  \"*\"                   \n",
       "10  ( 1 ) \"*\"                   "
      ]
     },
     "metadata": {},
     "output_type": "display_data"
    }
   ],
   "source": [
    "library(leaps)\n",
    "bestsubset.fit = regsubsets(Y~poly(X,10,raw=T),data=sim_data,nvmax=10)\n",
    "bestsubset_summary = summary(bestsubset.fit)\n",
    "bestsubset_summary"
   ]
  },
  {
   "cell_type": "code",
   "execution_count": 170,
   "metadata": {
    "collapsed": false
   },
   "outputs": [
    {
     "data": {
      "text/html": [
       "<ol class=list-inline>\n",
       "\t<li>'which'</li>\n",
       "\t<li>'rsq'</li>\n",
       "\t<li>'rss'</li>\n",
       "\t<li>'adjr2'</li>\n",
       "\t<li>'cp'</li>\n",
       "\t<li>'bic'</li>\n",
       "\t<li>'outmat'</li>\n",
       "\t<li>'obj'</li>\n",
       "</ol>\n"
      ],
      "text/latex": [
       "\\begin{enumerate*}\n",
       "\\item 'which'\n",
       "\\item 'rsq'\n",
       "\\item 'rss'\n",
       "\\item 'adjr2'\n",
       "\\item 'cp'\n",
       "\\item 'bic'\n",
       "\\item 'outmat'\n",
       "\\item 'obj'\n",
       "\\end{enumerate*}\n"
      ],
      "text/markdown": [
       "1. 'which'\n",
       "2. 'rsq'\n",
       "3. 'rss'\n",
       "4. 'adjr2'\n",
       "5. 'cp'\n",
       "6. 'bic'\n",
       "7. 'outmat'\n",
       "8. 'obj'\n",
       "\n",
       "\n"
      ],
      "text/plain": [
       "[1] \"which\"  \"rsq\"    \"rss\"    \"adjr2\"  \"cp\"     \"bic\"    \"outmat\" \"obj\"   "
      ]
     },
     "metadata": {},
     "output_type": "display_data"
    }
   ],
   "source": [
    "names(bestsubset_summary)"
   ]
  },
  {
   "cell_type": "code",
   "execution_count": 171,
   "metadata": {
    "collapsed": false
   },
   "outputs": [
    {
     "data": {
      "image/png": "[encoded data removed]",
      "text/plain": [
       "plot without title"
      ]
     },
     "metadata": {},
     "output_type": "display_data"
    }
   ],
   "source": [
    "par(mfrow=c(2,2))\n",
    "#adjusted R-squared\n",
    "plot(bestsubset_summary$adjr2,xlab=\"Number of variables\",ylab=\"adjr2\",type=\"l\")\n",
    "max_adjr2 = which.max(bestsubset_summary$adjr2)\n",
    "points(max_adjr2,bestsubset_summary$adjr2[max_adjr2],col=\"red\",cex=2,pch=20)\n",
    "#cp\n",
    "plot(bestsubset_summary$cp,xlab=\"Number of Variables\",ylab=\"cp\",type=\"l\")\n",
    "min_cp = which.min(bestsubset_summary$cp)\n",
    "points(min_cp,bestsubset_summary$cp[min_cp],col=\"red\",cex=2,pch=20)\n",
    "#bic\n",
    "plot(bestsubset_summary$bic,xlab=\"Number of Variables\",ylab=\"bic\",type=\"l\")\n",
    "min_bic = which.min(bestsubset_summary$bic)\n",
    "points(min_bic,bestsubset_summary$bic[min_bic],col=\"red\",cex=2,pch=20)"
   ]
  },
  {
   "cell_type": "code",
   "execution_count": 172,
   "metadata": {
    "collapsed": false
   },
   "outputs": [
    {
     "data": {
      "text/html": [
       "3"
      ],
      "text/latex": [
       "3"
      ],
      "text/markdown": [
       "3"
      ],
      "text/plain": [
       "[1] 3"
      ]
     },
     "metadata": {},
     "output_type": "display_data"
    },
    {
     "data": {
      "text/html": [
       "3"
      ],
      "text/latex": [
       "3"
      ],
      "text/markdown": [
       "3"
      ],
      "text/plain": [
       "[1] 3"
      ]
     },
     "metadata": {},
     "output_type": "display_data"
    },
    {
     "data": {
      "text/html": [
       "3"
      ],
      "text/latex": [
       "3"
      ],
      "text/markdown": [
       "3"
      ],
      "text/plain": [
       "[1] 3"
      ]
     },
     "metadata": {},
     "output_type": "display_data"
    }
   ],
   "source": [
    "max_adjr2\n",
    "min_bic\n",
    "min_cp"
   ]
  },
  {
   "cell_type": "code",
   "execution_count": 174,
   "metadata": {
    "collapsed": false
   },
   "outputs": [
    {
     "data": {
      "text/html": [
       "<dl class=dl-horizontal>\n",
       "\t<dt>(Intercept)</dt>\n",
       "\t\t<dd>3.07187220886589</dd>\n",
       "\t<dt>poly(X, 10, raw = T)1</dt>\n",
       "\t\t<dd>2.34563538332697</dd>\n",
       "\t<dt>poly(X, 10, raw = T)2</dt>\n",
       "\t\t<dd>-4.15241772557949</dd>\n",
       "\t<dt>poly(X, 10, raw = T)5</dt>\n",
       "\t\t<dd>0.0738342630773857</dd>\n",
       "</dl>\n"
      ],
      "text/latex": [
       "\\begin{description*}\n",
       "\\item[(Intercept)] 3.07187220886589\n",
       "\\item[poly(X, 10, raw = T)1] 2.34563538332697\n",
       "\\item[poly(X, 10, raw = T)2] -4.15241772557949\n",
       "\\item[poly(X, 10, raw = T)5] 0.0738342630773857\n",
       "\\end{description*}\n"
      ],
      "text/markdown": [
       "(Intercept)\n",
       ":   3.07187220886589poly(X, 10, raw = T)1\n",
       ":   2.34563538332697poly(X, 10, raw = T)2\n",
       ":   -4.15241772557949poly(X, 10, raw = T)5\n",
       ":   0.0738342630773857\n",
       "\n"
      ],
      "text/plain": [
       "          (Intercept) poly(X, 10, raw = T)1 poly(X, 10, raw = T)2 \n",
       "           3.07187221            2.34563538           -4.15241773 \n",
       "poly(X, 10, raw = T)5 \n",
       "           0.07383426 "
      ]
     },
     "metadata": {},
     "output_type": "display_data"
    }
   ],
   "source": [
    "coef(bestsubset.fit,3)"
   ]
  },
  {
   "cell_type": "markdown",
   "metadata": {},
   "source": [
    "## (d)"
   ]
  },
  {
   "cell_type": "code",
   "execution_count": 176,
   "metadata": {
    "collapsed": false
   },
   "outputs": [
    {
     "data": {
      "text/plain": [
       "Subset selection object\n",
       "Call: regsubsets.formula(Y ~ poly(x, 10, raw = T), data = sim_data, \n",
       "    nvmax = 10, method = \"forward\")\n",
       "10 Variables  (and intercept)\n",
       "                       Forced in Forced out\n",
       "poly(x, 10, raw = T)1      FALSE      FALSE\n",
       "poly(x, 10, raw = T)2      FALSE      FALSE\n",
       "poly(x, 10, raw = T)3      FALSE      FALSE\n",
       "poly(x, 10, raw = T)4      FALSE      FALSE\n",
       "poly(x, 10, raw = T)5      FALSE      FALSE\n",
       "poly(x, 10, raw = T)6      FALSE      FALSE\n",
       "poly(x, 10, raw = T)7      FALSE      FALSE\n",
       "poly(x, 10, raw = T)8      FALSE      FALSE\n",
       "poly(x, 10, raw = T)9      FALSE      FALSE\n",
       "poly(x, 10, raw = T)10     FALSE      FALSE\n",
       "1 subsets of each size up to 10\n",
       "Selection Algorithm: forward\n",
       "          poly(x, 10, raw = T)1 poly(x, 10, raw = T)2 poly(x, 10, raw = T)3\n",
       "1  ( 1 )  \" \"                   \"*\"                   \" \"                  \n",
       "2  ( 1 )  \"*\"                   \"*\"                   \" \"                  \n",
       "3  ( 1 )  \"*\"                   \"*\"                   \" \"                  \n",
       "4  ( 1 )  \"*\"                   \"*\"                   \" \"                  \n",
       "5  ( 1 )  \"*\"                   \"*\"                   \" \"                  \n",
       "6  ( 1 )  \"*\"                   \"*\"                   \" \"                  \n",
       "7  ( 1 )  \"*\"                   \"*\"                   \" \"                  \n",
       "8  ( 1 )  \"*\"                   \"*\"                   \"*\"                  \n",
       "9  ( 1 )  \"*\"                   \"*\"                   \"*\"                  \n",
       "10  ( 1 ) \"*\"                   \"*\"                   \"*\"                  \n",
       "          poly(x, 10, raw = T)4 poly(x, 10, raw = T)5 poly(x, 10, raw = T)6\n",
       "1  ( 1 )  \" \"                   \" \"                   \" \"                  \n",
       "2  ( 1 )  \" \"                   \" \"                   \" \"                  \n",
       "3  ( 1 )  \" \"                   \"*\"                   \" \"                  \n",
       "4  ( 1 )  \" \"                   \"*\"                   \"*\"                  \n",
       "5  ( 1 )  \" \"                   \"*\"                   \"*\"                  \n",
       "6  ( 1 )  \" \"                   \"*\"                   \"*\"                  \n",
       "7  ( 1 )  \"*\"                   \"*\"                   \"*\"                  \n",
       "8  ( 1 )  \"*\"                   \"*\"                   \"*\"                  \n",
       "9  ( 1 )  \"*\"                   \"*\"                   \"*\"                  \n",
       "10  ( 1 ) \"*\"                   \"*\"                   \"*\"                  \n",
       "          poly(x, 10, raw = T)7 poly(x, 10, raw = T)8 poly(x, 10, raw = T)9\n",
       "1  ( 1 )  \" \"                   \" \"                   \" \"                  \n",
       "2  ( 1 )  \" \"                   \" \"                   \" \"                  \n",
       "3  ( 1 )  \" \"                   \" \"                   \" \"                  \n",
       "4  ( 1 )  \" \"                   \" \"                   \" \"                  \n",
       "5  ( 1 )  \" \"                   \" \"                   \"*\"                  \n",
       "6  ( 1 )  \"*\"                   \" \"                   \"*\"                  \n",
       "7  ( 1 )  \"*\"                   \" \"                   \"*\"                  \n",
       "8  ( 1 )  \"*\"                   \" \"                   \"*\"                  \n",
       "9  ( 1 )  \"*\"                   \"*\"                   \"*\"                  \n",
       "10  ( 1 ) \"*\"                   \"*\"                   \"*\"                  \n",
       "          poly(x, 10, raw = T)10\n",
       "1  ( 1 )  \" \"                   \n",
       "2  ( 1 )  \" \"                   \n",
       "3  ( 1 )  \" \"                   \n",
       "4  ( 1 )  \" \"                   \n",
       "5  ( 1 )  \" \"                   \n",
       "6  ( 1 )  \" \"                   \n",
       "7  ( 1 )  \" \"                   \n",
       "8  ( 1 )  \" \"                   \n",
       "9  ( 1 )  \" \"                   \n",
       "10  ( 1 ) \"*\"                   "
      ]
     },
     "metadata": {},
     "output_type": "display_data"
    }
   ],
   "source": [
    "#forward stepwise selection\n",
    "forward.fit = regsubsets(Y~poly(x,10,raw=T),data=sim_data,nvmax=10,method=\"forward\")\n",
    "forward_summary = summary(forward.fit)\n",
    "forward_summary"
   ]
  },
  {
   "cell_type": "code",
   "execution_count": 184,
   "metadata": {
    "collapsed": false
   },
   "outputs": [
    {
     "data": {
      "text/html": [
       "3"
      ],
      "text/latex": [
       "3"
      ],
      "text/markdown": [
       "3"
      ],
      "text/plain": [
       "[1] 3"
      ]
     },
     "metadata": {},
     "output_type": "display_data"
    }
   ],
   "source": [
    "max_adjr2 = which.max(forward_summary$adjr2)\n",
    "max_adjr2"
   ]
  },
  {
   "cell_type": "code",
   "execution_count": 185,
   "metadata": {
    "collapsed": false
   },
   "outputs": [
    {
     "data": {
      "text/html": [
       "3"
      ],
      "text/latex": [
       "3"
      ],
      "text/markdown": [
       "3"
      ],
      "text/plain": [
       "[1] 3"
      ]
     },
     "metadata": {},
     "output_type": "display_data"
    }
   ],
   "source": [
    "min_bic = which.min(forward_summary$bic)\n",
    "min_bic"
   ]
  },
  {
   "cell_type": "code",
   "execution_count": 186,
   "metadata": {
    "collapsed": false
   },
   "outputs": [
    {
     "data": {
      "text/html": [
       "3"
      ],
      "text/latex": [
       "3"
      ],
      "text/markdown": [
       "3"
      ],
      "text/plain": [
       "[1] 3"
      ]
     },
     "metadata": {},
     "output_type": "display_data"
    }
   ],
   "source": [
    "min_cp = which.min(forward_summary$cp)\n",
    "min_cp"
   ]
  },
  {
   "cell_type": "code",
   "execution_count": 187,
   "metadata": {
    "collapsed": false
   },
   "outputs": [
    {
     "data": {
      "text/html": [
       "<dl class=dl-horizontal>\n",
       "\t<dt>(Intercept)</dt>\n",
       "\t\t<dd>3.07187220886589</dd>\n",
       "\t<dt>poly(x, 10, raw = T)1</dt>\n",
       "\t\t<dd>2.34563538332697</dd>\n",
       "\t<dt>poly(x, 10, raw = T)2</dt>\n",
       "\t\t<dd>-4.15241772557949</dd>\n",
       "\t<dt>poly(x, 10, raw = T)5</dt>\n",
       "\t\t<dd>0.0738342630773856</dd>\n",
       "</dl>\n"
      ],
      "text/latex": [
       "\\begin{description*}\n",
       "\\item[(Intercept)] 3.07187220886589\n",
       "\\item[poly(x, 10, raw = T)1] 2.34563538332697\n",
       "\\item[poly(x, 10, raw = T)2] -4.15241772557949\n",
       "\\item[poly(x, 10, raw = T)5] 0.0738342630773856\n",
       "\\end{description*}\n"
      ],
      "text/markdown": [
       "(Intercept)\n",
       ":   3.07187220886589poly(x, 10, raw = T)1\n",
       ":   2.34563538332697poly(x, 10, raw = T)2\n",
       ":   -4.15241772557949poly(x, 10, raw = T)5\n",
       ":   0.0738342630773856\n",
       "\n"
      ],
      "text/plain": [
       "          (Intercept) poly(x, 10, raw = T)1 poly(x, 10, raw = T)2 \n",
       "           3.07187221            2.34563538           -4.15241773 \n",
       "poly(x, 10, raw = T)5 \n",
       "           0.07383426 "
      ]
     },
     "metadata": {},
     "output_type": "display_data"
    }
   ],
   "source": [
    "coef(forward.fit,3)"
   ]
  },
  {
   "cell_type": "markdown",
   "metadata": {},
   "source": [
    "The result of forward stepwise regression is not different from best subset regression."
   ]
  },
  {
   "cell_type": "code",
   "execution_count": 189,
   "metadata": {
    "collapsed": false
   },
   "outputs": [
    {
     "data": {
      "text/plain": [
       "Subset selection object\n",
       "Call: regsubsets.formula(Y ~ poly(x, 10, raw = T), data = sim_data, \n",
       "    nvmax = 10, method = \"backward\")\n",
       "10 Variables  (and intercept)\n",
       "                       Forced in Forced out\n",
       "poly(x, 10, raw = T)1      FALSE      FALSE\n",
       "poly(x, 10, raw = T)2      FALSE      FALSE\n",
       "poly(x, 10, raw = T)3      FALSE      FALSE\n",
       "poly(x, 10, raw = T)4      FALSE      FALSE\n",
       "poly(x, 10, raw = T)5      FALSE      FALSE\n",
       "poly(x, 10, raw = T)6      FALSE      FALSE\n",
       "poly(x, 10, raw = T)7      FALSE      FALSE\n",
       "poly(x, 10, raw = T)8      FALSE      FALSE\n",
       "poly(x, 10, raw = T)9      FALSE      FALSE\n",
       "poly(x, 10, raw = T)10     FALSE      FALSE\n",
       "1 subsets of each size up to 10\n",
       "Selection Algorithm: backward\n",
       "          poly(x, 10, raw = T)1 poly(x, 10, raw = T)2 poly(x, 10, raw = T)3\n",
       "1  ( 1 )  \" \"                   \"*\"                   \" \"                  \n",
       "2  ( 1 )  \"*\"                   \"*\"                   \" \"                  \n",
       "3  ( 1 )  \"*\"                   \"*\"                   \" \"                  \n",
       "4  ( 1 )  \"*\"                   \"*\"                   \" \"                  \n",
       "5  ( 1 )  \"*\"                   \"*\"                   \" \"                  \n",
       "6  ( 1 )  \"*\"                   \"*\"                   \" \"                  \n",
       "7  ( 1 )  \"*\"                   \"*\"                   \" \"                  \n",
       "8  ( 1 )  \"*\"                   \"*\"                   \" \"                  \n",
       "9  ( 1 )  \"*\"                   \"*\"                   \" \"                  \n",
       "10  ( 1 ) \"*\"                   \"*\"                   \"*\"                  \n",
       "          poly(x, 10, raw = T)4 poly(x, 10, raw = T)5 poly(x, 10, raw = T)6\n",
       "1  ( 1 )  \" \"                   \" \"                   \" \"                  \n",
       "2  ( 1 )  \" \"                   \" \"                   \" \"                  \n",
       "3  ( 1 )  \" \"                   \"*\"                   \" \"                  \n",
       "4  ( 1 )  \" \"                   \"*\"                   \" \"                  \n",
       "5  ( 1 )  \" \"                   \"*\"                   \" \"                  \n",
       "6  ( 1 )  \" \"                   \"*\"                   \"*\"                  \n",
       "7  ( 1 )  \"*\"                   \"*\"                   \"*\"                  \n",
       "8  ( 1 )  \"*\"                   \"*\"                   \"*\"                  \n",
       "9  ( 1 )  \"*\"                   \"*\"                   \"*\"                  \n",
       "10  ( 1 ) \"*\"                   \"*\"                   \"*\"                  \n",
       "          poly(x, 10, raw = T)7 poly(x, 10, raw = T)8 poly(x, 10, raw = T)9\n",
       "1  ( 1 )  \" \"                   \" \"                   \" \"                  \n",
       "2  ( 1 )  \" \"                   \" \"                   \" \"                  \n",
       "3  ( 1 )  \" \"                   \" \"                   \" \"                  \n",
       "4  ( 1 )  \" \"                   \"*\"                   \" \"                  \n",
       "5  ( 1 )  \" \"                   \"*\"                   \" \"                  \n",
       "6  ( 1 )  \" \"                   \"*\"                   \" \"                  \n",
       "7  ( 1 )  \" \"                   \"*\"                   \" \"                  \n",
       "8  ( 1 )  \" \"                   \"*\"                   \"*\"                  \n",
       "9  ( 1 )  \"*\"                   \"*\"                   \"*\"                  \n",
       "10  ( 1 ) \"*\"                   \"*\"                   \"*\"                  \n",
       "          poly(x, 10, raw = T)10\n",
       "1  ( 1 )  \" \"                   \n",
       "2  ( 1 )  \" \"                   \n",
       "3  ( 1 )  \" \"                   \n",
       "4  ( 1 )  \" \"                   \n",
       "5  ( 1 )  \"*\"                   \n",
       "6  ( 1 )  \"*\"                   \n",
       "7  ( 1 )  \"*\"                   \n",
       "8  ( 1 )  \"*\"                   \n",
       "9  ( 1 )  \"*\"                   \n",
       "10  ( 1 ) \"*\"                   "
      ]
     },
     "metadata": {},
     "output_type": "display_data"
    }
   ],
   "source": [
    "#backward stepwise regression\n",
    "backward.fit = regsubsets(Y~poly(x,10,raw=T),data=sim_data,nvmax=10,method=\"backward\")\n",
    "backward_summary = summary(backward.fit)\n",
    "backward_summary"
   ]
  },
  {
   "cell_type": "code",
   "execution_count": 190,
   "metadata": {
    "collapsed": false
   },
   "outputs": [
    {
     "data": {
      "text/html": [
       "3"
      ],
      "text/latex": [
       "3"
      ],
      "text/markdown": [
       "3"
      ],
      "text/plain": [
       "[1] 3"
      ]
     },
     "metadata": {},
     "output_type": "display_data"
    }
   ],
   "source": [
    "which.max(backward_summary$adjr2)"
   ]
  },
  {
   "cell_type": "code",
   "execution_count": 191,
   "metadata": {
    "collapsed": false
   },
   "outputs": [
    {
     "data": {
      "text/html": [
       "3"
      ],
      "text/latex": [
       "3"
      ],
      "text/markdown": [
       "3"
      ],
      "text/plain": [
       "[1] 3"
      ]
     },
     "metadata": {},
     "output_type": "display_data"
    }
   ],
   "source": [
    "which.min(backward_summary$bic)"
   ]
  },
  {
   "cell_type": "code",
   "execution_count": 192,
   "metadata": {
    "collapsed": false
   },
   "outputs": [
    {
     "data": {
      "text/html": [
       "3"
      ],
      "text/latex": [
       "3"
      ],
      "text/markdown": [
       "3"
      ],
      "text/plain": [
       "[1] 3"
      ]
     },
     "metadata": {},
     "output_type": "display_data"
    }
   ],
   "source": [
    "which.min(backward_summary$cp)"
   ]
  },
  {
   "cell_type": "code",
   "execution_count": 193,
   "metadata": {
    "collapsed": false
   },
   "outputs": [
    {
     "data": {
      "text/html": [
       "<dl class=dl-horizontal>\n",
       "\t<dt>(Intercept)</dt>\n",
       "\t\t<dd>3.07187220886589</dd>\n",
       "\t<dt>poly(x, 10, raw = T)1</dt>\n",
       "\t\t<dd>2.34563538332697</dd>\n",
       "\t<dt>poly(x, 10, raw = T)2</dt>\n",
       "\t\t<dd>-4.15241772557949</dd>\n",
       "\t<dt>poly(x, 10, raw = T)5</dt>\n",
       "\t\t<dd>0.0738342630773856</dd>\n",
       "</dl>\n"
      ],
      "text/latex": [
       "\\begin{description*}\n",
       "\\item[(Intercept)] 3.07187220886589\n",
       "\\item[poly(x, 10, raw = T)1] 2.34563538332697\n",
       "\\item[poly(x, 10, raw = T)2] -4.15241772557949\n",
       "\\item[poly(x, 10, raw = T)5] 0.0738342630773856\n",
       "\\end{description*}\n"
      ],
      "text/markdown": [
       "(Intercept)\n",
       ":   3.07187220886589poly(x, 10, raw = T)1\n",
       ":   2.34563538332697poly(x, 10, raw = T)2\n",
       ":   -4.15241772557949poly(x, 10, raw = T)5\n",
       ":   0.0738342630773856\n",
       "\n"
      ],
      "text/plain": [
       "          (Intercept) poly(x, 10, raw = T)1 poly(x, 10, raw = T)2 \n",
       "           3.07187221            2.34563538           -4.15241773 \n",
       "poly(x, 10, raw = T)5 \n",
       "           0.07383426 "
      ]
     },
     "metadata": {},
     "output_type": "display_data"
    }
   ],
   "source": [
    "coef(backward.fit,3)"
   ]
  },
  {
   "cell_type": "markdown",
   "metadata": {},
   "source": [
    "The result of backward stepwise regression is not different from best subset selection"
   ]
  },
  {
   "cell_type": "markdown",
   "metadata": {},
   "source": [
    "## (e)"
   ]
  },
  {
   "cell_type": "code",
   "execution_count": 208,
   "metadata": {
    "collapsed": false
   },
   "outputs": [],
   "source": [
    "X = model.matrix(Y~poly(x,10,raw=T),data=sim_data)[,-1]\n",
    "Y = sim_data[,1]\n",
    "#creating a trianing data\n",
    "set.seed(1)\n",
    "train = sample(1:100,50)"
   ]
  },
  {
   "cell_type": "code",
   "execution_count": 218,
   "metadata": {
    "collapsed": false
   },
   "outputs": [
    {
     "data": {
      "image/png": "[encoded data removed]",
      "text/plain": [
       "plot without title"
      ]
     },
     "metadata": {},
     "output_type": "display_data"
    }
   ],
   "source": [
    "set.seed(1)\n",
    "cv.output = cv.glmnet(X[train,],Y[train],alpha=1)\n",
    "plot(cv.output)"
   ]
  },
  {
   "cell_type": "code",
   "execution_count": 228,
   "metadata": {
    "collapsed": false
   },
   "outputs": [
    {
     "data": {
      "text/html": [
       "<dl class=dl-horizontal>\n",
       "\t<dt>(Intercept)</dt>\n",
       "\t\t<dd>3.03150152239386</dd>\n",
       "\t<dt>poly(x, 10, raw = T)1</dt>\n",
       "\t\t<dd>2.25288346271139</dd>\n",
       "\t<dt>poly(x, 10, raw = T)2</dt>\n",
       "\t\t<dd>-4.09202422874494</dd>\n",
       "\t<dt>poly(x, 10, raw = T)3</dt>\n",
       "\t\t<dd>0.0647925691298561</dd>\n",
       "\t<dt>poly(x, 10, raw = T)4</dt>\n",
       "\t\t<dd>0</dd>\n",
       "\t<dt>poly(x, 10, raw = T)5</dt>\n",
       "\t\t<dd>0.0590268390507903</dd>\n",
       "\t<dt>poly(x, 10, raw = T)6</dt>\n",
       "\t\t<dd>0</dd>\n",
       "\t<dt>poly(x, 10, raw = T)7</dt>\n",
       "\t\t<dd>0</dd>\n",
       "\t<dt>poly(x, 10, raw = T)8</dt>\n",
       "\t\t<dd>0</dd>\n",
       "\t<dt>poly(x, 10, raw = T)9</dt>\n",
       "\t\t<dd>0</dd>\n",
       "\t<dt>poly(x, 10, raw = T)10</dt>\n",
       "\t\t<dd>0</dd>\n",
       "</dl>\n"
      ],
      "text/latex": [
       "\\begin{description*}\n",
       "\\item[(Intercept)] 3.03150152239386\n",
       "\\item[poly(x, 10, raw = T)1] 2.25288346271139\n",
       "\\item[poly(x, 10, raw = T)2] -4.09202422874494\n",
       "\\item[poly(x, 10, raw = T)3] 0.0647925691298561\n",
       "\\item[poly(x, 10, raw = T)4] 0\n",
       "\\item[poly(x, 10, raw = T)5] 0.0590268390507903\n",
       "\\item[poly(x, 10, raw = T)6] 0\n",
       "\\item[poly(x, 10, raw = T)7] 0\n",
       "\\item[poly(x, 10, raw = T)8] 0\n",
       "\\item[poly(x, 10, raw = T)9] 0\n",
       "\\item[poly(x, 10, raw = T)10] 0\n",
       "\\end{description*}\n"
      ],
      "text/markdown": [
       "(Intercept)\n",
       ":   3.03150152239386poly(x, 10, raw = T)1\n",
       ":   2.25288346271139poly(x, 10, raw = T)2\n",
       ":   -4.09202422874494poly(x, 10, raw = T)3\n",
       ":   0.0647925691298561poly(x, 10, raw = T)4\n",
       ":   0poly(x, 10, raw = T)5\n",
       ":   0.0590268390507903poly(x, 10, raw = T)6\n",
       ":   0poly(x, 10, raw = T)7\n",
       ":   0poly(x, 10, raw = T)8\n",
       ":   0poly(x, 10, raw = T)9\n",
       ":   0poly(x, 10, raw = T)10\n",
       ":   0\n",
       "\n"
      ],
      "text/plain": [
       "           (Intercept)  poly(x, 10, raw = T)1  poly(x, 10, raw = T)2 \n",
       "            3.03150152             2.25288346            -4.09202423 \n",
       " poly(x, 10, raw = T)3  poly(x, 10, raw = T)4  poly(x, 10, raw = T)5 \n",
       "            0.06479257             0.00000000             0.05902684 \n",
       " poly(x, 10, raw = T)6  poly(x, 10, raw = T)7  poly(x, 10, raw = T)8 \n",
       "            0.00000000             0.00000000             0.00000000 \n",
       " poly(x, 10, raw = T)9 poly(x, 10, raw = T)10 \n",
       "            0.00000000             0.00000000 "
      ]
     },
     "metadata": {},
     "output_type": "display_data"
    }
   ],
   "source": [
    "best.lambda = cv.output$lambda.min\n",
    "lasso.fit = glmnet(X,Y,alpha=1)\n",
    "coef.pred = predict(lasso.fit,type=\"coefficients\",s=best.lambda)[1:11,]\n",
    "coef.pred"
   ]
  },
  {
   "cell_type": "code",
   "execution_count": 227,
   "metadata": {
    "collapsed": false
   },
   "outputs": [
    {
     "data": {
      "text/html": [
       "<dl class=dl-horizontal>\n",
       "\t<dt>(Intercept)</dt>\n",
       "\t\t<dd>3.03150152239386</dd>\n",
       "\t<dt>poly(x, 10, raw = T)1</dt>\n",
       "\t\t<dd>2.25288346271139</dd>\n",
       "\t<dt>poly(x, 10, raw = T)2</dt>\n",
       "\t\t<dd>-4.09202422874494</dd>\n",
       "\t<dt>poly(x, 10, raw = T)3</dt>\n",
       "\t\t<dd>0.0647925691298561</dd>\n",
       "\t<dt>poly(x, 10, raw = T)5</dt>\n",
       "\t\t<dd>0.0590268390507903</dd>\n",
       "</dl>\n"
      ],
      "text/latex": [
       "\\begin{description*}\n",
       "\\item[(Intercept)] 3.03150152239386\n",
       "\\item[poly(x, 10, raw = T)1] 2.25288346271139\n",
       "\\item[poly(x, 10, raw = T)2] -4.09202422874494\n",
       "\\item[poly(x, 10, raw = T)3] 0.0647925691298561\n",
       "\\item[poly(x, 10, raw = T)5] 0.0590268390507903\n",
       "\\end{description*}\n"
      ],
      "text/markdown": [
       "(Intercept)\n",
       ":   3.03150152239386poly(x, 10, raw = T)1\n",
       ":   2.25288346271139poly(x, 10, raw = T)2\n",
       ":   -4.09202422874494poly(x, 10, raw = T)3\n",
       ":   0.0647925691298561poly(x, 10, raw = T)5\n",
       ":   0.0590268390507903\n",
       "\n"
      ],
      "text/plain": [
       "          (Intercept) poly(x, 10, raw = T)1 poly(x, 10, raw = T)2 \n",
       "           3.03150152            2.25288346           -4.09202423 \n",
       "poly(x, 10, raw = T)3 poly(x, 10, raw = T)5 \n",
       "           0.06479257            0.05902684 "
      ]
     },
     "metadata": {},
     "output_type": "display_data"
    }
   ],
   "source": [
    "coef.pred[coef.pred!=0]"
   ]
  },
  {
   "cell_type": "markdown",
   "metadata": {},
   "source": [
    "The Lasso has picked the variables x^1,x^2,x^3 and x^5"
   ]
  },
  {
   "cell_type": "markdown",
   "metadata": {},
   "source": [
    "## (f)"
   ]
  },
  {
   "cell_type": "code",
   "execution_count": 229,
   "metadata": {
    "collapsed": true
   },
   "outputs": [],
   "source": [
    "b0=4\n",
    "b7=8\n",
    "Y = b0 + b7*X^7 + error\n",
    "sim_data = data.frame(y=Y,x=X)"
   ]
  },
  {
   "cell_type": "code",
   "execution_count": 232,
   "metadata": {
    "collapsed": false
   },
   "outputs": [
    {
     "data": {
      "text/html": [
       "<ol class=list-inline>\n",
       "\t<li>'which'</li>\n",
       "\t<li>'rsq'</li>\n",
       "\t<li>'rss'</li>\n",
       "\t<li>'adjr2'</li>\n",
       "\t<li>'cp'</li>\n",
       "\t<li>'bic'</li>\n",
       "\t<li>'outmat'</li>\n",
       "\t<li>'obj'</li>\n",
       "</ol>\n"
      ],
      "text/latex": [
       "\\begin{enumerate*}\n",
       "\\item 'which'\n",
       "\\item 'rsq'\n",
       "\\item 'rss'\n",
       "\\item 'adjr2'\n",
       "\\item 'cp'\n",
       "\\item 'bic'\n",
       "\\item 'outmat'\n",
       "\\item 'obj'\n",
       "\\end{enumerate*}\n"
      ],
      "text/markdown": [
       "1. 'which'\n",
       "2. 'rsq'\n",
       "3. 'rss'\n",
       "4. 'adjr2'\n",
       "5. 'cp'\n",
       "6. 'bic'\n",
       "7. 'outmat'\n",
       "8. 'obj'\n",
       "\n",
       "\n"
      ],
      "text/plain": [
       "[1] \"which\"  \"rsq\"    \"rss\"    \"adjr2\"  \"cp\"     \"bic\"    \"outmat\" \"obj\"   "
      ]
     },
     "metadata": {},
     "output_type": "display_data"
    }
   ],
   "source": [
    "#using best subset selection\n",
    "best.subset.fit = regsubsets(Y~poly(x,10,raw=T),data=sim_data,nvmax=10)\n",
    "best.subset.summary = summary(best.subset.fit)\n",
    "names(best.subset.summary)"
   ]
  },
  {
   "cell_type": "code",
   "execution_count": 233,
   "metadata": {
    "collapsed": false
   },
   "outputs": [
    {
     "data": {
      "text/html": [
       "2"
      ],
      "text/latex": [
       "2"
      ],
      "text/markdown": [
       "2"
      ],
      "text/plain": [
       "[1] 2"
      ]
     },
     "metadata": {},
     "output_type": "display_data"
    }
   ],
   "source": [
    "which.min(best.subset.summary$cp)"
   ]
  },
  {
   "cell_type": "code",
   "execution_count": 234,
   "metadata": {
    "collapsed": false
   },
   "outputs": [
    {
     "data": {
      "text/html": [
       "1"
      ],
      "text/latex": [
       "1"
      ],
      "text/markdown": [
       "1"
      ],
      "text/plain": [
       "[1] 1"
      ]
     },
     "metadata": {},
     "output_type": "display_data"
    }
   ],
   "source": [
    "which.min(best.subset.summary$bic)"
   ]
  },
  {
   "cell_type": "code",
   "execution_count": 238,
   "metadata": {
    "collapsed": false
   },
   "outputs": [
    {
     "data": {
      "text/html": [
       "4"
      ],
      "text/latex": [
       "4"
      ],
      "text/markdown": [
       "4"
      ],
      "text/plain": [
       "[1] 4"
      ]
     },
     "metadata": {},
     "output_type": "display_data"
    }
   ],
   "source": [
    "which.max(best.subset.summary$adjr2)"
   ]
  },
  {
   "cell_type": "markdown",
   "metadata": {},
   "source": [
    "The best subset selection produces the following models according to cp,bic and adjusted R-squared"
   ]
  },
  {
   "cell_type": "code",
   "execution_count": 240,
   "metadata": {
    "collapsed": false
   },
   "outputs": [
    {
     "data": {
      "text/html": [
       "<dl class=dl-horizontal>\n",
       "\t<dt>(Intercept)</dt>\n",
       "\t\t<dd>4.07049036762636</dd>\n",
       "\t<dt>poly(x, 10, raw = T)2</dt>\n",
       "\t\t<dd>-0.141708425295761</dd>\n",
       "\t<dt>poly(x, 10, raw = T)7</dt>\n",
       "\t\t<dd>8.00155518856387</dd>\n",
       "</dl>\n"
      ],
      "text/latex": [
       "\\begin{description*}\n",
       "\\item[(Intercept)] 4.07049036762636\n",
       "\\item[poly(x, 10, raw = T)2] -0.141708425295761\n",
       "\\item[poly(x, 10, raw = T)7] 8.00155518856387\n",
       "\\end{description*}\n"
      ],
      "text/markdown": [
       "(Intercept)\n",
       ":   4.07049036762636poly(x, 10, raw = T)2\n",
       ":   -0.141708425295761poly(x, 10, raw = T)7\n",
       ":   8.00155518856387\n",
       "\n"
      ],
      "text/plain": [
       "          (Intercept) poly(x, 10, raw = T)2 poly(x, 10, raw = T)7 \n",
       "            4.0704904            -0.1417084             8.0015552 "
      ]
     },
     "metadata": {},
     "output_type": "display_data"
    }
   ],
   "source": [
    "coef(best.subset.fit,2)"
   ]
  },
  {
   "cell_type": "code",
   "execution_count": 241,
   "metadata": {
    "collapsed": false
   },
   "outputs": [
    {
     "data": {
      "text/html": [
       "<dl class=dl-horizontal>\n",
       "\t<dt>(Intercept)</dt>\n",
       "\t\t<dd>3.95894024674507</dd>\n",
       "\t<dt>poly(x, 10, raw = T)7</dt>\n",
       "\t\t<dd>8.00077047427056</dd>\n",
       "</dl>\n"
      ],
      "text/latex": [
       "\\begin{description*}\n",
       "\\item[(Intercept)] 3.95894024674507\n",
       "\\item[poly(x, 10, raw = T)7] 8.00077047427056\n",
       "\\end{description*}\n"
      ],
      "text/markdown": [
       "(Intercept)\n",
       ":   3.95894024674507poly(x, 10, raw = T)7\n",
       ":   8.00077047427056\n",
       "\n"
      ],
      "text/plain": [
       "          (Intercept) poly(x, 10, raw = T)7 \n",
       "              3.95894               8.00077 "
      ]
     },
     "metadata": {},
     "output_type": "display_data"
    }
   ],
   "source": [
    "coef(best.subset.fit,1)"
   ]
  },
  {
   "cell_type": "code",
   "execution_count": 242,
   "metadata": {
    "collapsed": false
   },
   "outputs": [
    {
     "data": {
      "text/html": [
       "<dl class=dl-horizontal>\n",
       "\t<dt>(Intercept)</dt>\n",
       "\t\t<dd>4.07625244968331</dd>\n",
       "\t<dt>poly(x, 10, raw = T)1</dt>\n",
       "\t\t<dd>0.291401607645746</dd>\n",
       "\t<dt>poly(x, 10, raw = T)2</dt>\n",
       "\t\t<dd>-0.161767130528661</dd>\n",
       "\t<dt>poly(x, 10, raw = T)3</dt>\n",
       "\t\t<dd>-0.252652678282311</dd>\n",
       "\t<dt>poly(x, 10, raw = T)7</dt>\n",
       "\t\t<dd>8.00913375439679</dd>\n",
       "</dl>\n"
      ],
      "text/latex": [
       "\\begin{description*}\n",
       "\\item[(Intercept)] 4.07625244968331\n",
       "\\item[poly(x, 10, raw = T)1] 0.291401607645746\n",
       "\\item[poly(x, 10, raw = T)2] -0.161767130528661\n",
       "\\item[poly(x, 10, raw = T)3] -0.252652678282311\n",
       "\\item[poly(x, 10, raw = T)7] 8.00913375439679\n",
       "\\end{description*}\n"
      ],
      "text/markdown": [
       "(Intercept)\n",
       ":   4.07625244968331poly(x, 10, raw = T)1\n",
       ":   0.291401607645746poly(x, 10, raw = T)2\n",
       ":   -0.161767130528661poly(x, 10, raw = T)3\n",
       ":   -0.252652678282311poly(x, 10, raw = T)7\n",
       ":   8.00913375439679\n",
       "\n"
      ],
      "text/plain": [
       "          (Intercept) poly(x, 10, raw = T)1 poly(x, 10, raw = T)2 \n",
       "            4.0762524             0.2914016            -0.1617671 \n",
       "poly(x, 10, raw = T)3 poly(x, 10, raw = T)7 \n",
       "           -0.2526527             8.0091338 "
      ]
     },
     "metadata": {},
     "output_type": "display_data"
    }
   ],
   "source": [
    "coef(best.subset.fit,4)"
   ]
  },
  {
   "cell_type": "code",
   "execution_count": 252,
   "metadata": {
    "collapsed": true
   },
   "outputs": [],
   "source": [
    "#using lasso\n",
    "b0=4\n",
    "b7=8\n",
    "Y = b0 + b7*X^7 + error\n",
    "sim_data = data.frame(y=Y,x=X)\n",
    "X = model.matrix(Y~poly(x,10,raw=T),data=sim_data)[,-1]\n",
    "Y = sim_data[,1]\n",
    "#creating training data\n",
    "set.seed(1)\n",
    "train = sample(1:100,50)"
   ]
  },
  {
   "cell_type": "code",
   "execution_count": 253,
   "metadata": {
    "collapsed": false
   },
   "outputs": [
    {
     "data": {
      "text/html": [
       "18.5313758208065"
      ],
      "text/latex": [
       "18.5313758208065"
      ],
      "text/markdown": [
       "18.5313758208065"
      ],
      "text/plain": [
       "[1] 18.53138"
      ]
     },
     "metadata": {},
     "output_type": "display_data"
    }
   ],
   "source": [
    "cv.output = cv.glmnet(X[train,],Y[train],alpha=1)\n",
    "best.lambda=cv.output$lambda.min\n",
    "best.lambda"
   ]
  },
  {
   "cell_type": "code",
   "execution_count": 254,
   "metadata": {
    "collapsed": false
   },
   "outputs": [
    {
     "data": {
      "text/html": [
       "<dl class=dl-horizontal>\n",
       "\t<dt>(Intercept)</dt>\n",
       "\t\t<dd>5.24932820548313</dd>\n",
       "\t<dt>poly(x, 10, raw = T)1</dt>\n",
       "\t\t<dd>0</dd>\n",
       "\t<dt>poly(x, 10, raw = T)2</dt>\n",
       "\t\t<dd>0</dd>\n",
       "\t<dt>poly(x, 10, raw = T)3</dt>\n",
       "\t\t<dd>0</dd>\n",
       "\t<dt>poly(x, 10, raw = T)4</dt>\n",
       "\t\t<dd>0</dd>\n",
       "\t<dt>poly(x, 10, raw = T)5</dt>\n",
       "\t\t<dd>0</dd>\n",
       "\t<dt>poly(x, 10, raw = T)6</dt>\n",
       "\t\t<dd>0</dd>\n",
       "\t<dt>poly(x, 10, raw = T)7</dt>\n",
       "\t\t<dd>7.69501722253953</dd>\n",
       "\t<dt>poly(x, 10, raw = T)8</dt>\n",
       "\t\t<dd>0</dd>\n",
       "\t<dt>poly(x, 10, raw = T)9</dt>\n",
       "\t\t<dd>0</dd>\n",
       "\t<dt>poly(x, 10, raw = T)10</dt>\n",
       "\t\t<dd>0</dd>\n",
       "</dl>\n"
      ],
      "text/latex": [
       "\\begin{description*}\n",
       "\\item[(Intercept)] 5.24932820548313\n",
       "\\item[poly(x, 10, raw = T)1] 0\n",
       "\\item[poly(x, 10, raw = T)2] 0\n",
       "\\item[poly(x, 10, raw = T)3] 0\n",
       "\\item[poly(x, 10, raw = T)4] 0\n",
       "\\item[poly(x, 10, raw = T)5] 0\n",
       "\\item[poly(x, 10, raw = T)6] 0\n",
       "\\item[poly(x, 10, raw = T)7] 7.69501722253953\n",
       "\\item[poly(x, 10, raw = T)8] 0\n",
       "\\item[poly(x, 10, raw = T)9] 0\n",
       "\\item[poly(x, 10, raw = T)10] 0\n",
       "\\end{description*}\n"
      ],
      "text/markdown": [
       "(Intercept)\n",
       ":   5.24932820548313poly(x, 10, raw = T)1\n",
       ":   0poly(x, 10, raw = T)2\n",
       ":   0poly(x, 10, raw = T)3\n",
       ":   0poly(x, 10, raw = T)4\n",
       ":   0poly(x, 10, raw = T)5\n",
       ":   0poly(x, 10, raw = T)6\n",
       ":   0poly(x, 10, raw = T)7\n",
       ":   7.69501722253953poly(x, 10, raw = T)8\n",
       ":   0poly(x, 10, raw = T)9\n",
       ":   0poly(x, 10, raw = T)10\n",
       ":   0\n",
       "\n"
      ],
      "text/plain": [
       "           (Intercept)  poly(x, 10, raw = T)1  poly(x, 10, raw = T)2 \n",
       "              5.249328               0.000000               0.000000 \n",
       " poly(x, 10, raw = T)3  poly(x, 10, raw = T)4  poly(x, 10, raw = T)5 \n",
       "              0.000000               0.000000               0.000000 \n",
       " poly(x, 10, raw = T)6  poly(x, 10, raw = T)7  poly(x, 10, raw = T)8 \n",
       "              0.000000               7.695017               0.000000 \n",
       " poly(x, 10, raw = T)9 poly(x, 10, raw = T)10 \n",
       "              0.000000               0.000000 "
      ]
     },
     "metadata": {},
     "output_type": "display_data"
    }
   ],
   "source": [
    "lasso.fit = glmnet(X,Y,alpha=1)\n",
    "coef.pred = predict(lasso.fit,type=\"coefficients\",s=best.lambda)[1:11,]\n",
    "coef.pred"
   ]
  },
  {
   "cell_type": "markdown",
   "metadata": {},
   "source": [
    "However the lasso produces the following one model with only one variable x^7 which is similar to the original model."
   ]
  },
  {
   "cell_type": "code",
   "execution_count": 255,
   "metadata": {
    "collapsed": false
   },
   "outputs": [
    {
     "data": {
      "text/html": [
       "<dl class=dl-horizontal>\n",
       "\t<dt>(Intercept)</dt>\n",
       "\t\t<dd>5.24932820548313</dd>\n",
       "\t<dt>poly(x, 10, raw = T)7</dt>\n",
       "\t\t<dd>7.69501722253953</dd>\n",
       "</dl>\n"
      ],
      "text/latex": [
       "\\begin{description*}\n",
       "\\item[(Intercept)] 5.24932820548313\n",
       "\\item[poly(x, 10, raw = T)7] 7.69501722253953\n",
       "\\end{description*}\n"
      ],
      "text/markdown": [
       "(Intercept)\n",
       ":   5.24932820548313poly(x, 10, raw = T)7\n",
       ":   7.69501722253953\n",
       "\n"
      ],
      "text/plain": [
       "          (Intercept) poly(x, 10, raw = T)7 \n",
       "             5.249328              7.695017 "
      ]
     },
     "metadata": {},
     "output_type": "display_data"
    }
   ],
   "source": [
    "coef.pred[coef.pred!=0]"
   ]
  }
 ],
 "metadata": {
  "kernelspec": {
   "display_name": "R",
   "language": "R",
   "name": "ir"
  },
  "language_info": {
   "codemirror_mode": "r",
   "file_extension": ".r",
   "mimetype": "text/x-r-source",
   "name": "R",
   "pygments_lexer": "r",
   "version": "3.2.2"
  }
 },
 "nbformat": 4,
 "nbformat_minor": 0
}
