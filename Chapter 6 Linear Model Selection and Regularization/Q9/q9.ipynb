{
 "cells": [
  {
   "cell_type": "markdown",
   "metadata": {},
   "source": [
    "Chapter 6 - Linear Model Selection Regularization - Question 9"
   ]
  },
  {
   "cell_type": "code",
   "execution_count": 61,
   "metadata": {
    "collapsed": false
   },
   "outputs": [
    {
     "data": {
      "text/plain": [
       " Private        Apps           Accept          Enroll       Top10perc    \n",
       " No :212   Min.   :   81   Min.   :   72   Min.   :  35   Min.   : 1.00  \n",
       " Yes:565   1st Qu.:  776   1st Qu.:  604   1st Qu.: 242   1st Qu.:15.00  \n",
       "           Median : 1558   Median : 1110   Median : 434   Median :23.00  \n",
       "           Mean   : 3002   Mean   : 2019   Mean   : 780   Mean   :27.56  \n",
       "           3rd Qu.: 3624   3rd Qu.: 2424   3rd Qu.: 902   3rd Qu.:35.00  \n",
       "           Max.   :48094   Max.   :26330   Max.   :6392   Max.   :96.00  \n",
       "   Top25perc      F.Undergrad     P.Undergrad         Outstate    \n",
       " Min.   :  9.0   Min.   :  139   Min.   :    1.0   Min.   : 2340  \n",
       " 1st Qu.: 41.0   1st Qu.:  992   1st Qu.:   95.0   1st Qu.: 7320  \n",
       " Median : 54.0   Median : 1707   Median :  353.0   Median : 9990  \n",
       " Mean   : 55.8   Mean   : 3700   Mean   :  855.3   Mean   :10441  \n",
       " 3rd Qu.: 69.0   3rd Qu.: 4005   3rd Qu.:  967.0   3rd Qu.:12925  \n",
       " Max.   :100.0   Max.   :31643   Max.   :21836.0   Max.   :21700  \n",
       "   Room.Board       Books           Personal         PhD        \n",
       " Min.   :1780   Min.   :  96.0   Min.   : 250   Min.   :  8.00  \n",
       " 1st Qu.:3597   1st Qu.: 470.0   1st Qu.: 850   1st Qu.: 62.00  \n",
       " Median :4200   Median : 500.0   Median :1200   Median : 75.00  \n",
       " Mean   :4358   Mean   : 549.4   Mean   :1341   Mean   : 72.66  \n",
       " 3rd Qu.:5050   3rd Qu.: 600.0   3rd Qu.:1700   3rd Qu.: 85.00  \n",
       " Max.   :8124   Max.   :2340.0   Max.   :6800   Max.   :103.00  \n",
       "    Terminal       S.F.Ratio      perc.alumni        Expend     \n",
       " Min.   : 24.0   Min.   : 2.50   Min.   : 0.00   Min.   : 3186  \n",
       " 1st Qu.: 71.0   1st Qu.:11.50   1st Qu.:13.00   1st Qu.: 6751  \n",
       " Median : 82.0   Median :13.60   Median :21.00   Median : 8377  \n",
       " Mean   : 79.7   Mean   :14.09   Mean   :22.74   Mean   : 9660  \n",
       " 3rd Qu.: 92.0   3rd Qu.:16.50   3rd Qu.:31.00   3rd Qu.:10830  \n",
       " Max.   :100.0   Max.   :39.80   Max.   :64.00   Max.   :56233  \n",
       "   Grad.Rate     \n",
       " Min.   : 10.00  \n",
       " 1st Qu.: 53.00  \n",
       " Median : 65.00  \n",
       " Mean   : 65.46  \n",
       " 3rd Qu.: 78.00  \n",
       " Max.   :118.00  "
      ]
     },
     "metadata": {},
     "output_type": "display_data"
    }
   ],
   "source": [
    "library(ISLR)\n",
    "College = na.omit(College)\n",
    "summary(College)"
   ]
  },
  {
   "cell_type": "markdown",
   "metadata": {},
   "source": [
    "## (a)"
   ]
  },
  {
   "cell_type": "code",
   "execution_count": 62,
   "metadata": {
    "collapsed": false
   },
   "outputs": [],
   "source": [
    "#Creating a training data\n",
    "set.seed(1)\n",
    "size = nrow(College)\n",
    "train = sample(1:size,size%/%2)"
   ]
  },
  {
   "cell_type": "markdown",
   "metadata": {},
   "source": [
    "## (b)"
   ]
  },
  {
   "cell_type": "code",
   "execution_count": 63,
   "metadata": {
    "collapsed": false
   },
   "outputs": [
    {
     "data": {
      "text/plain": [
       "\n",
       "Call:\n",
       "lm(formula = Apps ~ ., data = College, subset = train)\n",
       "\n",
       "Residuals:\n",
       "    Min      1Q  Median      3Q     Max \n",
       "-5276.1  -473.2   -63.9   351.9  6574.0 \n",
       "\n",
       "Coefficients:\n",
       "              Estimate Std. Error t value Pr(>|t|)    \n",
       "(Intercept)   78.15204  600.84427   0.130 0.896581    \n",
       "PrivateYes  -757.22843  205.47577  -3.685 0.000263 ***\n",
       "Accept         1.67981    0.05196  32.329  < 2e-16 ***\n",
       "Enroll        -0.62380    0.27629  -2.258 0.024544 *  \n",
       "Top10perc     67.45654    8.45231   7.981 1.84e-14 ***\n",
       "Top25perc    -22.37500    6.57093  -3.405 0.000734 ***\n",
       "F.Undergrad   -0.06126    0.05468  -1.120 0.263258    \n",
       "P.Undergrad    0.04745    0.06248   0.760 0.448024    \n",
       "Outstate      -0.09227    0.02889  -3.194 0.001524 ** \n",
       "Room.Board     0.24513    0.07300   3.358 0.000867 ***\n",
       "Books          0.09086    0.36826   0.247 0.805254    \n",
       "Personal       0.05886    0.09260   0.636 0.525455    \n",
       "PhD           -8.89027    7.20890  -1.233 0.218271    \n",
       "Terminal      -1.71947    8.22589  -0.209 0.834539    \n",
       "S.F.Ratio     -5.75201   21.32871  -0.270 0.787554    \n",
       "perc.alumni   -1.46681    6.28702  -0.233 0.815652    \n",
       "Expend         0.03487    0.01928   1.808 0.071361 .  \n",
       "Grad.Rate      7.57567    4.69602   1.613 0.107551    \n",
       "---\n",
       "Signif. codes:  0 ‘***’ 0.001 ‘**’ 0.01 ‘*’ 0.05 ‘.’ 0.1 ‘ ’ 1\n",
       "\n",
       "Residual standard error: 1087 on 370 degrees of freedom\n",
       "Multiple R-squared:  0.9397,\tAdjusted R-squared:  0.9369 \n",
       "F-statistic: 339.3 on 17 and 370 DF,  p-value: < 2.2e-16\n"
      ]
     },
     "metadata": {},
     "output_type": "display_data"
    }
   ],
   "source": [
    "lm.model = lm(Apps~.,data=College,subset=train)\n",
    "summary(lm.model)"
   ]
  },
  {
   "cell_type": "code",
   "execution_count": 64,
   "metadata": {
    "collapsed": false
   },
   "outputs": [
    {
     "data": {
      "text/html": [
       "1108531.26304645"
      ],
      "text/latex": [
       "1108531.26304645"
      ],
      "text/markdown": [
       "1108531.26304645"
      ],
      "text/plain": [
       "[1] 1108531"
      ]
     },
     "metadata": {},
     "output_type": "display_data"
    }
   ],
   "source": [
    "lm.pred = predict(lm.model,newdata=College[-train,])\n",
    "#mean squared error of least squares error linear regression\n",
    "mean((College[-train,]$Apps-lm.pred)^2)"
   ]
  },
  {
   "cell_type": "markdown",
   "metadata": {},
   "source": [
    "## (c)"
   ]
  },
  {
   "cell_type": "code",
   "execution_count": 65,
   "metadata": {
    "collapsed": false
   },
   "outputs": [
    {
     "data": {
      "text/html": [
       "450.743459272142"
      ],
      "text/latex": [
       "450.743459272142"
      ],
      "text/markdown": [
       "450.743459272142"
      ],
      "text/plain": [
       "[1] 450.7435"
      ]
     },
     "metadata": {},
     "output_type": "display_data"
    }
   ],
   "source": [
    "#Ridge regression\n",
    "set.seed(1)\n",
    "library(glmnet)\n",
    "X = model.matrix(Apps~.,data=College)[,-1]\n",
    "Y = College$Apps\n",
    "ridge.model = cv.glmnet(X[train,],Y[train],alpha=0)\n",
    "best.lambda=ridge.model$lambda.min\n",
    "best.lambda"
   ]
  },
  {
   "cell_type": "code",
   "execution_count": 66,
   "metadata": {
    "collapsed": false
   },
   "outputs": [
    {
     "data": {
      "text/plain": [
       "18 x 1 sparse Matrix of class \"dgCMatrix\"\n",
       "                        1\n",
       "(Intercept) -1.288649e+03\n",
       "PrivateYes  -5.770077e+02\n",
       "Accept       1.050525e+00\n",
       "Enroll       4.327097e-01\n",
       "Top10perc    3.471222e+01\n",
       "Top25perc   -9.749468e-01\n",
       "F.Undergrad  4.782044e-02\n",
       "P.Undergrad  3.608026e-02\n",
       "Outstate    -2.990017e-02\n",
       "Room.Board   2.673197e-01\n",
       "Books        2.359472e-01\n",
       "Personal    -2.876617e-02\n",
       "PhD         -2.473307e+00\n",
       "Terminal    -6.512451e+00\n",
       "S.F.Ratio    3.644556e-01\n",
       "perc.alumni -9.203010e+00\n",
       "Expend       5.267222e-02\n",
       "Grad.Rate    9.729010e+00"
      ]
     },
     "metadata": {},
     "output_type": "display_data"
    }
   ],
   "source": [
    "coef.pred = predict(ridge.model,type=\"coefficients\",s=best.lambda)\n",
    "coef.pred"
   ]
  },
  {
   "cell_type": "code",
   "execution_count": 67,
   "metadata": {
    "collapsed": false
   },
   "outputs": [
    {
     "data": {
      "text/html": [
       "1037615.68816467"
      ],
      "text/latex": [
       "1037615.68816467"
      ],
      "text/markdown": [
       "1037615.68816467"
      ],
      "text/plain": [
       "[1] 1037616"
      ]
     },
     "metadata": {},
     "output_type": "display_data"
    }
   ],
   "source": [
    "ridge.pred = predict(ridge.model,newx=X[-train,],s=best.lambda)\n",
    "#mean squared error of ridge regression\n",
    "mean((ridge.pred-College[-train,]$Apps)^2)"
   ]
  },
  {
   "cell_type": "markdown",
   "metadata": {},
   "source": [
    "## (d)"
   ]
  },
  {
   "cell_type": "code",
   "execution_count": 68,
   "metadata": {
    "collapsed": false
   },
   "outputs": [
    {
     "data": {
      "text/html": [
       "24.6208572860245"
      ],
      "text/latex": [
       "24.6208572860245"
      ],
      "text/markdown": [
       "24.6208572860245"
      ],
      "text/plain": [
       "[1] 24.62086"
      ]
     },
     "metadata": {},
     "output_type": "display_data"
    }
   ],
   "source": [
    "#Lasso\n",
    "set.seed(1)\n",
    "lasso.model = cv.glmnet(X[train,],Y[train],alpha=1)\n",
    "best.lambda=lasso.model$lambda.min\n",
    "best.lambda"
   ]
  },
  {
   "cell_type": "code",
   "execution_count": 69,
   "metadata": {
    "collapsed": false
   },
   "outputs": [
    {
     "data": {
      "text/plain": [
       "18 x 1 sparse Matrix of class \"dgCMatrix\"\n",
       "                        1\n",
       "(Intercept) -3.647413e+02\n",
       "PrivateYes  -5.247929e+02\n",
       "Accept       1.559691e+00\n",
       "Enroll      -4.540038e-01\n",
       "Top10perc    5.009775e+01\n",
       "Top25perc   -9.658886e+00\n",
       "F.Undergrad -9.458964e-03\n",
       "P.Undergrad  .           \n",
       "Outstate    -5.722510e-02\n",
       "Room.Board   1.949300e-01\n",
       "Books        1.904476e-02\n",
       "Personal     2.900426e-03\n",
       "PhD         -4.617210e+00\n",
       "Terminal    -3.139324e+00\n",
       "S.F.Ratio    .           \n",
       "perc.alumni -2.165766e+00\n",
       "Expend       3.286831e-02\n",
       "Grad.Rate    3.390476e+00"
      ]
     },
     "metadata": {},
     "output_type": "display_data"
    }
   ],
   "source": [
    "coef.pred = predict(lasso.model,type=\"coefficients\",s=best.lambda)\n",
    "coef.pred"
   ]
  },
  {
   "cell_type": "code",
   "execution_count": 70,
   "metadata": {
    "collapsed": false
   },
   "outputs": [
    {
     "name": "stderr",
     "output_type": "stream",
     "text": [
      "<sparse>[ <logic> ] : .M.sub.i.logical() maybe inefficient\n"
     ]
    },
    {
     "data": {
      "text/html": [
       "16"
      ],
      "text/latex": [
       "16"
      ],
      "text/markdown": [
       "16"
      ],
      "text/plain": [
       "[1] 16"
      ]
     },
     "metadata": {},
     "output_type": "display_data"
    }
   ],
   "source": [
    "#number of non-zero coefficient estimates\n",
    "length(coef.pred[coef.pred!=0])"
   ]
  },
  {
   "cell_type": "code",
   "execution_count": 71,
   "metadata": {
    "collapsed": false
   },
   "outputs": [
    {
     "data": {
      "text/html": [
       "1030940.90709441"
      ],
      "text/latex": [
       "1030940.90709441"
      ],
      "text/markdown": [
       "1030940.90709441"
      ],
      "text/plain": [
       "[1] 1030941"
      ]
     },
     "metadata": {},
     "output_type": "display_data"
    }
   ],
   "source": [
    "#mean squared test error\n",
    "lasso.pred = predict(lasso.model,newx=X[-train,],s=best.lambda)\n",
    "mean((lasso.pred-Y[-train])^2)"
   ]
  },
  {
   "cell_type": "markdown",
   "metadata": {},
   "source": [
    "## (e)"
   ]
  },
  {
   "cell_type": "code",
   "execution_count": 72,
   "metadata": {
    "collapsed": false
   },
   "outputs": [
    {
     "data": {
      "image/png": "[encoded data removed]",
      "text/plain": [
       "Plot with title “Apps”"
      ]
     },
     "metadata": {},
     "output_type": "display_data"
    }
   ],
   "source": [
    "#Principal Component Analysis\n",
    "library(pls)\n",
    "pcr.model=pcr(Apps~.,data=College[train,],scale=TRUE,validation=\"CV\")\n",
    "validationplot(pcr.model,val.type=\"MSEP\")"
   ]
  },
  {
   "cell_type": "code",
   "execution_count": 73,
   "metadata": {
    "collapsed": false
   },
   "outputs": [
    {
     "name": "stdout",
     "output_type": "stream",
     "text": [
      "Data: \tX dimension: 388 17 \n",
      "\tY dimension: 388 1\n",
      "Fit method: svdpc\n",
      "Number of components considered: 17\n",
      "\n",
      "VALIDATION: RMSEP\n",
      "Cross-validated using 10 random segments.\n",
      "       (Intercept)  1 comps  2 comps  3 comps  4 comps  5 comps  6 comps\n",
      "CV            4335     4194     2363     2378     2106     1858     1858\n",
      "adjCV         4335     4194     2359     2379     1892     1845     1850\n",
      "       7 comps  8 comps  9 comps  10 comps  11 comps  12 comps  13 comps\n",
      "CV        1859     1867     1824      1822      1824      1829      1837\n",
      "adjCV     1852     1860     1815      1814      1815      1821      1828\n",
      "       14 comps  15 comps  16 comps  17 comps\n",
      "CV         1830      1819      1267      1285\n",
      "adjCV      1823      1790      1255      1272\n",
      "\n",
      "TRAINING: % variance explained\n",
      "      1 comps  2 comps  3 comps  4 comps  5 comps  6 comps  7 comps  8 comps\n",
      "X      31.216    57.68    64.73    70.55    76.33    81.30    85.01    88.40\n",
      "Apps    6.976    71.47    71.58    83.32    83.44    83.45    83.46    83.47\n",
      "      9 comps  10 comps  11 comps  12 comps  13 comps  14 comps  15 comps\n",
      "X       91.16     93.36     95.38     96.94     97.96     98.76     99.40\n",
      "Apps    84.53     84.86     84.98     84.98     84.99     85.24     90.87\n",
      "      16 comps  17 comps\n",
      "X        99.87    100.00\n",
      "Apps     93.93     93.97\n"
     ]
    }
   ],
   "source": [
    "summary(pcr.model)"
   ]
  },
  {
   "cell_type": "markdown",
   "metadata": {},
   "source": [
    "As we see the lowest cross-validation error occurs when ncomp=16"
   ]
  },
  {
   "cell_type": "code",
   "execution_count": 74,
   "metadata": {
    "collapsed": false
   },
   "outputs": [
    {
     "data": {
      "text/html": [
       "1166897.06906373"
      ],
      "text/latex": [
       "1166897.06906373"
      ],
      "text/markdown": [
       "1166897.06906373"
      ],
      "text/plain": [
       "[1] 1166897"
      ]
     },
     "metadata": {},
     "output_type": "display_data"
    }
   ],
   "source": [
    "#mean squared error pcr\n",
    "pcr.pred = predict(pcr.model,newdata=College[-train,],ncomp=16)\n",
    "mean((pcr.pred-College[-train,]$Apps)^2)"
   ]
  },
  {
   "cell_type": "markdown",
   "metadata": {},
   "source": [
    "## (f)"
   ]
  },
  {
   "cell_type": "code",
   "execution_count": 75,
   "metadata": {
    "collapsed": false
   },
   "outputs": [
    {
     "data": {
      "image/png": "[encoded data removed]",
      "text/plain": [
       "Plot with title “Apps”"
      ]
     },
     "metadata": {},
     "output_type": "display_data"
    }
   ],
   "source": [
    "#Partial Least Square\n",
    "pls.model = plsr(Apps~.,data=College[train,],scale=TRUE,validation=\"CV\")\n",
    "validationplot(pls.model,val.type=\"MSEP\")"
   ]
  },
  {
   "cell_type": "code",
   "execution_count": 76,
   "metadata": {
    "collapsed": false
   },
   "outputs": [
    {
     "name": "stdout",
     "output_type": "stream",
     "text": [
      "Data: \tX dimension: 388 17 \n",
      "\tY dimension: 388 1\n",
      "Fit method: kernelpls\n",
      "Number of components considered: 17\n",
      "\n",
      "VALIDATION: RMSEP\n",
      "Cross-validated using 10 random segments.\n",
      "       (Intercept)  1 comps  2 comps  3 comps  4 comps  5 comps  6 comps\n",
      "CV            4335     2196     1894     1752     1672     1496     1416\n",
      "adjCV         4335     2188     1891     1743     1636     1461     1393\n",
      "       7 comps  8 comps  9 comps  10 comps  11 comps  12 comps  13 comps\n",
      "CV        1395     1398     1386      1384      1384      1385      1384\n",
      "adjCV     1374     1377     1366      1365      1365      1366      1365\n",
      "       14 comps  15 comps  16 comps  17 comps\n",
      "CV         1385      1385      1385      1385\n",
      "adjCV      1365      1366      1366      1366\n",
      "\n",
      "TRAINING: % variance explained\n",
      "      1 comps  2 comps  3 comps  4 comps  5 comps  6 comps  7 comps  8 comps\n",
      "X       26.91    43.08    63.26    65.16    68.50    73.75    76.10    79.03\n",
      "Apps    76.64    83.93    87.14    91.90    93.49    93.85    93.91    93.94\n",
      "      9 comps  10 comps  11 comps  12 comps  13 comps  14 comps  15 comps\n",
      "X       81.76     85.41     89.03     91.38     93.31     95.43     97.41\n",
      "Apps    93.96     93.96     93.96     93.97     93.97     93.97     93.97\n",
      "      16 comps  17 comps\n",
      "X        98.78    100.00\n",
      "Apps     93.97     93.97\n"
     ]
    }
   ],
   "source": [
    "summary(pls.model)"
   ]
  },
  {
   "cell_type": "markdown",
   "metadata": {},
   "source": [
    "As we can see the lowest cross-validation error occurs when ncomp=11"
   ]
  },
  {
   "cell_type": "code",
   "execution_count": 77,
   "metadata": {
    "collapsed": false
   },
   "outputs": [
    {
     "data": {
      "text/html": [
       "1128933.77659934"
      ],
      "text/latex": [
       "1128933.77659934"
      ],
      "text/markdown": [
       "1128933.77659934"
      ],
      "text/plain": [
       "[1] 1128934"
      ]
     },
     "metadata": {},
     "output_type": "display_data"
    }
   ],
   "source": [
    "#mean squared error on test data for pls\n",
    "pls.pred = predict(pls.model,newdata=College[-train,],ncomp=11)\n",
    "mean((pls.pred-College[-train,]$Apps)^2)"
   ]
  },
  {
   "cell_type": "code",
   "execution_count": 78,
   "metadata": {
    "collapsed": false
   },
   "outputs": [
    {
     "data": {
      "image/png": "[encoded data removed]",
      "text/plain": [
       "plot without title"
      ]
     },
     "metadata": {},
     "output_type": "display_data"
    }
   ],
   "source": [
    "#R-squared\n",
    "y = College[-train,]$Apps\n",
    "#ols\n",
    "lm.rsq = 1-sum((College[-train,]$Apps-lm.pred)^2)/sum((y-mean(y))^2)\n",
    "#Ridge\n",
    "ridge.rsq = 1-sum((College[-train,]$Apps-ridge.pred)^2)/sum((y-mean(y))^2)\n",
    "#Lasso\n",
    "lasso.rsq = 1-sum((College[-train,]$Apps-lasso.pred)^2)/sum((y-mean(y))^2)\n",
    "#pcr\n",
    "pcr.rsq = 1-sum((College[-train,]$Apps-pcr.pred)^2)/sum((y-mean(y))^2)\n",
    "#pls\n",
    "pls.rsq = 1-sum((College[-train,]$Apps-pls.pred)^2)/sum((y-mean(y))^2)\n",
    "#barplot of R-square of all models on test data.\n",
    "barplot(c(lm.rsq,ridge.rsq,lasso.rsq,pcr.rsq,pls.rsq),col=\"blue\",names.arg=c(\"OLS\",\"Ridge\",\"Lasso\",\"PCR\",\"PLS\"))"
   ]
  },
  {
   "cell_type": "code",
   "execution_count": 80,
   "metadata": {
    "collapsed": false
   },
   "outputs": [
    {
     "data": {
      "text/html": [
       "0.901068223618923"
      ],
      "text/latex": [
       "0.901068223618923"
      ],
      "text/markdown": [
       "0.901068223618923"
      ],
      "text/plain": [
       "[1] 0.9010682"
      ]
     },
     "metadata": {},
     "output_type": "display_data"
    },
    {
     "data": {
      "text/html": [
       "0.907397141918312"
      ],
      "text/latex": [
       "0.907397141918312"
      ],
      "text/markdown": [
       "0.907397141918312"
      ],
      "text/plain": [
       "[1] 0.9073971"
      ]
     },
     "metadata": {},
     "output_type": "display_data"
    },
    {
     "data": {
      "text/html": [
       "0.907992838197027"
      ],
      "text/latex": [
       "0.907992838197027"
      ],
      "text/markdown": [
       "0.907992838197027"
      ],
      "text/plain": [
       "[1] 0.9079928"
      ]
     },
     "metadata": {},
     "output_type": "display_data"
    },
    {
     "data": {
      "text/html": [
       "0.895859319673955"
      ],
      "text/latex": [
       "0.895859319673955"
      ],
      "text/markdown": [
       "0.895859319673955"
      ],
      "text/plain": [
       "[1] 0.8958593"
      ]
     },
     "metadata": {},
     "output_type": "display_data"
    },
    {
     "data": {
      "text/html": [
       "0.899247384662267"
      ],
      "text/latex": [
       "0.899247384662267"
      ],
      "text/markdown": [
       "0.899247384662267"
      ],
      "text/plain": [
       "[1] 0.8992474"
      ]
     },
     "metadata": {},
     "output_type": "display_data"
    }
   ],
   "source": [
    "#R-square values\n",
    "lm.rsq\n",
    "ridge.rsq\n",
    "lasso.rsq\n",
    "pcr.rsq\n",
    "pls.rsq"
   ]
  },
  {
   "cell_type": "markdown",
   "metadata": {},
   "source": [
    "The R-square values of all models on test data are not very different from each other. PCR and PLS have slightly lower R-square.\n",
    "The models explain about 89 to 90 percent of the variance in the data."
   ]
  },
  {
   "cell_type": "code",
   "execution_count": null,
   "metadata": {
    "collapsed": true
   },
   "outputs": [],
   "source": []
  }
 ],
 "metadata": {
  "kernelspec": {
   "display_name": "R",
   "language": "R",
   "name": "ir"
  },
  "language_info": {
   "codemirror_mode": "r",
   "file_extension": ".r",
   "mimetype": "text/x-r-source",
   "name": "R",
   "pygments_lexer": "r",
   "version": "3.2.2"
  }
 },
 "nbformat": 4,
 "nbformat_minor": 0
}
