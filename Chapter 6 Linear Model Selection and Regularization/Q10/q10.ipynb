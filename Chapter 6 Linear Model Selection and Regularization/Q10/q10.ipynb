{
 "cells": [
  {
   "cell_type": "markdown",
   "metadata": {},
   "source": [
    "Chapter 6 - Linear Model Selection Regularization - Question 9"
   ]
  },
  {
   "cell_type": "markdown",
   "metadata": {},
   "source": [
    "## (a)"
   ]
  },
  {
   "cell_type": "code",
   "execution_count": 189,
   "metadata": {
    "collapsed": false
   },
   "outputs": [],
   "source": [
    "set.seed(1)\n",
    "#creating coefficient vector\n",
    "#beta=sample(1:20,20,replace=TRUE)\n",
    "beta=rnorm(20)\n",
    "beta[sample(1:20,5)]=0\n",
    "#creating X variables matrix\n",
    "n=1000\n",
    "p=20\n",
    "X = matrix(rnorm(n*p),n,p)\n",
    "#error\n",
    "err = rnorm(n)\n",
    "#model\n",
    "Y = X%*%beta + err\n",
    "#dataset\n",
    "dataset=data.frame(Y,X)"
   ]
  },
  {
   "cell_type": "markdown",
   "metadata": {
    "collapsed": true
   },
   "source": [
    "## (b)"
   ]
  },
  {
   "cell_type": "code",
   "execution_count": 190,
   "metadata": {
    "collapsed": true
   },
   "outputs": [],
   "source": [
    "set.seed(1)\n",
    "train = sample(nrow(dataset),100,replace=FALSE)"
   ]
  },
  {
   "cell_type": "markdown",
   "metadata": {},
   "source": [
    "## (c)"
   ]
  },
  {
   "cell_type": "code",
   "execution_count": 191,
   "metadata": {
    "collapsed": false
   },
   "outputs": [],
   "source": [
    "library(leaps)\n",
    "set.seed(1)\n",
    "bestsubset.model = regsubsets(Y~.,data=dataset,nvmax=20,subset=train)\n",
    "bestsubset.summary = summary(bestsubset.model)"
   ]
  },
  {
   "cell_type": "code",
   "execution_count": 192,
   "metadata": {
    "collapsed": false
   },
   "outputs": [
    {
     "data": {
      "text/plain": [
       "Subset selection object\n",
       "Call: regsubsets.formula(Y ~ ., data = dataset, nvmax = 20, subset = train)\n",
       "20 Variables  (and intercept)\n",
       "    Forced in Forced out\n",
       "X1      FALSE      FALSE\n",
       "X2      FALSE      FALSE\n",
       "X3      FALSE      FALSE\n",
       "X4      FALSE      FALSE\n",
       "X5      FALSE      FALSE\n",
       "X6      FALSE      FALSE\n",
       "X7      FALSE      FALSE\n",
       "X8      FALSE      FALSE\n",
       "X9      FALSE      FALSE\n",
       "X10     FALSE      FALSE\n",
       "X11     FALSE      FALSE\n",
       "X12     FALSE      FALSE\n",
       "X13     FALSE      FALSE\n",
       "X14     FALSE      FALSE\n",
       "X15     FALSE      FALSE\n",
       "X16     FALSE      FALSE\n",
       "X17     FALSE      FALSE\n",
       "X18     FALSE      FALSE\n",
       "X19     FALSE      FALSE\n",
       "X20     FALSE      FALSE\n",
       "1 subsets of each size up to 20\n",
       "Selection Algorithm: exhaustive\n",
       "          X1  X2  X3  X4  X5  X6  X7  X8  X9  X10 X11 X12 X13 X14 X15 X16 X17\n",
       "1  ( 1 )  \" \" \" \" \" \" \" \" \" \" \" \" \" \" \" \" \" \" \" \" \" \" \" \" \" \" \"*\" \" \" \" \" \" \"\n",
       "2  ( 1 )  \" \" \" \" \" \" \"*\" \" \" \" \" \" \" \" \" \" \" \" \" \" \" \" \" \" \" \"*\" \" \" \" \" \" \"\n",
       "3  ( 1 )  \" \" \" \" \" \" \"*\" \" \" \" \" \" \" \" \" \" \" \" \" \"*\" \" \" \" \" \"*\" \" \" \" \" \" \"\n",
       "4  ( 1 )  \" \" \" \" \" \" \"*\" \" \" \" \" \" \" \" \" \" \" \" \" \"*\" \" \" \" \" \"*\" \" \" \" \" \" \"\n",
       "5  ( 1 )  \" \" \" \" \" \" \"*\" \" \" \"*\" \" \" \" \" \" \" \" \" \"*\" \" \" \" \" \"*\" \" \" \" \" \" \"\n",
       "6  ( 1 )  \"*\" \" \" \" \" \"*\" \" \" \"*\" \" \" \" \" \" \" \" \" \"*\" \" \" \" \" \"*\" \" \" \" \" \" \"\n",
       "7  ( 1 )  \"*\" \" \" \" \" \"*\" \" \" \"*\" \" \" \" \" \" \" \" \" \"*\" \" \" \" \" \"*\" \" \" \" \" \" \"\n",
       "8  ( 1 )  \"*\" \" \" \"*\" \"*\" \" \" \"*\" \" \" \" \" \" \" \" \" \"*\" \" \" \" \" \"*\" \" \" \" \" \" \"\n",
       "9  ( 1 )  \"*\" \" \" \"*\" \"*\" \" \" \"*\" \" \" \"*\" \" \" \" \" \"*\" \" \" \" \" \"*\" \" \" \" \" \" \"\n",
       "10  ( 1 ) \"*\" \" \" \"*\" \"*\" \" \" \"*\" \" \" \"*\" \" \" \" \" \"*\" \"*\" \" \" \"*\" \" \" \" \" \" \"\n",
       "11  ( 1 ) \"*\" \" \" \"*\" \"*\" \" \" \"*\" \" \" \"*\" \" \" \" \" \"*\" \"*\" \" \" \"*\" \" \" \" \" \" \"\n",
       "12  ( 1 ) \"*\" \" \" \"*\" \"*\" \" \" \"*\" \"*\" \"*\" \" \" \" \" \"*\" \"*\" \" \" \"*\" \" \" \" \" \" \"\n",
       "13  ( 1 ) \"*\" \" \" \"*\" \"*\" \"*\" \"*\" \"*\" \"*\" \" \" \" \" \"*\" \"*\" \" \" \"*\" \" \" \" \" \" \"\n",
       "14  ( 1 ) \"*\" \" \" \"*\" \"*\" \"*\" \"*\" \"*\" \"*\" \" \" \" \" \"*\" \"*\" \" \" \"*\" \" \" \"*\" \" \"\n",
       "15  ( 1 ) \"*\" \" \" \"*\" \"*\" \"*\" \"*\" \"*\" \"*\" \" \" \" \" \"*\" \"*\" \"*\" \"*\" \" \" \"*\" \" \"\n",
       "16  ( 1 ) \"*\" \" \" \"*\" \"*\" \"*\" \"*\" \"*\" \"*\" \" \" \" \" \"*\" \"*\" \"*\" \"*\" \"*\" \"*\" \" \"\n",
       "17  ( 1 ) \"*\" \" \" \"*\" \"*\" \"*\" \"*\" \"*\" \"*\" \"*\" \" \" \"*\" \"*\" \"*\" \"*\" \"*\" \"*\" \" \"\n",
       "18  ( 1 ) \"*\" \" \" \"*\" \"*\" \"*\" \"*\" \"*\" \"*\" \"*\" \"*\" \"*\" \"*\" \"*\" \"*\" \"*\" \"*\" \" \"\n",
       "19  ( 1 ) \"*\" \"*\" \"*\" \"*\" \"*\" \"*\" \"*\" \"*\" \"*\" \"*\" \"*\" \"*\" \"*\" \"*\" \"*\" \"*\" \" \"\n",
       "20  ( 1 ) \"*\" \"*\" \"*\" \"*\" \"*\" \"*\" \"*\" \"*\" \"*\" \"*\" \"*\" \"*\" \"*\" \"*\" \"*\" \"*\" \"*\"\n",
       "          X18 X19 X20\n",
       "1  ( 1 )  \" \" \" \" \" \"\n",
       "2  ( 1 )  \" \" \" \" \" \"\n",
       "3  ( 1 )  \" \" \" \" \" \"\n",
       "4  ( 1 )  \"*\" \" \" \" \"\n",
       "5  ( 1 )  \"*\" \" \" \" \"\n",
       "6  ( 1 )  \"*\" \" \" \" \"\n",
       "7  ( 1 )  \"*\" \"*\" \" \"\n",
       "8  ( 1 )  \"*\" \"*\" \" \"\n",
       "9  ( 1 )  \"*\" \"*\" \" \"\n",
       "10  ( 1 ) \"*\" \"*\" \" \"\n",
       "11  ( 1 ) \"*\" \"*\" \"*\"\n",
       "12  ( 1 ) \"*\" \"*\" \"*\"\n",
       "13  ( 1 ) \"*\" \"*\" \"*\"\n",
       "14  ( 1 ) \"*\" \"*\" \"*\"\n",
       "15  ( 1 ) \"*\" \"*\" \"*\"\n",
       "16  ( 1 ) \"*\" \"*\" \"*\"\n",
       "17  ( 1 ) \"*\" \"*\" \"*\"\n",
       "18  ( 1 ) \"*\" \"*\" \"*\"\n",
       "19  ( 1 ) \"*\" \"*\" \"*\"\n",
       "20  ( 1 ) \"*\" \"*\" \"*\""
      ]
     },
     "metadata": {},
     "output_type": "display_data"
    }
   ],
   "source": [
    "bestsubset.summary"
   ]
  },
  {
   "cell_type": "code",
   "execution_count": 193,
   "metadata": {
    "collapsed": false
   },
   "outputs": [],
   "source": [
    "mse=rep(NA,20)\n",
    "for(i in 1:20){\n",
    "    coef_vec = coef(bestsubset.model,id=i)\n",
    "    pred=as.matrix(dataset[train,names(coef_vec)[-1]])%*%coef_vec[-1]\n",
    "    mse[i]=mean((pred-dataset$Y[train])^2)\n",
    "}"
   ]
  },
  {
   "cell_type": "code",
   "execution_count": 194,
   "metadata": {
    "collapsed": false
   },
   "outputs": [
    {
     "data": {
      "image/png": "[encoded data removed]",
      "text/plain": [
       "Plot with title “Training MSE”"
      ]
     },
     "metadata": {},
     "output_type": "display_data"
    }
   ],
   "source": [
    "plot(mse,ylab=\"mean squared error\",xlab=\"number of variables\",type=\"b\",main=\"Training MSE\")"
   ]
  },
  {
   "cell_type": "markdown",
   "metadata": {},
   "source": [
    "## (d)"
   ]
  },
  {
   "cell_type": "code",
   "execution_count": 195,
   "metadata": {
    "collapsed": true
   },
   "outputs": [],
   "source": [
    "mse=rep(NA,20)\n",
    "for(i in 1:20){\n",
    "    coef_vec = coef(bestsubset.model,id=i)\n",
    "    pred=as.matrix(dataset[-train,names(coef_vec)[-1]])%*%coef_vec[-1]\n",
    "    mse[i]=mean((pred-dataset$Y[-train])^2)\n",
    "}"
   ]
  },
  {
   "cell_type": "code",
   "execution_count": 196,
   "metadata": {
    "collapsed": false
   },
   "outputs": [
    {
     "data": {
      "image/png": "[encoded data removed]",
      "text/plain": [
       "Plot with title “Test MSE”"
      ]
     },
     "metadata": {},
     "output_type": "display_data"
    }
   ],
   "source": [
    "plot(mse,ylab=\"mean squared error\",xlab=\"number of variables\",type=\"b\",main=\"Test MSE\")"
   ]
  },
  {
   "cell_type": "markdown",
   "metadata": {},
   "source": [
    "## (e)"
   ]
  },
  {
   "cell_type": "code",
   "execution_count": 197,
   "metadata": {
    "collapsed": false
   },
   "outputs": [
    {
     "data": {
      "text/html": [
       "13"
      ],
      "text/latex": [
       "13"
      ],
      "text/markdown": [
       "13"
      ],
      "text/plain": [
       "[1] 13"
      ]
     },
     "metadata": {},
     "output_type": "display_data"
    }
   ],
   "source": [
    "#The size of the model giving the least MSE on test data\n",
    "which.min(mse)"
   ]
  },
  {
   "cell_type": "markdown",
   "metadata": {},
   "source": [
    "## (f)"
   ]
  },
  {
   "cell_type": "code",
   "execution_count": 202,
   "metadata": {
    "collapsed": false
   },
   "outputs": [
    {
     "data": {
      "text/html": [
       "<ol class=list-inline>\n",
       "\t<li>9</li>\n",
       "\t<li>10</li>\n",
       "\t<li>13</li>\n",
       "\t<li>15</li>\n",
       "\t<li>17</li>\n",
       "</ol>\n"
      ],
      "text/latex": [
       "\\begin{enumerate*}\n",
       "\\item 9\n",
       "\\item 10\n",
       "\\item 13\n",
       "\\item 15\n",
       "\\item 17\n",
       "\\end{enumerate*}\n"
      ],
      "text/markdown": [
       "1. 9\n",
       "2. 10\n",
       "3. 13\n",
       "4. 15\n",
       "5. 17\n",
       "\n",
       "\n"
      ],
      "text/plain": [
       "[1]  9 10 13 15 17"
      ]
     },
     "metadata": {},
     "output_type": "display_data"
    },
    {
     "data": {
      "text/html": [
       "<dl class=dl-horizontal>\n",
       "\t<dt>(Intercept)</dt>\n",
       "\t\t<dd>-0.200436940618195</dd>\n",
       "\t<dt>X1</dt>\n",
       "\t\t<dd>-0.631896678963695</dd>\n",
       "\t<dt>X3</dt>\n",
       "\t\t<dd>-0.659336936437764</dd>\n",
       "\t<dt>X4</dt>\n",
       "\t\t<dd>1.65020505236265</dd>\n",
       "\t<dt>X5</dt>\n",
       "\t\t<dd>0.17769052951172</dd>\n",
       "\t<dt>X6</dt>\n",
       "\t\t<dd>-0.848233494430316</dd>\n",
       "\t<dt>X7</dt>\n",
       "\t\t<dd>0.351852029213562</dd>\n",
       "\t<dt>X8</dt>\n",
       "\t\t<dd>0.738211375618172</dd>\n",
       "\t<dt>X11</dt>\n",
       "\t\t<dd>1.42329203766404</dd>\n",
       "\t<dt>X12</dt>\n",
       "\t\t<dd>0.46204606551803</dd>\n",
       "\t<dt>X14</dt>\n",
       "\t\t<dd>-2.43818349501597</dd>\n",
       "\t<dt>X18</dt>\n",
       "\t\t<dd>0.826338866677508</dd>\n",
       "\t<dt>X19</dt>\n",
       "\t\t<dd>0.780614348262876</dd>\n",
       "\t<dt>X20</dt>\n",
       "\t\t<dd>0.490329972496041</dd>\n",
       "</dl>\n"
      ],
      "text/latex": [
       "\\begin{description*}\n",
       "\\item[(Intercept)] -0.200436940618195\n",
       "\\item[X1] -0.631896678963695\n",
       "\\item[X3] -0.659336936437764\n",
       "\\item[X4] 1.65020505236265\n",
       "\\item[X5] 0.17769052951172\n",
       "\\item[X6] -0.848233494430316\n",
       "\\item[X7] 0.351852029213562\n",
       "\\item[X8] 0.738211375618172\n",
       "\\item[X11] 1.42329203766404\n",
       "\\item[X12] 0.46204606551803\n",
       "\\item[X14] -2.43818349501597\n",
       "\\item[X18] 0.826338866677508\n",
       "\\item[X19] 0.780614348262876\n",
       "\\item[X20] 0.490329972496041\n",
       "\\end{description*}\n"
      ],
      "text/markdown": [
       "(Intercept)\n",
       ":   -0.200436940618195X1\n",
       ":   -0.631896678963695X3\n",
       ":   -0.659336936437764X4\n",
       ":   1.65020505236265X5\n",
       ":   0.17769052951172X6\n",
       ":   -0.848233494430316X7\n",
       ":   0.351852029213562X8\n",
       ":   0.738211375618172X11\n",
       ":   1.42329203766404X12\n",
       ":   0.46204606551803X14\n",
       ":   -2.43818349501597X18\n",
       ":   0.826338866677508X19\n",
       ":   0.780614348262876X20\n",
       ":   0.490329972496041\n",
       "\n"
      ],
      "text/plain": [
       "(Intercept)          X1          X3          X4          X5          X6 \n",
       " -0.2004369  -0.6318967  -0.6593369   1.6502051   0.1776905  -0.8482335 \n",
       "         X7          X8         X11         X12         X14         X18 \n",
       "  0.3518520   0.7382114   1.4232920   0.4620461  -2.4381835   0.8263389 \n",
       "        X19         X20 \n",
       "  0.7806143   0.4903300 "
      ]
     },
     "metadata": {},
     "output_type": "display_data"
    }
   ],
   "source": [
    "which(beta==0)\n",
    "coef(bestsubset.model,id=13)"
   ]
  },
  {
   "cell_type": "markdown",
   "metadata": {},
   "source": [
    "The model with 13 variables has caught all the zeros in the actual model and has excluded them."
   ]
  },
  {
   "cell_type": "markdown",
   "metadata": {},
   "source": [
    "## (g)"
   ]
  },
  {
   "cell_type": "code",
   "execution_count": 245,
   "metadata": {
    "collapsed": false
   },
   "outputs": [
    {
     "data": {
      "image/png": "[encoded data removed]",
      "text/plain": [
       "plot without title"
      ]
     },
     "metadata": {},
     "output_type": "display_data"
    }
   ],
   "source": [
    "b=beta\n",
    "b.hat = beta\n",
    "b.hat = data.frame(b)\n",
    "rownames(b.hat)=names(coef(bestsubset.model,id=20))[-1]\n",
    "val = rep(NA,20)\n",
    "for(i in 1:20){\n",
    "    coef_vec = coef(bestsubset.model,id=i)\n",
    "    match  = rownames(b.hat) %in% names(coef_vec)\n",
    "    b.hat[match,]=coef_vec[-1]\n",
    "    b.hat[!match,]=0\n",
    "    val[i]=sqrt(sum((b-b.hat)^2))\n",
    "}\n",
    "plot(val,ylab=\"sqrt of sum of squared error of coefficients\",xlab=\"no. of variables\",type=\"b\")"
   ]
  },
  {
   "cell_type": "code",
   "execution_count": 238,
   "metadata": {
    "collapsed": false
   },
   "outputs": [
    {
     "data": {
      "text/html": [
       "13"
      ],
      "text/latex": [
       "13"
      ],
      "text/markdown": [
       "13"
      ],
      "text/plain": [
       "[1] 13"
      ]
     },
     "metadata": {},
     "output_type": "display_data"
    }
   ],
   "source": [
    "which.min(val)"
   ]
  },
  {
   "cell_type": "markdown",
   "metadata": {},
   "source": [
    "The graph seems similar to graph of test MSE in (d)"
   ]
  },
  {
   "cell_type": "code",
   "execution_count": null,
   "metadata": {
    "collapsed": true
   },
   "outputs": [],
   "source": []
  }
 ],
 "metadata": {
  "kernelspec": {
   "display_name": "R",
   "language": "R",
   "name": "ir"
  },
  "language_info": {
   "codemirror_mode": "r",
   "file_extension": ".r",
   "mimetype": "text/x-r-source",
   "name": "R",
   "pygments_lexer": "r",
   "version": "3.2.2"
  }
 },
 "nbformat": 4,
 "nbformat_minor": 0
}
